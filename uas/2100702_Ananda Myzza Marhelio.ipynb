{
 "cells": [
  {
   "cell_type": "markdown",
   "id": "8fb12ea2",
   "metadata": {},
   "source": [
    "# UAS DATA MINING & WAREHOUSE\n",
    "###### NAMA: ANANDA MYZZA MAHELIO\n",
    "###### NIM: 2100702"
   ]
  },
  {
   "cell_type": "code",
   "execution_count": 1,
   "id": "1b01af9b",
   "metadata": {},
   "outputs": [],
   "source": [
    "import pandas as pd\n",
    "import numpy as np\n",
    "import seaborn as sns\n",
    "import matplotlib.pyplot as plt"
   ]
  },
  {
   "cell_type": "code",
   "execution_count": 2,
   "id": "36c5c631",
   "metadata": {},
   "outputs": [],
   "source": [
    "# Import data csv, saya mengimport ke-6 dataset tersebut dikarenakan:\n",
    "# df1 = Ketidakcukupan pangan dapat merepresentasikan umur panjang & hidup sehat serta standar hidup yang layak.\n",
    "# df2 & df5 = Proporsi hidup dibawah 50% merepresentasikan standar hidup yang layak.\n",
    "# df3 & df4 = Tidak buta huruf di atas 15 tahun & penduduk trampil TIK merepresentasikan Pengetahuan.\n",
    "df1 = pd.read_csv(\"D:\\\\KULIAH\\\\SEMESTER 3\\\\Data Mining\\\\UAS\\\\Datasets\\\\ketidak_cukupan_pangan_prov.csv\")\n",
    "df2 = pd.read_csv(\"D:\\\\KULIAH\\\\SEMESTER 3\\\\Data Mining\\\\UAS\\\\Datasets\\\\proporsi_hidup_dibawah_50_persen_median_pendapatan.csv\")\n",
    "df3 = pd.read_csv(\"D:\\\\KULIAH\\\\SEMESTER 3\\\\Data Mining\\\\UAS\\\\Datasets\\\\melek_huruf_diatas15.csv\")\n",
    "df4 = pd.read_csv(\"D:\\\\KULIAH\\\\SEMESTER 3\\\\Data Mining\\\\UAS\\\\Datasets\\\\persen_penduduk_trampil_tik.csv\")\n",
    "df5 = pd.read_csv(\"D:\\\\KULIAH\\\\SEMESTER 3\\\\Data Mining\\\\UAS\\\\Datasets\\\\persen_rumah_dgn_fasilitas_cuci_tangan_sabun.csv\")\n",
    "df6 = pd.read_csv(\"D:\\\\KULIAH\\\\SEMESTER 3\\\\Data Mining\\\\UAS\\\\Datasets\\\\pmi.csv\")"
   ]
  },
  {
   "cell_type": "markdown",
   "id": "c74d7ae3",
   "metadata": {},
   "source": [
    "# PRAPROSES "
   ]
  },
  {
   "cell_type": "code",
   "execution_count": 3,
   "id": "17528e40",
   "metadata": {},
   "outputs": [],
   "source": [
    "# Menggabungkan seluruh data yang ada dalam 1 dataframe.\n",
    "dfM1 = pd.merge(df1, df2, on=['prov', 'tahun'])\n",
    "dfM2 = pd.merge(df3, df4, on=['prov', 'tahun'])\n",
    "dfM3 = pd.merge(df5, df6, on=['prov', 'tahun'])\n",
    "dfM4 = pd.merge(dfM1, dfM2, on=['prov', 'tahun'])\n",
    "df = pd.merge(dfM3, dfM4, on=['prov', 'tahun'])"
   ]
  },
  {
   "cell_type": "code",
   "execution_count": 4,
   "id": "9eb8ef7e",
   "metadata": {},
   "outputs": [
    {
     "data": {
      "text/html": [
       "<div>\n",
       "<style scoped>\n",
       "    .dataframe tbody tr th:only-of-type {\n",
       "        vertical-align: middle;\n",
       "    }\n",
       "\n",
       "    .dataframe tbody tr th {\n",
       "        vertical-align: top;\n",
       "    }\n",
       "\n",
       "    .dataframe thead th {\n",
       "        text-align: right;\n",
       "    }\n",
       "</style>\n",
       "<table border=\"1\" class=\"dataframe\">\n",
       "  <thead>\n",
       "    <tr style=\"text-align: right;\">\n",
       "      <th></th>\n",
       "      <th>tahun</th>\n",
       "      <th>persen_rumah_dgn_fasilitas_cuci_tangan_sabun</th>\n",
       "      <th>prov</th>\n",
       "      <th>kategori_pmi</th>\n",
       "      <th>pct_tdk_cukup_pangan</th>\n",
       "      <th>proporsi_hidup_dibawah_50_persen_median_pendapatan</th>\n",
       "      <th>melek_huruf_diatas15</th>\n",
       "      <th>persen_penduduk_trampil_tik</th>\n",
       "    </tr>\n",
       "  </thead>\n",
       "  <tbody>\n",
       "    <tr>\n",
       "      <th>0</th>\n",
       "      <td>2021</td>\n",
       "      <td>69.31</td>\n",
       "      <td>ACEH</td>\n",
       "      <td>TINGGI</td>\n",
       "      <td>6.90</td>\n",
       "      <td>9.98</td>\n",
       "      <td>98.24</td>\n",
       "      <td>60.21</td>\n",
       "    </tr>\n",
       "    <tr>\n",
       "      <th>1</th>\n",
       "      <td>2021</td>\n",
       "      <td>68.22</td>\n",
       "      <td>SUMATERA UTARA</td>\n",
       "      <td>TINGGI</td>\n",
       "      <td>6.33</td>\n",
       "      <td>5.87</td>\n",
       "      <td>99.19</td>\n",
       "      <td>67.41</td>\n",
       "    </tr>\n",
       "    <tr>\n",
       "      <th>2</th>\n",
       "      <td>2021</td>\n",
       "      <td>82.09</td>\n",
       "      <td>SUMATERA BARAT</td>\n",
       "      <td>TINGGI</td>\n",
       "      <td>6.02</td>\n",
       "      <td>2.47</td>\n",
       "      <td>99.26</td>\n",
       "      <td>68.00</td>\n",
       "    </tr>\n",
       "    <tr>\n",
       "      <th>3</th>\n",
       "      <td>2021</td>\n",
       "      <td>74.93</td>\n",
       "      <td>RIAU</td>\n",
       "      <td>TINGGI</td>\n",
       "      <td>10.61</td>\n",
       "      <td>2.52</td>\n",
       "      <td>99.2</td>\n",
       "      <td>70.69</td>\n",
       "    </tr>\n",
       "    <tr>\n",
       "      <th>4</th>\n",
       "      <td>2021</td>\n",
       "      <td>73.41</td>\n",
       "      <td>JAMBI</td>\n",
       "      <td>TINGGI</td>\n",
       "      <td>9.25</td>\n",
       "      <td>5.91</td>\n",
       "      <td>98.08</td>\n",
       "      <td>64.47</td>\n",
       "    </tr>\n",
       "  </tbody>\n",
       "</table>\n",
       "</div>"
      ],
      "text/plain": [
       "   tahun  persen_rumah_dgn_fasilitas_cuci_tangan_sabun            prov  \\\n",
       "0   2021                                         69.31            ACEH   \n",
       "1   2021                                         68.22  SUMATERA UTARA   \n",
       "2   2021                                         82.09  SUMATERA BARAT   \n",
       "3   2021                                         74.93            RIAU   \n",
       "4   2021                                         73.41           JAMBI   \n",
       "\n",
       "  kategori_pmi  pct_tdk_cukup_pangan  \\\n",
       "0       TINGGI                  6.90   \n",
       "1       TINGGI                  6.33   \n",
       "2       TINGGI                  6.02   \n",
       "3       TINGGI                 10.61   \n",
       "4       TINGGI                  9.25   \n",
       "\n",
       "   proporsi_hidup_dibawah_50_persen_median_pendapatan melek_huruf_diatas15  \\\n",
       "0                                               9.98                 98.24   \n",
       "1                                               5.87                 99.19   \n",
       "2                                               2.47                 99.26   \n",
       "3                                               2.52                  99.2   \n",
       "4                                               5.91                 98.08   \n",
       "\n",
       "   persen_penduduk_trampil_tik  \n",
       "0                        60.21  \n",
       "1                        67.41  \n",
       "2                        68.00  \n",
       "3                        70.69  \n",
       "4                        64.47  "
      ]
     },
     "execution_count": 4,
     "metadata": {},
     "output_type": "execute_result"
    }
   ],
   "source": [
    "# Cek hasil merge.\n",
    "df.head()"
   ]
  },
  {
   "cell_type": "code",
   "execution_count": 5,
   "id": "0fb3e65d",
   "metadata": {},
   "outputs": [
    {
     "name": "stdout",
     "output_type": "stream",
     "text": [
      "<class 'pandas.core.frame.DataFrame'>\n",
      "Int64Index: 136 entries, 0 to 135\n",
      "Data columns (total 8 columns):\n",
      " #   Column                                              Non-Null Count  Dtype  \n",
      "---  ------                                              --------------  -----  \n",
      " 0   tahun                                               136 non-null    int64  \n",
      " 1   persen_rumah_dgn_fasilitas_cuci_tangan_sabun        136 non-null    float64\n",
      " 2   prov                                                136 non-null    object \n",
      " 3   kategori_pmi                                        136 non-null    object \n",
      " 4   pct_tdk_cukup_pangan                                136 non-null    float64\n",
      " 5   proporsi_hidup_dibawah_50_persen_median_pendapatan  136 non-null    float64\n",
      " 6   melek_huruf_diatas15                                136 non-null    object \n",
      " 7   persen_penduduk_trampil_tik                         136 non-null    float64\n",
      "dtypes: float64(4), int64(1), object(3)\n",
      "memory usage: 9.6+ KB\n"
     ]
    }
   ],
   "source": [
    "# Cek tipe data, apakah ada yang tidak sesuai.\n",
    "df.info()"
   ]
  },
  {
   "cell_type": "code",
   "execution_count": 6,
   "id": "ee828167",
   "metadata": {},
   "outputs": [],
   "source": [
    "# Mengganti tipe data yang tidak sesuai.\n",
    "df[\"prov\"] = df[\"prov\"].astype(\"category\")\n",
    "df[\"melek_huruf_diatas15\"] = df[\"melek_huruf_diatas15\"].astype(\"float64\")"
   ]
  },
  {
   "cell_type": "code",
   "execution_count": 7,
   "id": "adef34d6",
   "metadata": {},
   "outputs": [
    {
     "name": "stdout",
     "output_type": "stream",
     "text": [
      "<class 'pandas.core.frame.DataFrame'>\n",
      "Int64Index: 136 entries, 0 to 135\n",
      "Data columns (total 8 columns):\n",
      " #   Column                                              Non-Null Count  Dtype   \n",
      "---  ------                                              --------------  -----   \n",
      " 0   tahun                                               136 non-null    int64   \n",
      " 1   persen_rumah_dgn_fasilitas_cuci_tangan_sabun        136 non-null    float64 \n",
      " 2   prov                                                136 non-null    category\n",
      " 3   kategori_pmi                                        136 non-null    object  \n",
      " 4   pct_tdk_cukup_pangan                                136 non-null    float64 \n",
      " 5   proporsi_hidup_dibawah_50_persen_median_pendapatan  136 non-null    float64 \n",
      " 6   melek_huruf_diatas15                                136 non-null    float64 \n",
      " 7   persen_penduduk_trampil_tik                         136 non-null    float64 \n",
      "dtypes: category(1), float64(5), int64(1), object(1)\n",
      "memory usage: 9.9+ KB\n"
     ]
    }
   ],
   "source": [
    "# Mengecek hasil penggantian tipe data.\n",
    "df.info()"
   ]
  },
  {
   "cell_type": "code",
   "execution_count": 8,
   "id": "9907c820",
   "metadata": {},
   "outputs": [
    {
     "data": {
      "text/plain": [
       "2021    34\n",
       "2020    34\n",
       "2019    34\n",
       "2018    34\n",
       "Name: tahun, dtype: int64"
      ]
     },
     "execution_count": 8,
     "metadata": {},
     "output_type": "execute_result"
    }
   ],
   "source": [
    "# Mengecek banyaknya tahun dalam data, data tahun selain di bawah hilang karena hasil merge di line 4.\n",
    "df.tahun.value_counts()"
   ]
  },
  {
   "cell_type": "code",
   "execution_count": 9,
   "id": "3b5dd315",
   "metadata": {},
   "outputs": [
    {
     "data": {
      "text/plain": [
       "tahun                                                 0\n",
       "persen_rumah_dgn_fasilitas_cuci_tangan_sabun          0\n",
       "prov                                                  0\n",
       "kategori_pmi                                          0\n",
       "pct_tdk_cukup_pangan                                  0\n",
       "proporsi_hidup_dibawah_50_persen_median_pendapatan    0\n",
       "melek_huruf_diatas15                                  0\n",
       "persen_penduduk_trampil_tik                           0\n",
       "dtype: int64"
      ]
     },
     "execution_count": 9,
     "metadata": {},
     "output_type": "execute_result"
    }
   ],
   "source": [
    "# Cek data yang NULL, dataframe tidak memiliki NULL karena hasil merge yang tidak memasukan tahun yang tidak ada dalam csv yang lain.\n",
    "df.isna().sum()"
   ]
  },
  {
   "cell_type": "code",
   "execution_count": 10,
   "id": "e14f539d",
   "metadata": {},
   "outputs": [
    {
     "data": {
      "text/plain": [
       "array(['TINGGI', 'SEDANG', 'SANGAT TINGGI'], dtype=object)"
      ]
     },
     "execution_count": 10,
     "metadata": {},
     "output_type": "execute_result"
    }
   ],
   "source": [
    "# Cek data kategori pmi\n",
    "df.kategori_pmi.unique()"
   ]
  },
  {
   "cell_type": "code",
   "execution_count": 11,
   "id": "13313fab",
   "metadata": {},
   "outputs": [],
   "source": [
    "# Mengubah kategori pmi menjadi numerik\n",
    "df[\"kategori_pmi\"] = df[\"kategori_pmi\"].replace({\"TINGGI\":\"75\",\"SEDANG\":\"65\", \"SANGAT RENDAH\":\"55\", \"SANGAT TINGGI\":\"85\"})"
   ]
  },
  {
   "cell_type": "code",
   "execution_count": 12,
   "id": "7c952d87",
   "metadata": {},
   "outputs": [
    {
     "name": "stdout",
     "output_type": "stream",
     "text": [
      "<class 'pandas.core.frame.DataFrame'>\n",
      "Int64Index: 136 entries, 0 to 135\n",
      "Data columns (total 8 columns):\n",
      " #   Column                                              Non-Null Count  Dtype   \n",
      "---  ------                                              --------------  -----   \n",
      " 0   tahun                                               136 non-null    int64   \n",
      " 1   persen_rumah_dgn_fasilitas_cuci_tangan_sabun        136 non-null    float64 \n",
      " 2   prov                                                136 non-null    category\n",
      " 3   kategori_pmi                                        136 non-null    int64   \n",
      " 4   pct_tdk_cukup_pangan                                136 non-null    float64 \n",
      " 5   proporsi_hidup_dibawah_50_persen_median_pendapatan  136 non-null    float64 \n",
      " 6   melek_huruf_diatas15                                136 non-null    float64 \n",
      " 7   persen_penduduk_trampil_tik                         136 non-null    float64 \n",
      "dtypes: category(1), float64(5), int64(2)\n",
      "memory usage: 9.9 KB\n"
     ]
    }
   ],
   "source": [
    "# Mengubah tipe data menjadi integer\n",
    "df[\"kategori_pmi\"] = df[\"kategori_pmi\"].astype(\"int64\")\n",
    "df.info()"
   ]
  },
  {
   "cell_type": "markdown",
   "id": "373fda77",
   "metadata": {},
   "source": [
    "# EDA"
   ]
  },
  {
   "cell_type": "code",
   "execution_count": 13,
   "id": "7f463a15",
   "metadata": {},
   "outputs": [
    {
     "data": {
      "text/plain": [
       "(array([ 0,  1,  2,  3,  4,  5,  6,  7,  8,  9, 10, 11, 12, 13, 14, 15, 16,\n",
       "        17, 18, 19, 20, 21, 22, 23, 24, 25, 26, 27, 28, 29, 30, 31, 32, 33]),\n",
       " [Text(0, 0, 'ACEH'),\n",
       "  Text(1, 0, 'BALI'),\n",
       "  Text(2, 0, 'BANTEN'),\n",
       "  Text(3, 0, 'BENGKULU'),\n",
       "  Text(4, 0, 'DI YOGYAKARTA'),\n",
       "  Text(5, 0, 'DKI JAKARTA'),\n",
       "  Text(6, 0, 'GORONTALO'),\n",
       "  Text(7, 0, 'JAMBI'),\n",
       "  Text(8, 0, 'JAWA BARAT'),\n",
       "  Text(9, 0, 'JAWA TENGAH'),\n",
       "  Text(10, 0, 'JAWA TIMUR'),\n",
       "  Text(11, 0, 'KALIMANTAN BARAT'),\n",
       "  Text(12, 0, 'KALIMANTAN SELATAN'),\n",
       "  Text(13, 0, 'KALIMANTAN TENGAH'),\n",
       "  Text(14, 0, 'KALIMANTAN TIMUR'),\n",
       "  Text(15, 0, 'KALIMANTAN UTARA'),\n",
       "  Text(16, 0, 'KEP. BANGKA BELITUNG'),\n",
       "  Text(17, 0, 'KEP. RIAU'),\n",
       "  Text(18, 0, 'LAMPUNG'),\n",
       "  Text(19, 0, 'MALUKU'),\n",
       "  Text(20, 0, 'MALUKU UTARA'),\n",
       "  Text(21, 0, 'NUSA TENGGARA BARAT'),\n",
       "  Text(22, 0, 'NUSA TENGGARA TIMUR'),\n",
       "  Text(23, 0, 'PAPUA'),\n",
       "  Text(24, 0, 'PAPUA BARAT'),\n",
       "  Text(25, 0, 'RIAU'),\n",
       "  Text(26, 0, 'SULAWESI BARAT'),\n",
       "  Text(27, 0, 'SULAWESI SELATAN'),\n",
       "  Text(28, 0, 'SULAWESI TENGAH'),\n",
       "  Text(29, 0, 'SULAWESI TENGGARA'),\n",
       "  Text(30, 0, 'SULAWESI UTARA'),\n",
       "  Text(31, 0, 'SUMATERA BARAT'),\n",
       "  Text(32, 0, 'SUMATERA SELATAN'),\n",
       "  Text(33, 0, 'SUMATERA UTARA')])"
      ]
     },
     "execution_count": 13,
     "metadata": {},
     "output_type": "execute_result"
    },
    {
     "data": {
      "image/png": "[encoded data removed]",
      "text/plain": [
       "<Figure size 1440x504 with 1 Axes>"
      ]
     },
     "metadata": {
      "needs_background": "light"
     },
     "output_type": "display_data"
    }
   ],
   "source": [
    "# Melihat apakah proporsi hidup di setiap provinsi naik atau tidak.\n",
    "fig, ax = plt.subplots(figsize=(20, 7))\n",
    "sns.barplot(x=\"prov\",y=\"proporsi_hidup_dibawah_50_persen_median_pendapatan\", hue=\"tahun\", data=df, ci=None).set(title=\"Tabel Proporsi Hidup Di bawah 50% Median Pendapatan\")\n",
    "plt.xticks(rotation=90)"
   ]
  },
  {
   "cell_type": "code",
   "execution_count": 14,
   "id": "eee447da",
   "metadata": {},
   "outputs": [
    {
     "data": {
      "text/plain": [
       "(array([ 0,  1,  2,  3,  4,  5,  6,  7,  8,  9, 10, 11, 12, 13, 14, 15, 16,\n",
       "        17, 18, 19, 20, 21, 22, 23, 24, 25, 26, 27, 28, 29, 30, 31, 32, 33]),\n",
       " [Text(0, 0, 'ACEH'),\n",
       "  Text(1, 0, 'BALI'),\n",
       "  Text(2, 0, 'BANTEN'),\n",
       "  Text(3, 0, 'BENGKULU'),\n",
       "  Text(4, 0, 'DI YOGYAKARTA'),\n",
       "  Text(5, 0, 'DKI JAKARTA'),\n",
       "  Text(6, 0, 'GORONTALO'),\n",
       "  Text(7, 0, 'JAMBI'),\n",
       "  Text(8, 0, 'JAWA BARAT'),\n",
       "  Text(9, 0, 'JAWA TENGAH'),\n",
       "  Text(10, 0, 'JAWA TIMUR'),\n",
       "  Text(11, 0, 'KALIMANTAN BARAT'),\n",
       "  Text(12, 0, 'KALIMANTAN SELATAN'),\n",
       "  Text(13, 0, 'KALIMANTAN TENGAH'),\n",
       "  Text(14, 0, 'KALIMANTAN TIMUR'),\n",
       "  Text(15, 0, 'KALIMANTAN UTARA'),\n",
       "  Text(16, 0, 'KEP. BANGKA BELITUNG'),\n",
       "  Text(17, 0, 'KEP. RIAU'),\n",
       "  Text(18, 0, 'LAMPUNG'),\n",
       "  Text(19, 0, 'MALUKU'),\n",
       "  Text(20, 0, 'MALUKU UTARA'),\n",
       "  Text(21, 0, 'NUSA TENGGARA BARAT'),\n",
       "  Text(22, 0, 'NUSA TENGGARA TIMUR'),\n",
       "  Text(23, 0, 'PAPUA'),\n",
       "  Text(24, 0, 'PAPUA BARAT'),\n",
       "  Text(25, 0, 'RIAU'),\n",
       "  Text(26, 0, 'SULAWESI BARAT'),\n",
       "  Text(27, 0, 'SULAWESI SELATAN'),\n",
       "  Text(28, 0, 'SULAWESI TENGAH'),\n",
       "  Text(29, 0, 'SULAWESI TENGGARA'),\n",
       "  Text(30, 0, 'SULAWESI UTARA'),\n",
       "  Text(31, 0, 'SUMATERA BARAT'),\n",
       "  Text(32, 0, 'SUMATERA SELATAN'),\n",
       "  Text(33, 0, 'SUMATERA UTARA')])"
      ]
     },
     "execution_count": 14,
     "metadata": {},
     "output_type": "execute_result"
    },
    {
     "data": {
      "image/png": "[encoded data removed]",
      "text/plain": [
       "<Figure size 1440x504 with 1 Axes>"
      ]
     },
     "metadata": {
      "needs_background": "light"
     },
     "output_type": "display_data"
    }
   ],
   "source": [
    "# Visualisasi tabel untuk melihat persentase melek huruf di setiap provinsi, dapat dilihat bahwa hampir semua provinsi berada di atas 90% kecuali papua\n",
    "fig, ax = plt.subplots(figsize=(20, 7))\n",
    "sns.barplot(x=\"prov\", y=\"melek_huruf_diatas15\", data=df).set(title=\"Tabel Persentase Melek Huruf di Setiap Provinsi\")\n",
    "plt.xticks(rotation=90)"
   ]
  },
  {
   "cell_type": "code",
   "execution_count": 15,
   "id": "28b93556",
   "metadata": {},
   "outputs": [
    {
     "data": {
      "text/plain": [
       "(array([ 0,  1,  2,  3,  4,  5,  6,  7,  8,  9, 10, 11, 12, 13, 14, 15, 16,\n",
       "        17, 18, 19, 20, 21, 22, 23, 24, 25, 26, 27, 28, 29, 30, 31, 32, 33]),\n",
       " [Text(0, 0, 'ACEH'),\n",
       "  Text(1, 0, 'BALI'),\n",
       "  Text(2, 0, 'BANTEN'),\n",
       "  Text(3, 0, 'BENGKULU'),\n",
       "  Text(4, 0, 'DI YOGYAKARTA'),\n",
       "  Text(5, 0, 'DKI JAKARTA'),\n",
       "  Text(6, 0, 'GORONTALO'),\n",
       "  Text(7, 0, 'JAMBI'),\n",
       "  Text(8, 0, 'JAWA BARAT'),\n",
       "  Text(9, 0, 'JAWA TENGAH'),\n",
       "  Text(10, 0, 'JAWA TIMUR'),\n",
       "  Text(11, 0, 'KALIMANTAN BARAT'),\n",
       "  Text(12, 0, 'KALIMANTAN SELATAN'),\n",
       "  Text(13, 0, 'KALIMANTAN TENGAH'),\n",
       "  Text(14, 0, 'KALIMANTAN TIMUR'),\n",
       "  Text(15, 0, 'KALIMANTAN UTARA'),\n",
       "  Text(16, 0, 'KEP. BANGKA BELITUNG'),\n",
       "  Text(17, 0, 'KEP. RIAU'),\n",
       "  Text(18, 0, 'LAMPUNG'),\n",
       "  Text(19, 0, 'MALUKU'),\n",
       "  Text(20, 0, 'MALUKU UTARA'),\n",
       "  Text(21, 0, 'NUSA TENGGARA BARAT'),\n",
       "  Text(22, 0, 'NUSA TENGGARA TIMUR'),\n",
       "  Text(23, 0, 'PAPUA'),\n",
       "  Text(24, 0, 'PAPUA BARAT'),\n",
       "  Text(25, 0, 'RIAU'),\n",
       "  Text(26, 0, 'SULAWESI BARAT'),\n",
       "  Text(27, 0, 'SULAWESI SELATAN'),\n",
       "  Text(28, 0, 'SULAWESI TENGAH'),\n",
       "  Text(29, 0, 'SULAWESI TENGGARA'),\n",
       "  Text(30, 0, 'SULAWESI UTARA'),\n",
       "  Text(31, 0, 'SUMATERA BARAT'),\n",
       "  Text(32, 0, 'SUMATERA SELATAN'),\n",
       "  Text(33, 0, 'SUMATERA UTARA')])"
      ]
     },
     "execution_count": 15,
     "metadata": {},
     "output_type": "execute_result"
    },
    {
     "data": {
      "image/png": "[encoded data removed]",
      "text/plain": [
       "<Figure size 1440x504 with 1 Axes>"
      ]
     },
     "metadata": {
      "needs_background": "light"
     },
     "output_type": "display_data"
    }
   ],
   "source": [
    "fig, ax = plt.subplots(figsize=(20, 7))\n",
    "sns.barplot(x=\"prov\", y=\"persen_penduduk_trampil_tik\", hue=\"tahun\", data=df).set(title='Tabel Kenaika Trampil TIK')\n",
    "plt.xticks(rotation=90)"
   ]
  },
  {
   "cell_type": "markdown",
   "id": "9ded2205",
   "metadata": {},
   "source": [
    "# MODELING"
   ]
  },
  {
   "cell_type": "code",
   "execution_count": 16,
   "id": "c301f726",
   "metadata": {},
   "outputs": [],
   "source": [
    "df_temp = df.copy()"
   ]
  },
  {
   "cell_type": "code",
   "execution_count": 17,
   "id": "65977b4b",
   "metadata": {},
   "outputs": [
    {
     "name": "stdout",
     "output_type": "stream",
     "text": [
      "<class 'pandas.core.frame.DataFrame'>\n",
      "Int64Index: 136 entries, 0 to 135\n",
      "Data columns (total 8 columns):\n",
      " #   Column                                              Non-Null Count  Dtype   \n",
      "---  ------                                              --------------  -----   \n",
      " 0   tahun                                               136 non-null    int64   \n",
      " 1   persen_rumah_dgn_fasilitas_cuci_tangan_sabun        136 non-null    float64 \n",
      " 2   prov                                                136 non-null    category\n",
      " 3   kategori_pmi                                        136 non-null    int64   \n",
      " 4   pct_tdk_cukup_pangan                                136 non-null    float64 \n",
      " 5   proporsi_hidup_dibawah_50_persen_median_pendapatan  136 non-null    float64 \n",
      " 6   melek_huruf_diatas15                                136 non-null    float64 \n",
      " 7   persen_penduduk_trampil_tik                         136 non-null    float64 \n",
      "dtypes: category(1), float64(5), int64(2)\n",
      "memory usage: 9.9 KB\n"
     ]
    }
   ],
   "source": [
    "df_temp.info()"
   ]
  },
  {
   "cell_type": "code",
   "execution_count": 18,
   "id": "8ab4a28b",
   "metadata": {},
   "outputs": [],
   "source": [
    "df_temp = pd.get_dummies(data=df_temp, columns=['tahun', 'prov'])"
   ]
  },
  {
   "cell_type": "code",
   "execution_count": 19,
   "id": "7449c496",
   "metadata": {},
   "outputs": [
    {
     "data": {
      "text/html": [
       "<div>\n",
       "<style scoped>\n",
       "    .dataframe tbody tr th:only-of-type {\n",
       "        vertical-align: middle;\n",
       "    }\n",
       "\n",
       "    .dataframe tbody tr th {\n",
       "        vertical-align: top;\n",
       "    }\n",
       "\n",
       "    .dataframe thead th {\n",
       "        text-align: right;\n",
       "    }\n",
       "</style>\n",
       "<table border=\"1\" class=\"dataframe\">\n",
       "  <thead>\n",
       "    <tr style=\"text-align: right;\">\n",
       "      <th></th>\n",
       "      <th>persen_rumah_dgn_fasilitas_cuci_tangan_sabun</th>\n",
       "      <th>kategori_pmi</th>\n",
       "      <th>pct_tdk_cukup_pangan</th>\n",
       "      <th>proporsi_hidup_dibawah_50_persen_median_pendapatan</th>\n",
       "      <th>melek_huruf_diatas15</th>\n",
       "      <th>persen_penduduk_trampil_tik</th>\n",
       "      <th>tahun_2018</th>\n",
       "      <th>tahun_2019</th>\n",
       "      <th>tahun_2020</th>\n",
       "      <th>tahun_2021</th>\n",
       "      <th>...</th>\n",
       "      <th>prov_PAPUA BARAT</th>\n",
       "      <th>prov_RIAU</th>\n",
       "      <th>prov_SULAWESI BARAT</th>\n",
       "      <th>prov_SULAWESI SELATAN</th>\n",
       "      <th>prov_SULAWESI TENGAH</th>\n",
       "      <th>prov_SULAWESI TENGGARA</th>\n",
       "      <th>prov_SULAWESI UTARA</th>\n",
       "      <th>prov_SUMATERA BARAT</th>\n",
       "      <th>prov_SUMATERA SELATAN</th>\n",
       "      <th>prov_SUMATERA UTARA</th>\n",
       "    </tr>\n",
       "  </thead>\n",
       "  <tbody>\n",
       "    <tr>\n",
       "      <th>0</th>\n",
       "      <td>69.31</td>\n",
       "      <td>75</td>\n",
       "      <td>6.90</td>\n",
       "      <td>9.98</td>\n",
       "      <td>98.24</td>\n",
       "      <td>60.21</td>\n",
       "      <td>0</td>\n",
       "      <td>0</td>\n",
       "      <td>0</td>\n",
       "      <td>1</td>\n",
       "      <td>...</td>\n",
       "      <td>0</td>\n",
       "      <td>0</td>\n",
       "      <td>0</td>\n",
       "      <td>0</td>\n",
       "      <td>0</td>\n",
       "      <td>0</td>\n",
       "      <td>0</td>\n",
       "      <td>0</td>\n",
       "      <td>0</td>\n",
       "      <td>0</td>\n",
       "    </tr>\n",
       "    <tr>\n",
       "      <th>1</th>\n",
       "      <td>68.22</td>\n",
       "      <td>75</td>\n",
       "      <td>6.33</td>\n",
       "      <td>5.87</td>\n",
       "      <td>99.19</td>\n",
       "      <td>67.41</td>\n",
       "      <td>0</td>\n",
       "      <td>0</td>\n",
       "      <td>0</td>\n",
       "      <td>1</td>\n",
       "      <td>...</td>\n",
       "      <td>0</td>\n",
       "      <td>0</td>\n",
       "      <td>0</td>\n",
       "      <td>0</td>\n",
       "      <td>0</td>\n",
       "      <td>0</td>\n",
       "      <td>0</td>\n",
       "      <td>0</td>\n",
       "      <td>0</td>\n",
       "      <td>1</td>\n",
       "    </tr>\n",
       "    <tr>\n",
       "      <th>2</th>\n",
       "      <td>82.09</td>\n",
       "      <td>75</td>\n",
       "      <td>6.02</td>\n",
       "      <td>2.47</td>\n",
       "      <td>99.26</td>\n",
       "      <td>68.00</td>\n",
       "      <td>0</td>\n",
       "      <td>0</td>\n",
       "      <td>0</td>\n",
       "      <td>1</td>\n",
       "      <td>...</td>\n",
       "      <td>0</td>\n",
       "      <td>0</td>\n",
       "      <td>0</td>\n",
       "      <td>0</td>\n",
       "      <td>0</td>\n",
       "      <td>0</td>\n",
       "      <td>0</td>\n",
       "      <td>1</td>\n",
       "      <td>0</td>\n",
       "      <td>0</td>\n",
       "    </tr>\n",
       "    <tr>\n",
       "      <th>3</th>\n",
       "      <td>74.93</td>\n",
       "      <td>75</td>\n",
       "      <td>10.61</td>\n",
       "      <td>2.52</td>\n",
       "      <td>99.20</td>\n",
       "      <td>70.69</td>\n",
       "      <td>0</td>\n",
       "      <td>0</td>\n",
       "      <td>0</td>\n",
       "      <td>1</td>\n",
       "      <td>...</td>\n",
       "      <td>0</td>\n",
       "      <td>1</td>\n",
       "      <td>0</td>\n",
       "      <td>0</td>\n",
       "      <td>0</td>\n",
       "      <td>0</td>\n",
       "      <td>0</td>\n",
       "      <td>0</td>\n",
       "      <td>0</td>\n",
       "      <td>0</td>\n",
       "    </tr>\n",
       "    <tr>\n",
       "      <th>4</th>\n",
       "      <td>73.41</td>\n",
       "      <td>75</td>\n",
       "      <td>9.25</td>\n",
       "      <td>5.91</td>\n",
       "      <td>98.08</td>\n",
       "      <td>64.47</td>\n",
       "      <td>0</td>\n",
       "      <td>0</td>\n",
       "      <td>0</td>\n",
       "      <td>1</td>\n",
       "      <td>...</td>\n",
       "      <td>0</td>\n",
       "      <td>0</td>\n",
       "      <td>0</td>\n",
       "      <td>0</td>\n",
       "      <td>0</td>\n",
       "      <td>0</td>\n",
       "      <td>0</td>\n",
       "      <td>0</td>\n",
       "      <td>0</td>\n",
       "      <td>0</td>\n",
       "    </tr>\n",
       "  </tbody>\n",
       "</table>\n",
       "<p>5 rows × 44 columns</p>\n",
       "</div>"
      ],
      "text/plain": [
       "   persen_rumah_dgn_fasilitas_cuci_tangan_sabun  kategori_pmi  \\\n",
       "0                                         69.31            75   \n",
       "1                                         68.22            75   \n",
       "2                                         82.09            75   \n",
       "3                                         74.93            75   \n",
       "4                                         73.41            75   \n",
       "\n",
       "   pct_tdk_cukup_pangan  proporsi_hidup_dibawah_50_persen_median_pendapatan  \\\n",
       "0                  6.90                                               9.98    \n",
       "1                  6.33                                               5.87    \n",
       "2                  6.02                                               2.47    \n",
       "3                 10.61                                               2.52    \n",
       "4                  9.25                                               5.91    \n",
       "\n",
       "   melek_huruf_diatas15  persen_penduduk_trampil_tik  tahun_2018  tahun_2019  \\\n",
       "0                 98.24                        60.21           0           0   \n",
       "1                 99.19                        67.41           0           0   \n",
       "2                 99.26                        68.00           0           0   \n",
       "3                 99.20                        70.69           0           0   \n",
       "4                 98.08                        64.47           0           0   \n",
       "\n",
       "   tahun_2020  tahun_2021  ...  prov_PAPUA BARAT  prov_RIAU  \\\n",
       "0           0           1  ...                 0          0   \n",
       "1           0           1  ...                 0          0   \n",
       "2           0           1  ...                 0          0   \n",
       "3           0           1  ...                 0          1   \n",
       "4           0           1  ...                 0          0   \n",
       "\n",
       "   prov_SULAWESI BARAT  prov_SULAWESI SELATAN  prov_SULAWESI TENGAH  \\\n",
       "0                    0                      0                     0   \n",
       "1                    0                      0                     0   \n",
       "2                    0                      0                     0   \n",
       "3                    0                      0                     0   \n",
       "4                    0                      0                     0   \n",
       "\n",
       "   prov_SULAWESI TENGGARA  prov_SULAWESI UTARA  prov_SUMATERA BARAT  \\\n",
       "0                       0                    0                    0   \n",
       "1                       0                    0                    0   \n",
       "2                       0                    0                    1   \n",
       "3                       0                    0                    0   \n",
       "4                       0                    0                    0   \n",
       "\n",
       "   prov_SUMATERA SELATAN  prov_SUMATERA UTARA  \n",
       "0                      0                    0  \n",
       "1                      0                    1  \n",
       "2                      0                    0  \n",
       "3                      0                    0  \n",
       "4                      0                    0  \n",
       "\n",
       "[5 rows x 44 columns]"
      ]
     },
     "execution_count": 19,
     "metadata": {},
     "output_type": "execute_result"
    }
   ],
   "source": [
    "#cek hasil\n",
    "df_temp.head()"
   ]
  },
  {
   "cell_type": "code",
   "execution_count": 20,
   "id": "fcc33599",
   "metadata": {},
   "outputs": [
    {
     "name": "stdout",
     "output_type": "stream",
     "text": [
      "<class 'pandas.core.frame.DataFrame'>\n",
      "Int64Index: 136 entries, 0 to 135\n",
      "Data columns (total 44 columns):\n",
      " #   Column                                              Non-Null Count  Dtype  \n",
      "---  ------                                              --------------  -----  \n",
      " 0   persen_rumah_dgn_fasilitas_cuci_tangan_sabun        136 non-null    float64\n",
      " 1   kategori_pmi                                        136 non-null    int64  \n",
      " 2   pct_tdk_cukup_pangan                                136 non-null    float64\n",
      " 3   proporsi_hidup_dibawah_50_persen_median_pendapatan  136 non-null    float64\n",
      " 4   melek_huruf_diatas15                                136 non-null    float64\n",
      " 5   persen_penduduk_trampil_tik                         136 non-null    float64\n",
      " 6   tahun_2018                                          136 non-null    uint8  \n",
      " 7   tahun_2019                                          136 non-null    uint8  \n",
      " 8   tahun_2020                                          136 non-null    uint8  \n",
      " 9   tahun_2021                                          136 non-null    uint8  \n",
      " 10  prov_ACEH                                           136 non-null    uint8  \n",
      " 11  prov_BALI                                           136 non-null    uint8  \n",
      " 12  prov_BANTEN                                         136 non-null    uint8  \n",
      " 13  prov_BENGKULU                                       136 non-null    uint8  \n",
      " 14  prov_DI YOGYAKARTA                                  136 non-null    uint8  \n",
      " 15  prov_DKI JAKARTA                                    136 non-null    uint8  \n",
      " 16  prov_GORONTALO                                      136 non-null    uint8  \n",
      " 17  prov_JAMBI                                          136 non-null    uint8  \n",
      " 18  prov_JAWA BARAT                                     136 non-null    uint8  \n",
      " 19  prov_JAWA TENGAH                                    136 non-null    uint8  \n",
      " 20  prov_JAWA TIMUR                                     136 non-null    uint8  \n",
      " 21  prov_KALIMANTAN BARAT                               136 non-null    uint8  \n",
      " 22  prov_KALIMANTAN SELATAN                             136 non-null    uint8  \n",
      " 23  prov_KALIMANTAN TENGAH                              136 non-null    uint8  \n",
      " 24  prov_KALIMANTAN TIMUR                               136 non-null    uint8  \n",
      " 25  prov_KALIMANTAN UTARA                               136 non-null    uint8  \n",
      " 26  prov_KEP. BANGKA BELITUNG                           136 non-null    uint8  \n",
      " 27  prov_KEP. RIAU                                      136 non-null    uint8  \n",
      " 28  prov_LAMPUNG                                        136 non-null    uint8  \n",
      " 29  prov_MALUKU                                         136 non-null    uint8  \n",
      " 30  prov_MALUKU UTARA                                   136 non-null    uint8  \n",
      " 31  prov_NUSA TENGGARA BARAT                            136 non-null    uint8  \n",
      " 32  prov_NUSA TENGGARA TIMUR                            136 non-null    uint8  \n",
      " 33  prov_PAPUA                                          136 non-null    uint8  \n",
      " 34  prov_PAPUA BARAT                                    136 non-null    uint8  \n",
      " 35  prov_RIAU                                           136 non-null    uint8  \n",
      " 36  prov_SULAWESI BARAT                                 136 non-null    uint8  \n",
      " 37  prov_SULAWESI SELATAN                               136 non-null    uint8  \n",
      " 38  prov_SULAWESI TENGAH                                136 non-null    uint8  \n",
      " 39  prov_SULAWESI TENGGARA                              136 non-null    uint8  \n",
      " 40  prov_SULAWESI UTARA                                 136 non-null    uint8  \n",
      " 41  prov_SUMATERA BARAT                                 136 non-null    uint8  \n",
      " 42  prov_SUMATERA SELATAN                               136 non-null    uint8  \n",
      " 43  prov_SUMATERA UTARA                                 136 non-null    uint8  \n",
      "dtypes: float64(5), int64(1), uint8(38)\n",
      "memory usage: 12.5 KB\n"
     ]
    }
   ],
   "source": [
    "df_temp.info()"
   ]
  },
  {
   "cell_type": "code",
   "execution_count": 21,
   "id": "dce54f02",
   "metadata": {},
   "outputs": [],
   "source": [
    "from sklearn import preprocessing\n",
    "le = preprocessing.LabelEncoder()\n",
    "le.fit(df_temp[\"kategori_pmi\"])\n",
    "Y = le.transform(df_temp[\"kategori_pmi\"]) "
   ]
  },
  {
   "cell_type": "code",
   "execution_count": 22,
   "id": "49e0c059",
   "metadata": {},
   "outputs": [],
   "source": [
    "#hapus data target pada dataset\n",
    "X = df_temp.drop(\"kategori_pmi\",axis=1)"
   ]
  },
  {
   "cell_type": "code",
   "execution_count": 23,
   "id": "6bb63d23",
   "metadata": {},
   "outputs": [],
   "source": [
    "import pickle\n",
    "with open('C:\\\\Users\\\\anand\\\\kategori_pmi_x_train_columns.pickle', 'wb') as fp:\n",
    "    pickle.dump(X, fp)"
   ]
  },
  {
   "cell_type": "code",
   "execution_count": 24,
   "id": "ed5c6ecd",
   "metadata": {},
   "outputs": [],
   "source": [
    "#split data antara data train dan data test (80% data train, 20% data test)\n",
    "from sklearn.model_selection import train_test_split\n",
    "X_train,X_test,Y_train,Y_test=train_test_split(X,Y,test_size=0.2,random_state=123)"
   ]
  },
  {
   "cell_type": "code",
   "execution_count": 25,
   "id": "14f92960",
   "metadata": {},
   "outputs": [],
   "source": [
    "from sklearn.metrics import classification_report\n",
    "from sklearn.metrics import accuracy_score"
   ]
  },
  {
   "cell_type": "code",
   "execution_count": 26,
   "id": "65c6ce32",
   "metadata": {},
   "outputs": [
    {
     "name": "stdout",
     "output_type": "stream",
     "text": [
      "Akurasi 0.9285714285714286\n",
      "              precision    recall  f1-score   support\n",
      "\n",
      "           0       1.00      0.90      0.95        10\n",
      "           1       0.89      1.00      0.94        17\n",
      "           2       0.00      0.00      0.00         1\n",
      "\n",
      "    accuracy                           0.93        28\n",
      "   macro avg       0.63      0.63      0.63        28\n",
      "weighted avg       0.90      0.93      0.91        28\n",
      "\n"
     ]
    },
    {
     "name": "stderr",
     "output_type": "stream",
     "text": [
      "C:\\ProgramData\\Anaconda3\\lib\\site-packages\\sklearn\\metrics\\_classification.py:1318: UndefinedMetricWarning: Precision and F-score are ill-defined and being set to 0.0 in labels with no predicted samples. Use `zero_division` parameter to control this behavior.\n",
      "  _warn_prf(average, modifier, msg_start, len(result))\n",
      "C:\\ProgramData\\Anaconda3\\lib\\site-packages\\sklearn\\metrics\\_classification.py:1318: UndefinedMetricWarning: Precision and F-score are ill-defined and being set to 0.0 in labels with no predicted samples. Use `zero_division` parameter to control this behavior.\n",
      "  _warn_prf(average, modifier, msg_start, len(result))\n",
      "C:\\ProgramData\\Anaconda3\\lib\\site-packages\\sklearn\\metrics\\_classification.py:1318: UndefinedMetricWarning: Precision and F-score are ill-defined and being set to 0.0 in labels with no predicted samples. Use `zero_division` parameter to control this behavior.\n",
      "  _warn_prf(average, modifier, msg_start, len(result))\n"
     ]
    }
   ],
   "source": [
    "from sklearn.ensemble import RandomForestClassifier\n",
    "clf1 = RandomForestClassifier(n_estimators=100, random_state=123, max_depth=10)\n",
    "clf1.fit(X_train, Y_train)\n",
    "Y_pred = clf1.predict(X_test)\n",
    "acc = accuracy_score(Y_test, Y_pred)\n",
    "print(\"Akurasi {}\".format(acc))\n",
    "print(classification_report(Y_test, Y_pred))"
   ]
  },
  {
   "cell_type": "code",
   "execution_count": 27,
   "id": "f2dff494",
   "metadata": {},
   "outputs": [
    {
     "name": "stdout",
     "output_type": "stream",
     "text": [
      "Akurasi 0.8571428571428571\n",
      "              precision    recall  f1-score   support\n",
      "\n",
      "           0       1.00      0.70      0.82        10\n",
      "           1       0.81      1.00      0.89        17\n",
      "           2       0.00      0.00      0.00         1\n",
      "\n",
      "    accuracy                           0.86        28\n",
      "   macro avg       0.60      0.57      0.57        28\n",
      "weighted avg       0.85      0.86      0.84        28\n",
      "\n"
     ]
    },
    {
     "name": "stderr",
     "output_type": "stream",
     "text": [
      "C:\\ProgramData\\Anaconda3\\lib\\site-packages\\sklearn\\metrics\\_classification.py:1318: UndefinedMetricWarning: Precision and F-score are ill-defined and being set to 0.0 in labels with no predicted samples. Use `zero_division` parameter to control this behavior.\n",
      "  _warn_prf(average, modifier, msg_start, len(result))\n",
      "C:\\ProgramData\\Anaconda3\\lib\\site-packages\\sklearn\\metrics\\_classification.py:1318: UndefinedMetricWarning: Precision and F-score are ill-defined and being set to 0.0 in labels with no predicted samples. Use `zero_division` parameter to control this behavior.\n",
      "  _warn_prf(average, modifier, msg_start, len(result))\n",
      "C:\\ProgramData\\Anaconda3\\lib\\site-packages\\sklearn\\metrics\\_classification.py:1318: UndefinedMetricWarning: Precision and F-score are ill-defined and being set to 0.0 in labels with no predicted samples. Use `zero_division` parameter to control this behavior.\n",
      "  _warn_prf(average, modifier, msg_start, len(result))\n"
     ]
    }
   ],
   "source": [
    "import xgboost as xgb\n",
    "clf2=xgb.XGBClassifier(max_depth=10, learning_rate=0.1, gamma=0.1, n_estimators=100, objective='binary:logistic', booster='dart', colsample_bytree=0.7, colsample_bylevel=0.8, colsample_bynode=0.8, normalize_type='forest', sample_type='weighted', tree_method='gpu_hist', sampling_method='gradient_based')\n",
    "# num_class adalah jumlah kelas\n",
    "clf2.fit(X_train, Y_train)\n",
    "Y_pred = clf2.predict(X_test)\n",
    "acc = accuracy_score(Y_test, Y_pred)\n",
    "print(\"Akurasi {}\".format(acc))\n",
    "print(classification_report(Y_test, Y_pred))"
   ]
  },
  {
   "cell_type": "code",
   "execution_count": 28,
   "id": "e8c31a7a",
   "metadata": {},
   "outputs": [
    {
     "name": "stdout",
     "output_type": "stream",
     "text": [
      "[[ 7  3  0]\n",
      " [ 0 17  0]\n",
      " [ 0  1  0]]\n"
     ]
    }
   ],
   "source": [
    "#cek matrix confusionnya\n",
    "from sklearn.metrics import confusion_matrix\n",
    "print(confusion_matrix(Y_test, Y_pred))"
   ]
  },
  {
   "cell_type": "code",
   "execution_count": 29,
   "id": "259ae07c",
   "metadata": {},
   "outputs": [
    {
     "data": {
      "text/html": [
       "<div>\n",
       "<style scoped>\n",
       "    .dataframe tbody tr th:only-of-type {\n",
       "        vertical-align: middle;\n",
       "    }\n",
       "\n",
       "    .dataframe tbody tr th {\n",
       "        vertical-align: top;\n",
       "    }\n",
       "\n",
       "    .dataframe thead th {\n",
       "        text-align: right;\n",
       "    }\n",
       "</style>\n",
       "<table border=\"1\" class=\"dataframe\">\n",
       "  <thead>\n",
       "    <tr style=\"text-align: right;\">\n",
       "      <th></th>\n",
       "      <th>importance</th>\n",
       "    </tr>\n",
       "  </thead>\n",
       "  <tbody>\n",
       "    <tr>\n",
       "      <th>pct_tdk_cukup_pangan</th>\n",
       "      <td>0.224282</td>\n",
       "    </tr>\n",
       "    <tr>\n",
       "      <th>persen_penduduk_trampil_tik</th>\n",
       "      <td>0.141449</td>\n",
       "    </tr>\n",
       "    <tr>\n",
       "      <th>proporsi_hidup_dibawah_50_persen_median_pendapatan</th>\n",
       "      <td>0.139298</td>\n",
       "    </tr>\n",
       "    <tr>\n",
       "      <th>melek_huruf_diatas15</th>\n",
       "      <td>0.089585</td>\n",
       "    </tr>\n",
       "    <tr>\n",
       "      <th>persen_rumah_dgn_fasilitas_cuci_tangan_sabun</th>\n",
       "      <td>0.065280</td>\n",
       "    </tr>\n",
       "    <tr>\n",
       "      <th>prov_DKI JAKARTA</th>\n",
       "      <td>0.046511</td>\n",
       "    </tr>\n",
       "    <tr>\n",
       "      <th>prov_LAMPUNG</th>\n",
       "      <td>0.033155</td>\n",
       "    </tr>\n",
       "    <tr>\n",
       "      <th>prov_NUSA TENGGARA BARAT</th>\n",
       "      <td>0.026888</td>\n",
       "    </tr>\n",
       "    <tr>\n",
       "      <th>prov_GORONTALO</th>\n",
       "      <td>0.022963</td>\n",
       "    </tr>\n",
       "    <tr>\n",
       "      <th>prov_KALIMANTAN BARAT</th>\n",
       "      <td>0.020350</td>\n",
       "    </tr>\n",
       "    <tr>\n",
       "      <th>prov_SULAWESI TENGAH</th>\n",
       "      <td>0.018591</td>\n",
       "    </tr>\n",
       "    <tr>\n",
       "      <th>prov_SULAWESI BARAT</th>\n",
       "      <td>0.017925</td>\n",
       "    </tr>\n",
       "    <tr>\n",
       "      <th>prov_MALUKU</th>\n",
       "      <td>0.017804</td>\n",
       "    </tr>\n",
       "    <tr>\n",
       "      <th>prov_PAPUA BARAT</th>\n",
       "      <td>0.015753</td>\n",
       "    </tr>\n",
       "    <tr>\n",
       "      <th>prov_MALUKU UTARA</th>\n",
       "      <td>0.011509</td>\n",
       "    </tr>\n",
       "    <tr>\n",
       "      <th>prov_PAPUA</th>\n",
       "      <td>0.009591</td>\n",
       "    </tr>\n",
       "    <tr>\n",
       "      <th>prov_NUSA TENGGARA TIMUR</th>\n",
       "      <td>0.009381</td>\n",
       "    </tr>\n",
       "    <tr>\n",
       "      <th>prov_ACEH</th>\n",
       "      <td>0.008632</td>\n",
       "    </tr>\n",
       "    <tr>\n",
       "      <th>tahun_2018</th>\n",
       "      <td>0.007228</td>\n",
       "    </tr>\n",
       "    <tr>\n",
       "      <th>prov_JAWA TENGAH</th>\n",
       "      <td>0.006990</td>\n",
       "    </tr>\n",
       "    <tr>\n",
       "      <th>tahun_2020</th>\n",
       "      <td>0.006941</td>\n",
       "    </tr>\n",
       "    <tr>\n",
       "      <th>prov_JAWA TIMUR</th>\n",
       "      <td>0.006820</td>\n",
       "    </tr>\n",
       "    <tr>\n",
       "      <th>prov_SUMATERA SELATAN</th>\n",
       "      <td>0.006659</td>\n",
       "    </tr>\n",
       "    <tr>\n",
       "      <th>tahun_2019</th>\n",
       "      <td>0.006418</td>\n",
       "    </tr>\n",
       "    <tr>\n",
       "      <th>tahun_2021</th>\n",
       "      <td>0.006357</td>\n",
       "    </tr>\n",
       "    <tr>\n",
       "      <th>prov_BENGKULU</th>\n",
       "      <td>0.004870</td>\n",
       "    </tr>\n",
       "    <tr>\n",
       "      <th>prov_SULAWESI TENGGARA</th>\n",
       "      <td>0.003396</td>\n",
       "    </tr>\n",
       "    <tr>\n",
       "      <th>prov_KALIMANTAN UTARA</th>\n",
       "      <td>0.003032</td>\n",
       "    </tr>\n",
       "    <tr>\n",
       "      <th>prov_KALIMANTAN TIMUR</th>\n",
       "      <td>0.002845</td>\n",
       "    </tr>\n",
       "    <tr>\n",
       "      <th>prov_RIAU</th>\n",
       "      <td>0.002606</td>\n",
       "    </tr>\n",
       "    <tr>\n",
       "      <th>prov_JAMBI</th>\n",
       "      <td>0.002524</td>\n",
       "    </tr>\n",
       "    <tr>\n",
       "      <th>prov_SUMATERA UTARA</th>\n",
       "      <td>0.002449</td>\n",
       "    </tr>\n",
       "    <tr>\n",
       "      <th>prov_SULAWESI UTARA</th>\n",
       "      <td>0.002049</td>\n",
       "    </tr>\n",
       "    <tr>\n",
       "      <th>prov_JAWA BARAT</th>\n",
       "      <td>0.001542</td>\n",
       "    </tr>\n",
       "    <tr>\n",
       "      <th>prov_KEP. RIAU</th>\n",
       "      <td>0.001538</td>\n",
       "    </tr>\n",
       "    <tr>\n",
       "      <th>prov_KALIMANTAN TENGAH</th>\n",
       "      <td>0.001382</td>\n",
       "    </tr>\n",
       "    <tr>\n",
       "      <th>prov_BANTEN</th>\n",
       "      <td>0.001378</td>\n",
       "    </tr>\n",
       "    <tr>\n",
       "      <th>prov_DI YOGYAKARTA</th>\n",
       "      <td>0.001118</td>\n",
       "    </tr>\n",
       "    <tr>\n",
       "      <th>prov_SULAWESI SELATAN</th>\n",
       "      <td>0.001074</td>\n",
       "    </tr>\n",
       "    <tr>\n",
       "      <th>prov_SUMATERA BARAT</th>\n",
       "      <td>0.000530</td>\n",
       "    </tr>\n",
       "    <tr>\n",
       "      <th>prov_KALIMANTAN SELATAN</th>\n",
       "      <td>0.000509</td>\n",
       "    </tr>\n",
       "    <tr>\n",
       "      <th>prov_KEP. BANGKA BELITUNG</th>\n",
       "      <td>0.000491</td>\n",
       "    </tr>\n",
       "    <tr>\n",
       "      <th>prov_BALI</th>\n",
       "      <td>0.000310</td>\n",
       "    </tr>\n",
       "  </tbody>\n",
       "</table>\n",
       "</div>"
      ],
      "text/plain": [
       "                                                    importance\n",
       "pct_tdk_cukup_pangan                                  0.224282\n",
       "persen_penduduk_trampil_tik                           0.141449\n",
       "proporsi_hidup_dibawah_50_persen_median_pendapatan    0.139298\n",
       "melek_huruf_diatas15                                  0.089585\n",
       "persen_rumah_dgn_fasilitas_cuci_tangan_sabun          0.065280\n",
       "prov_DKI JAKARTA                                      0.046511\n",
       "prov_LAMPUNG                                          0.033155\n",
       "prov_NUSA TENGGARA BARAT                              0.026888\n",
       "prov_GORONTALO                                        0.022963\n",
       "prov_KALIMANTAN BARAT                                 0.020350\n",
       "prov_SULAWESI TENGAH                                  0.018591\n",
       "prov_SULAWESI BARAT                                   0.017925\n",
       "prov_MALUKU                                           0.017804\n",
       "prov_PAPUA BARAT                                      0.015753\n",
       "prov_MALUKU UTARA                                     0.011509\n",
       "prov_PAPUA                                            0.009591\n",
       "prov_NUSA TENGGARA TIMUR                              0.009381\n",
       "prov_ACEH                                             0.008632\n",
       "tahun_2018                                            0.007228\n",
       "prov_JAWA TENGAH                                      0.006990\n",
       "tahun_2020                                            0.006941\n",
       "prov_JAWA TIMUR                                       0.006820\n",
       "prov_SUMATERA SELATAN                                 0.006659\n",
       "tahun_2019                                            0.006418\n",
       "tahun_2021                                            0.006357\n",
       "prov_BENGKULU                                         0.004870\n",
       "prov_SULAWESI TENGGARA                                0.003396\n",
       "prov_KALIMANTAN UTARA                                 0.003032\n",
       "prov_KALIMANTAN TIMUR                                 0.002845\n",
       "prov_RIAU                                             0.002606\n",
       "prov_JAMBI                                            0.002524\n",
       "prov_SUMATERA UTARA                                   0.002449\n",
       "prov_SULAWESI UTARA                                   0.002049\n",
       "prov_JAWA BARAT                                       0.001542\n",
       "prov_KEP. RIAU                                        0.001538\n",
       "prov_KALIMANTAN TENGAH                                0.001382\n",
       "prov_BANTEN                                           0.001378\n",
       "prov_DI YOGYAKARTA                                    0.001118\n",
       "prov_SULAWESI SELATAN                                 0.001074\n",
       "prov_SUMATERA BARAT                                   0.000530\n",
       "prov_KALIMANTAN SELATAN                               0.000509\n",
       "prov_KEP. BANGKA BELITUNG                             0.000491\n",
       "prov_BALI                                             0.000310"
      ]
     },
     "execution_count": 29,
     "metadata": {},
     "output_type": "execute_result"
    }
   ],
   "source": [
    "feature_importances = pd.DataFrame(clf1.feature_importances_,index = X_train.columns, columns=['importance']).sort_values('importance',ascending=False)\n",
    "feature_importances"
   ]
  }
 ],
 "metadata": {
  "kernelspec": {
   "display_name": "Python 3 (ipykernel)",
   "language": "python",
   "name": "python3"
  },
  "language_info": {
   "codemirror_mode": {
    "name": "ipython",
    "version": 3
   },
   "file_extension": ".py",
   "mimetype": "text/x-python",
   "name": "python",
   "nbconvert_exporter": "python",
   "pygments_lexer": "ipython3",
   "version": "3.9.12"
  }
 },
 "nbformat": 4,
 "nbformat_minor": 5
}
