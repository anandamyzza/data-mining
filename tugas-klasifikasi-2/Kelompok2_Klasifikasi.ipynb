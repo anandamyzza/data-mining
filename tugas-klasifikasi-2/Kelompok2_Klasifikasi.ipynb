{
 "cells": [
  {
   "cell_type": "markdown",
   "metadata": {
    "id": "OHsZ2cHISXn6"
   },
   "source": [
    "# Kelompok 2\n",
    "1. Akmal Zulkifli (2101310)\n",
    "2. Ananda Myzza Marhelio (2100702)\n",
    "3. Mochamad Khaairi (2106416)\n",
    "4. Muhammad Izzatul Haq (1904618)\n",
    "5. Thariq Hafizhuddin (1904601)"
   ]
  },
  {
   "cell_type": "markdown",
   "metadata": {},
   "source": [
    "# Spesifikasi Soal\n",
    "Terdapat dua dataset yaitu dataset train (untuk membuat model) dan dataset class (untuk prediksi). Pada dataset train terdapat 14 atribut yang berbeda dan dataset class memiliki 13 atribut yang berbeda, kedua dataset tersebut memiliki atribut yang sama kecuali pada dataset class tidak terdapat atribut returnShipment (atribut yang nantinya harus diprediksi)\n",
    "\n",
    "task: memprediksi apakah setelah membeli customer akan mengembalikan barang"
   ]
  },
  {
   "cell_type": "markdown",
   "metadata": {
    "id": "ZYpWW5BOSmV1"
   },
   "source": [
    "# PraProses Data Train"
   ]
  },
  {
   "cell_type": "markdown",
   "metadata": {
    "id": "sUviZu3LSsXx"
   },
   "source": [
    "### Load Data"
   ]
  },
  {
   "cell_type": "code",
   "execution_count": 1,
   "metadata": {
    "id": "fS_9h7e8FaGE"
   },
   "outputs": [],
   "source": [
    "import pandas as pd\n",
    "import numpy as np\n",
    "import seaborn as sns\n",
    "import matplotlib.pyplot as plt"
   ]
  },
  {
   "cell_type": "code",
   "execution_count": 2,
   "metadata": {
    "id": "Ik4r6EsZF2Q7"
   },
   "outputs": [],
   "source": [
    "df_raw = pd.read_csv(\"C:/Users/MoKha/orders_train.txt\", sep=';')"
   ]
  },
  {
   "cell_type": "markdown",
   "metadata": {
    "id": "GEXXq7aKSwpO"
   },
   "source": [
    "### Melihat spesifik data"
   ]
  },
  {
   "cell_type": "code",
   "execution_count": 3,
   "metadata": {
    "colab": {
     "base_uri": "https://localhost:8080/",
     "height": 206
    },
    "id": "JX90hnH95cZz",
    "outputId": "21d0d5b0-8402-425a-ff21-dc6e6730f5ca"
   },
   "outputs": [
    {
     "data": {
      "text/html": [
       "<div>\n",
       "<style scoped>\n",
       "    .dataframe tbody tr th:only-of-type {\n",
       "        vertical-align: middle;\n",
       "    }\n",
       "\n",
       "    .dataframe tbody tr th {\n",
       "        vertical-align: top;\n",
       "    }\n",
       "\n",
       "    .dataframe thead th {\n",
       "        text-align: right;\n",
       "    }\n",
       "</style>\n",
       "<table border=\"1\" class=\"dataframe\">\n",
       "  <thead>\n",
       "    <tr style=\"text-align: right;\">\n",
       "      <th></th>\n",
       "      <th>orderItemID</th>\n",
       "      <th>orderDate</th>\n",
       "      <th>deliveryDate</th>\n",
       "      <th>itemID</th>\n",
       "      <th>size</th>\n",
       "      <th>color</th>\n",
       "      <th>manufacturerID</th>\n",
       "      <th>price</th>\n",
       "      <th>customerID</th>\n",
       "      <th>salutation</th>\n",
       "      <th>dateOfBirth</th>\n",
       "      <th>state</th>\n",
       "      <th>creationDate</th>\n",
       "      <th>returnShipment</th>\n",
       "    </tr>\n",
       "  </thead>\n",
       "  <tbody>\n",
       "    <tr>\n",
       "      <th>0</th>\n",
       "      <td>1</td>\n",
       "      <td>2012-04-01</td>\n",
       "      <td>2012-04-03</td>\n",
       "      <td>186</td>\n",
       "      <td>m</td>\n",
       "      <td>denim</td>\n",
       "      <td>25</td>\n",
       "      <td>69.90</td>\n",
       "      <td>794</td>\n",
       "      <td>Mrs</td>\n",
       "      <td>1965-01-06</td>\n",
       "      <td>Baden-Wuerttemberg</td>\n",
       "      <td>2011-04-25</td>\n",
       "      <td>0</td>\n",
       "    </tr>\n",
       "    <tr>\n",
       "      <th>1</th>\n",
       "      <td>2</td>\n",
       "      <td>2012-04-01</td>\n",
       "      <td>2012-04-03</td>\n",
       "      <td>71</td>\n",
       "      <td>9+</td>\n",
       "      <td>ocher</td>\n",
       "      <td>21</td>\n",
       "      <td>69.95</td>\n",
       "      <td>794</td>\n",
       "      <td>Mrs</td>\n",
       "      <td>1965-01-06</td>\n",
       "      <td>Baden-Wuerttemberg</td>\n",
       "      <td>2011-04-25</td>\n",
       "      <td>1</td>\n",
       "    </tr>\n",
       "    <tr>\n",
       "      <th>2</th>\n",
       "      <td>3</td>\n",
       "      <td>2012-04-01</td>\n",
       "      <td>2012-04-03</td>\n",
       "      <td>71</td>\n",
       "      <td>9+</td>\n",
       "      <td>curry</td>\n",
       "      <td>21</td>\n",
       "      <td>69.95</td>\n",
       "      <td>794</td>\n",
       "      <td>Mrs</td>\n",
       "      <td>1965-01-06</td>\n",
       "      <td>Baden-Wuerttemberg</td>\n",
       "      <td>2011-04-25</td>\n",
       "      <td>1</td>\n",
       "    </tr>\n",
       "    <tr>\n",
       "      <th>3</th>\n",
       "      <td>4</td>\n",
       "      <td>2012-04-02</td>\n",
       "      <td>?</td>\n",
       "      <td>22</td>\n",
       "      <td>m</td>\n",
       "      <td>green</td>\n",
       "      <td>14</td>\n",
       "      <td>39.90</td>\n",
       "      <td>808</td>\n",
       "      <td>Mrs</td>\n",
       "      <td>1959-11-09</td>\n",
       "      <td>Saxony</td>\n",
       "      <td>2012-01-04</td>\n",
       "      <td>0</td>\n",
       "    </tr>\n",
       "    <tr>\n",
       "      <th>4</th>\n",
       "      <td>5</td>\n",
       "      <td>2012-04-02</td>\n",
       "      <td>1990-12-31</td>\n",
       "      <td>151</td>\n",
       "      <td>39</td>\n",
       "      <td>black</td>\n",
       "      <td>53</td>\n",
       "      <td>29.90</td>\n",
       "      <td>825</td>\n",
       "      <td>Mrs</td>\n",
       "      <td>1964-07-11</td>\n",
       "      <td>Rhineland-Palatinate</td>\n",
       "      <td>2011-02-16</td>\n",
       "      <td>0</td>\n",
       "    </tr>\n",
       "  </tbody>\n",
       "</table>\n",
       "</div>"
      ],
      "text/plain": [
       "   orderItemID   orderDate deliveryDate  itemID size  color  manufacturerID  \\\n",
       "0            1  2012-04-01   2012-04-03     186    m  denim              25   \n",
       "1            2  2012-04-01   2012-04-03      71   9+  ocher              21   \n",
       "2            3  2012-04-01   2012-04-03      71   9+  curry              21   \n",
       "3            4  2012-04-02            ?      22    m  green              14   \n",
       "4            5  2012-04-02   1990-12-31     151   39  black              53   \n",
       "\n",
       "   price  customerID salutation dateOfBirth                 state  \\\n",
       "0  69.90         794        Mrs  1965-01-06    Baden-Wuerttemberg   \n",
       "1  69.95         794        Mrs  1965-01-06    Baden-Wuerttemberg   \n",
       "2  69.95         794        Mrs  1965-01-06    Baden-Wuerttemberg   \n",
       "3  39.90         808        Mrs  1959-11-09                Saxony   \n",
       "4  29.90         825        Mrs  1964-07-11  Rhineland-Palatinate   \n",
       "\n",
       "  creationDate  returnShipment  \n",
       "0   2011-04-25               0  \n",
       "1   2011-04-25               1  \n",
       "2   2011-04-25               1  \n",
       "3   2012-01-04               0  \n",
       "4   2011-02-16               0  "
      ]
     },
     "execution_count": 3,
     "metadata": {},
     "output_type": "execute_result"
    }
   ],
   "source": [
    "df_raw.head()"
   ]
  },
  {
   "cell_type": "code",
   "execution_count": 4,
   "metadata": {
    "colab": {
     "base_uri": "https://localhost:8080/"
    },
    "id": "KJO82OdvQO4i",
    "outputId": "1177870c-f1f3-4159-8b4f-55620dd28de9"
   },
   "outputs": [
    {
     "name": "stdout",
     "output_type": "stream",
     "text": [
      "<class 'pandas.core.frame.DataFrame'>\n",
      "RangeIndex: 481092 entries, 0 to 481091\n",
      "Data columns (total 14 columns):\n",
      " #   Column          Non-Null Count   Dtype  \n",
      "---  ------          --------------   -----  \n",
      " 0   orderItemID     481092 non-null  int64  \n",
      " 1   orderDate       481092 non-null  object \n",
      " 2   deliveryDate    481092 non-null  object \n",
      " 3   itemID          481092 non-null  int64  \n",
      " 4   size            481092 non-null  object \n",
      " 5   color           481092 non-null  object \n",
      " 6   manufacturerID  481092 non-null  int64  \n",
      " 7   price           481092 non-null  float64\n",
      " 8   customerID      481092 non-null  int64  \n",
      " 9   salutation      481092 non-null  object \n",
      " 10  dateOfBirth     481092 non-null  object \n",
      " 11  state           481092 non-null  object \n",
      " 12  creationDate    481092 non-null  object \n",
      " 13  returnShipment  481092 non-null  int64  \n",
      "dtypes: float64(1), int64(5), object(8)\n",
      "memory usage: 51.4+ MB\n"
     ]
    }
   ],
   "source": [
    "df_raw.info()"
   ]
  },
  {
   "cell_type": "markdown",
   "metadata": {
    "id": "YA9IfTNDSq8g"
   },
   "source": [
    "### Isi tangal yang kosong dengan rata-rata range orderDate hingga deliveryDate"
   ]
  },
  {
   "cell_type": "code",
   "execution_count": 5,
   "metadata": {
    "colab": {
     "base_uri": "https://localhost:8080/"
    },
    "id": "lUJxdLcjQ1O_",
    "outputId": "ce93e3dd-c796-4d43-aff4-e9a6f72a4a8f"
   },
   "outputs": [
    {
     "name": "stderr",
     "output_type": "stream",
     "text": [
      "C:\\Users\\MoKha\\AppData\\Local\\Temp\\ipykernel_13000\\2811334917.py:5: UserWarning: Boolean Series key will be reindexed to match DataFrame index.\n",
      "  df_temp = df_temp[df_raw.deliveryDate > df_raw.orderDate.min()]\n"
     ]
    }
   ],
   "source": [
    "#filter data tanggal yang noise yaitu dengan mengambil data yang tidak noise saja \n",
    "#(data yang entrynya bukan '?' dan deliverydate nya lebih dari orderdatenya)\n",
    "#karena tidak mungkin waktu pengiriman lebih dulu daripada waktu pemesanan\n",
    "df_temp = df_raw[df_raw.deliveryDate != '?']\n",
    "df_temp = df_temp[df_raw.deliveryDate > df_raw.orderDate.min()]"
   ]
  },
  {
   "cell_type": "code",
   "execution_count": 6,
   "metadata": {
    "id": "BliugXsiSpZ9"
   },
   "outputs": [],
   "source": [
    "#ubah tipe data menjadi datetime\n",
    "df_temp['deliveryDate'] = df_temp['deliveryDate'].astype('datetime64');\n",
    "df_temp['orderDate'] = df_temp['orderDate'].astype('datetime64');"
   ]
  },
  {
   "cell_type": "code",
   "execution_count": 7,
   "metadata": {
    "colab": {
     "base_uri": "https://localhost:8080/"
    },
    "id": "ZX3NX-VdHy_a",
    "outputId": "13dd8d74-afd6-4075-d5a2-2af3ee5990e6"
   },
   "outputs": [
    {
     "data": {
      "text/plain": [
       "0    2\n",
       "1    2\n",
       "2    2\n",
       "7    1\n",
       "8    1\n",
       "dtype: int64"
      ]
     },
     "execution_count": 7,
     "metadata": {},
     "output_type": "execute_result"
    }
   ],
   "source": [
    "#cari range dari orderDate sampai deliverDate (range merupakan waktu pengiriman barang)\n",
    "order_delivery_date = df_temp['deliveryDate'].dt.to_period('D').view('int64') - df_temp['orderDate'].dt.to_period('D').view('int64')\n",
    "\n",
    "order_delivery_date.head()"
   ]
  },
  {
   "cell_type": "code",
   "execution_count": 8,
   "metadata": {
    "colab": {
     "base_uri": "https://localhost:8080/"
    },
    "id": "Succpf3ZVpHP",
    "outputId": "2ad88fd3-5447-40bf-b946-7d440b18aabf"
   },
   "outputs": [
    {
     "data": {
      "text/plain": [
       "10"
      ]
     },
     "execution_count": 8,
     "metadata": {},
     "output_type": "execute_result"
    }
   ],
   "source": [
    "#cari rata-rata range untuk nantinya mengganti deliverydate yang masih salah dan masih kosong\n",
    "delivery_mean = int(order_delivery_date.describe()['mean'])\n",
    "delivery_mean"
   ]
  },
  {
   "cell_type": "markdown",
   "metadata": {
    "id": "33R_4MmqZo32"
   },
   "source": [
    "Mean yang didapat adalah 10, maka data date untuk deliveryDate diisi 10 hari dari orderDate"
   ]
  },
  {
   "cell_type": "markdown",
   "metadata": {
    "id": "myBnYkHWiI7T"
   },
   "source": [
    "### Pengisian deliveryDate yang kosong dan tidak sesuai"
   ]
  },
  {
   "cell_type": "code",
   "execution_count": 9,
   "metadata": {
    "id": "VtGd-gLBh3zm"
   },
   "outputs": [],
   "source": [
    "from datetime import datetime, timedelta, date"
   ]
  },
  {
   "cell_type": "code",
   "execution_count": 10,
   "metadata": {
    "id": "xKNMdVg6jS0o"
   },
   "outputs": [],
   "source": [
    "#ubah tipe data menjadi datetime\n",
    "df_raw['orderDate'] = df_raw['orderDate'].astype('datetime64');"
   ]
  },
  {
   "cell_type": "code",
   "execution_count": 11,
   "metadata": {
    "id": "51BpZJ_jqALI"
   },
   "outputs": [],
   "source": [
    "# Isi entry deliveryDate bervalue '?'\n",
    "df_raw['deliveryDate'] = np.where(df_raw['deliveryDate'] == '?', \\\n",
    "                        (df_raw['orderDate'] + timedelta(days=delivery_mean)).astype('str'), \\\n",
    "                        df_raw['deliveryDate'])"
   ]
  },
  {
   "cell_type": "code",
   "execution_count": 12,
   "metadata": {
    "id": "4tJ-CPzTyEYn"
   },
   "outputs": [],
   "source": [
    "# Isi entry deliveryDate bervalue date kurang dari waktu pengiriman tertua\n",
    "df_raw['deliveryDate'] = np.where(df_raw['deliveryDate'] < df_raw.orderDate.min().strftime('%Y-%m-%d'), \\\n",
    "                        (df_raw['orderDate'] + timedelta(days=delivery_mean)).astype('str'), \\\n",
    "                        df_raw['deliveryDate'])"
   ]
  },
  {
   "cell_type": "code",
   "execution_count": 13,
   "metadata": {
    "colab": {
     "base_uri": "https://localhost:8080/",
     "height": 206
    },
    "id": "vougXAgEqU7N",
    "outputId": "db6857be-4255-4956-82ff-042d67c8bf18"
   },
   "outputs": [
    {
     "data": {
      "text/html": [
       "<div>\n",
       "<style scoped>\n",
       "    .dataframe tbody tr th:only-of-type {\n",
       "        vertical-align: middle;\n",
       "    }\n",
       "\n",
       "    .dataframe tbody tr th {\n",
       "        vertical-align: top;\n",
       "    }\n",
       "\n",
       "    .dataframe thead th {\n",
       "        text-align: right;\n",
       "    }\n",
       "</style>\n",
       "<table border=\"1\" class=\"dataframe\">\n",
       "  <thead>\n",
       "    <tr style=\"text-align: right;\">\n",
       "      <th></th>\n",
       "      <th>orderItemID</th>\n",
       "      <th>orderDate</th>\n",
       "      <th>deliveryDate</th>\n",
       "      <th>itemID</th>\n",
       "      <th>size</th>\n",
       "      <th>color</th>\n",
       "      <th>manufacturerID</th>\n",
       "      <th>price</th>\n",
       "      <th>customerID</th>\n",
       "      <th>salutation</th>\n",
       "      <th>dateOfBirth</th>\n",
       "      <th>state</th>\n",
       "      <th>creationDate</th>\n",
       "      <th>returnShipment</th>\n",
       "    </tr>\n",
       "  </thead>\n",
       "  <tbody>\n",
       "    <tr>\n",
       "      <th>0</th>\n",
       "      <td>1</td>\n",
       "      <td>2012-04-01</td>\n",
       "      <td>2012-04-03</td>\n",
       "      <td>186</td>\n",
       "      <td>m</td>\n",
       "      <td>denim</td>\n",
       "      <td>25</td>\n",
       "      <td>69.90</td>\n",
       "      <td>794</td>\n",
       "      <td>Mrs</td>\n",
       "      <td>1965-01-06</td>\n",
       "      <td>Baden-Wuerttemberg</td>\n",
       "      <td>2011-04-25</td>\n",
       "      <td>0</td>\n",
       "    </tr>\n",
       "    <tr>\n",
       "      <th>1</th>\n",
       "      <td>2</td>\n",
       "      <td>2012-04-01</td>\n",
       "      <td>2012-04-03</td>\n",
       "      <td>71</td>\n",
       "      <td>9+</td>\n",
       "      <td>ocher</td>\n",
       "      <td>21</td>\n",
       "      <td>69.95</td>\n",
       "      <td>794</td>\n",
       "      <td>Mrs</td>\n",
       "      <td>1965-01-06</td>\n",
       "      <td>Baden-Wuerttemberg</td>\n",
       "      <td>2011-04-25</td>\n",
       "      <td>1</td>\n",
       "    </tr>\n",
       "    <tr>\n",
       "      <th>2</th>\n",
       "      <td>3</td>\n",
       "      <td>2012-04-01</td>\n",
       "      <td>2012-04-03</td>\n",
       "      <td>71</td>\n",
       "      <td>9+</td>\n",
       "      <td>curry</td>\n",
       "      <td>21</td>\n",
       "      <td>69.95</td>\n",
       "      <td>794</td>\n",
       "      <td>Mrs</td>\n",
       "      <td>1965-01-06</td>\n",
       "      <td>Baden-Wuerttemberg</td>\n",
       "      <td>2011-04-25</td>\n",
       "      <td>1</td>\n",
       "    </tr>\n",
       "    <tr>\n",
       "      <th>3</th>\n",
       "      <td>4</td>\n",
       "      <td>2012-04-02</td>\n",
       "      <td>2012-04-12</td>\n",
       "      <td>22</td>\n",
       "      <td>m</td>\n",
       "      <td>green</td>\n",
       "      <td>14</td>\n",
       "      <td>39.90</td>\n",
       "      <td>808</td>\n",
       "      <td>Mrs</td>\n",
       "      <td>1959-11-09</td>\n",
       "      <td>Saxony</td>\n",
       "      <td>2012-01-04</td>\n",
       "      <td>0</td>\n",
       "    </tr>\n",
       "    <tr>\n",
       "      <th>4</th>\n",
       "      <td>5</td>\n",
       "      <td>2012-04-02</td>\n",
       "      <td>2012-04-12</td>\n",
       "      <td>151</td>\n",
       "      <td>39</td>\n",
       "      <td>black</td>\n",
       "      <td>53</td>\n",
       "      <td>29.90</td>\n",
       "      <td>825</td>\n",
       "      <td>Mrs</td>\n",
       "      <td>1964-07-11</td>\n",
       "      <td>Rhineland-Palatinate</td>\n",
       "      <td>2011-02-16</td>\n",
       "      <td>0</td>\n",
       "    </tr>\n",
       "  </tbody>\n",
       "</table>\n",
       "</div>"
      ],
      "text/plain": [
       "   orderItemID  orderDate deliveryDate  itemID size  color  manufacturerID  \\\n",
       "0            1 2012-04-01   2012-04-03     186    m  denim              25   \n",
       "1            2 2012-04-01   2012-04-03      71   9+  ocher              21   \n",
       "2            3 2012-04-01   2012-04-03      71   9+  curry              21   \n",
       "3            4 2012-04-02   2012-04-12      22    m  green              14   \n",
       "4            5 2012-04-02   2012-04-12     151   39  black              53   \n",
       "\n",
       "   price  customerID salutation dateOfBirth                 state  \\\n",
       "0  69.90         794        Mrs  1965-01-06    Baden-Wuerttemberg   \n",
       "1  69.95         794        Mrs  1965-01-06    Baden-Wuerttemberg   \n",
       "2  69.95         794        Mrs  1965-01-06    Baden-Wuerttemberg   \n",
       "3  39.90         808        Mrs  1959-11-09                Saxony   \n",
       "4  29.90         825        Mrs  1964-07-11  Rhineland-Palatinate   \n",
       "\n",
       "  creationDate  returnShipment  \n",
       "0   2011-04-25               0  \n",
       "1   2011-04-25               1  \n",
       "2   2011-04-25               1  \n",
       "3   2012-01-04               0  \n",
       "4   2011-02-16               0  "
      ]
     },
     "execution_count": 13,
     "metadata": {},
     "output_type": "execute_result"
    }
   ],
   "source": [
    "df_raw.head()"
   ]
  },
  {
   "cell_type": "code",
   "execution_count": 14,
   "metadata": {
    "id": "4re3pPMAzTTK"
   },
   "outputs": [],
   "source": [
    "#ubah tipe data menjadi datetime\n",
    "df_raw['deliveryDate'] = df_raw['deliveryDate'].astype('datetime64');"
   ]
  },
  {
   "cell_type": "markdown",
   "metadata": {
    "id": "STEKtkgJdQmd"
   },
   "source": [
    "### Fitur Waktu Pengiriman (dalam hari)\n",
    "\n",
    "fitur deliveryDate dan orderDate dihitung rentang waktunya dan diinput pada column baru shippingTime"
   ]
  },
  {
   "cell_type": "code",
   "execution_count": 15,
   "metadata": {
    "id": "zyAY-L1udUJT"
   },
   "outputs": [],
   "source": [
    "#mencari waktu pengiriman yaitu dengan cara mengurangi tanggal pengiriman (dalam integer) dengan tanggal pemesanan (dalam integer)\n",
    "df_raw['shippingTime'] = df_raw['deliveryDate'].dt.to_period('D').view('int64') - df_raw['orderDate'].dt.to_period('D').view('int64')"
   ]
  },
  {
   "cell_type": "code",
   "execution_count": 16,
   "metadata": {
    "colab": {
     "base_uri": "https://localhost:8080/",
     "height": 340
    },
    "id": "LPfC19cUfY-w",
    "outputId": "6c487ab9-4fe5-4b02-922d-b95640d989e6"
   },
   "outputs": [
    {
     "data": {
      "text/html": [
       "<div>\n",
       "<style scoped>\n",
       "    .dataframe tbody tr th:only-of-type {\n",
       "        vertical-align: middle;\n",
       "    }\n",
       "\n",
       "    .dataframe tbody tr th {\n",
       "        vertical-align: top;\n",
       "    }\n",
       "\n",
       "    .dataframe thead th {\n",
       "        text-align: right;\n",
       "    }\n",
       "</style>\n",
       "<table border=\"1\" class=\"dataframe\">\n",
       "  <thead>\n",
       "    <tr style=\"text-align: right;\">\n",
       "      <th></th>\n",
       "      <th>orderItemID</th>\n",
       "      <th>orderDate</th>\n",
       "      <th>deliveryDate</th>\n",
       "      <th>itemID</th>\n",
       "      <th>size</th>\n",
       "      <th>color</th>\n",
       "      <th>manufacturerID</th>\n",
       "      <th>price</th>\n",
       "      <th>customerID</th>\n",
       "      <th>salutation</th>\n",
       "      <th>dateOfBirth</th>\n",
       "      <th>state</th>\n",
       "      <th>creationDate</th>\n",
       "      <th>returnShipment</th>\n",
       "      <th>shippingTime</th>\n",
       "    </tr>\n",
       "  </thead>\n",
       "  <tbody>\n",
       "    <tr>\n",
       "      <th>0</th>\n",
       "      <td>1</td>\n",
       "      <td>2012-04-01</td>\n",
       "      <td>2012-04-03</td>\n",
       "      <td>186</td>\n",
       "      <td>m</td>\n",
       "      <td>denim</td>\n",
       "      <td>25</td>\n",
       "      <td>69.90</td>\n",
       "      <td>794</td>\n",
       "      <td>Mrs</td>\n",
       "      <td>1965-01-06</td>\n",
       "      <td>Baden-Wuerttemberg</td>\n",
       "      <td>2011-04-25</td>\n",
       "      <td>0</td>\n",
       "      <td>2</td>\n",
       "    </tr>\n",
       "    <tr>\n",
       "      <th>1</th>\n",
       "      <td>2</td>\n",
       "      <td>2012-04-01</td>\n",
       "      <td>2012-04-03</td>\n",
       "      <td>71</td>\n",
       "      <td>9+</td>\n",
       "      <td>ocher</td>\n",
       "      <td>21</td>\n",
       "      <td>69.95</td>\n",
       "      <td>794</td>\n",
       "      <td>Mrs</td>\n",
       "      <td>1965-01-06</td>\n",
       "      <td>Baden-Wuerttemberg</td>\n",
       "      <td>2011-04-25</td>\n",
       "      <td>1</td>\n",
       "      <td>2</td>\n",
       "    </tr>\n",
       "    <tr>\n",
       "      <th>2</th>\n",
       "      <td>3</td>\n",
       "      <td>2012-04-01</td>\n",
       "      <td>2012-04-03</td>\n",
       "      <td>71</td>\n",
       "      <td>9+</td>\n",
       "      <td>curry</td>\n",
       "      <td>21</td>\n",
       "      <td>69.95</td>\n",
       "      <td>794</td>\n",
       "      <td>Mrs</td>\n",
       "      <td>1965-01-06</td>\n",
       "      <td>Baden-Wuerttemberg</td>\n",
       "      <td>2011-04-25</td>\n",
       "      <td>1</td>\n",
       "      <td>2</td>\n",
       "    </tr>\n",
       "    <tr>\n",
       "      <th>3</th>\n",
       "      <td>4</td>\n",
       "      <td>2012-04-02</td>\n",
       "      <td>2012-04-12</td>\n",
       "      <td>22</td>\n",
       "      <td>m</td>\n",
       "      <td>green</td>\n",
       "      <td>14</td>\n",
       "      <td>39.90</td>\n",
       "      <td>808</td>\n",
       "      <td>Mrs</td>\n",
       "      <td>1959-11-09</td>\n",
       "      <td>Saxony</td>\n",
       "      <td>2012-01-04</td>\n",
       "      <td>0</td>\n",
       "      <td>10</td>\n",
       "    </tr>\n",
       "    <tr>\n",
       "      <th>4</th>\n",
       "      <td>5</td>\n",
       "      <td>2012-04-02</td>\n",
       "      <td>2012-04-12</td>\n",
       "      <td>151</td>\n",
       "      <td>39</td>\n",
       "      <td>black</td>\n",
       "      <td>53</td>\n",
       "      <td>29.90</td>\n",
       "      <td>825</td>\n",
       "      <td>Mrs</td>\n",
       "      <td>1964-07-11</td>\n",
       "      <td>Rhineland-Palatinate</td>\n",
       "      <td>2011-02-16</td>\n",
       "      <td>0</td>\n",
       "      <td>10</td>\n",
       "    </tr>\n",
       "  </tbody>\n",
       "</table>\n",
       "</div>"
      ],
      "text/plain": [
       "   orderItemID  orderDate deliveryDate  itemID size  color  manufacturerID  \\\n",
       "0            1 2012-04-01   2012-04-03     186    m  denim              25   \n",
       "1            2 2012-04-01   2012-04-03      71   9+  ocher              21   \n",
       "2            3 2012-04-01   2012-04-03      71   9+  curry              21   \n",
       "3            4 2012-04-02   2012-04-12      22    m  green              14   \n",
       "4            5 2012-04-02   2012-04-12     151   39  black              53   \n",
       "\n",
       "   price  customerID salutation dateOfBirth                 state  \\\n",
       "0  69.90         794        Mrs  1965-01-06    Baden-Wuerttemberg   \n",
       "1  69.95         794        Mrs  1965-01-06    Baden-Wuerttemberg   \n",
       "2  69.95         794        Mrs  1965-01-06    Baden-Wuerttemberg   \n",
       "3  39.90         808        Mrs  1959-11-09                Saxony   \n",
       "4  29.90         825        Mrs  1964-07-11  Rhineland-Palatinate   \n",
       "\n",
       "  creationDate  returnShipment  shippingTime  \n",
       "0   2011-04-25               0             2  \n",
       "1   2011-04-25               1             2  \n",
       "2   2011-04-25               1             2  \n",
       "3   2012-01-04               0            10  \n",
       "4   2011-02-16               0            10  "
      ]
     },
     "execution_count": 16,
     "metadata": {},
     "output_type": "execute_result"
    }
   ],
   "source": [
    "df_raw.head()"
   ]
  },
  {
   "cell_type": "markdown",
   "metadata": {
    "id": "5R7nG_LvgN5W"
   },
   "source": [
    "### Convert Sizes\n",
    "Didapatkan bahwa format untuk size bercampur antar standar europe, uk, dan internasional sehingga perlu disamakan yaitu menjadi standar internasional"
   ]
  },
  {
   "cell_type": "code",
   "execution_count": 17,
   "metadata": {
    "id": "PCs8RDi5LVFm"
   },
   "outputs": [],
   "source": [
    "#Mengubah format standar internasional pada dataset menjadi standar europe\n",
    "df_raw[\"size\"] = df_raw[\"size\"].replace({\"xxs\": \"32\", \"xs\": \"34\", \"s\": \"36\", \"m\": \"38\", \"l\": \"40\",\n",
    "                                         \"xl\": \"42\", \"xxl\": \"44\", \"xxxl\": \"46\", \"S\": \"36\", \"L\": \"40\",\n",
    "                                         \"XXL\": \"44\", \"M\": \"38\", \"XL\": \"42\", \"XXXL\": \"46\", \"XS\": \"34\", \"XXS\": \"32\"})"
   ]
  },
  {
   "cell_type": "code",
   "execution_count": 18,
   "metadata": {
    "id": "Bph1e5KsPRIS"
   },
   "outputs": [],
   "source": [
    "#Mengubah entry yang unsized menjadi '0' agar dapat diconvert ke integer nantinya\n",
    "df_raw[\"size\"] = df_raw[\"size\"].replace(\"unsized\", \"0\")"
   ]
  },
  {
   "cell_type": "code",
   "execution_count": 19,
   "metadata": {
    "id": "SH14j2wxPazp"
   },
   "outputs": [],
   "source": [
    "#Menghilangkan tanda '+' pada data\n",
    "df_raw['size'] = df_raw['size'].str.replace('+', '', regex=True)"
   ]
  },
  {
   "cell_type": "code",
   "execution_count": 20,
   "metadata": {
    "id": "9L7xhAwPQSV8"
   },
   "outputs": [],
   "source": [
    "#Ubah tipe data menjadi integer agar dapat menggunakan fitur between\n",
    "df_raw['size'] = df_raw['size'].astype('int64')"
   ]
  },
  {
   "cell_type": "code",
   "execution_count": 21,
   "metadata": {
    "colab": {
     "base_uri": "https://localhost:8080/",
     "height": 34
    },
    "id": "xel6vRwfQn7m",
    "outputId": "3d7371ba-6c38-4d04-a14e-3227b556eff2"
   },
   "outputs": [
    {
     "data": {
      "text/plain": [
       "2415"
      ]
     },
     "metadata": {},
     "output_type": "display_data"
    }
   ],
   "source": [
    "#Melihat banyak data outlier (yaitu yang sizenya lebih dari 50)\n",
    "display(len(df_raw[df_raw[\"size\"] > 50]))"
   ]
  },
  {
   "cell_type": "code",
   "execution_count": 22,
   "metadata": {
    "id": "tSPh0L_jQ_yK"
   },
   "outputs": [],
   "source": [
    "#Menyamakan size agar mudah dalam penukaran ke standar internasional\n",
    "df_raw['size'] = np.where(df_raw['size'].between(1,3), 31, df_raw['size'])\n",
    "df_raw['size'] = np.where(df_raw['size'].between(4,5), 33, df_raw['size'])\n",
    "df_raw['size'] = np.where(df_raw['size'].between(6,7), 35, df_raw['size'])\n",
    "df_raw['size'] = np.where(df_raw['size'].between(8,9), 37, df_raw['size'])\n",
    "df_raw['size'] = np.where(df_raw['size'].between(10,11), 39, df_raw['size'])\n",
    "df_raw['size'] = np.where(df_raw['size'].between(12,13), 41, df_raw['size'])\n",
    "df_raw['size'] = np.where(df_raw['size'].between(14,15), 43, df_raw['size'])\n",
    "df_raw['size'] = np.where(df_raw['size'].between(16,17), 45, df_raw['size'])\n",
    "df_raw['size'] = np.where(df_raw['size'].between(18,19), 47, df_raw['size'])\n",
    "df_raw['size'] = np.where(df_raw['size'].between(20,21), 49, df_raw['size'])\n",
    "df_raw['size'] = np.where(df_raw['size'].between(22,26), 51, df_raw['size'])\n",
    "df_raw['size'] = np.where(df_raw['size'].between(27,31), 31, df_raw['size'])\n",
    "df_raw['size'] = np.where(df_raw['size'].between(32,33), 33, df_raw['size'])\n",
    "df_raw['size'] = np.where(df_raw['size'].between(34,35), 35, df_raw['size'])\n",
    "df_raw['size'] = np.where(df_raw['size'].between(36,37), 37, df_raw['size'])\n",
    "df_raw['size'] = np.where(df_raw['size'].between(38,39), 39, df_raw['size'])\n",
    "df_raw['size'] = np.where(df_raw['size'].between(40,41), 41, df_raw['size'])\n",
    "df_raw['size'] = np.where(df_raw['size'].between(42,43), 43, df_raw['size'])\n",
    "df_raw['size'] = np.where(df_raw['size'].between(44,45), 45, df_raw['size'])\n",
    "df_raw['size'] = np.where(df_raw['size'].between(46,47), 47, df_raw['size'])\n",
    "df_raw['size'] = np.where(df_raw['size'].between(48,49), 49, df_raw['size'])\n",
    "df_raw['size'] = np.where(df_raw['size'].between(50,51), 51, df_raw['size'])\n",
    "df_raw['size'] = np.where(df_raw['size'] > 50, 51, df_raw['size'])"
   ]
  },
  {
   "cell_type": "code",
   "execution_count": 23,
   "metadata": {
    "id": "7c8-g2EDRO-Q"
   },
   "outputs": [],
   "source": [
    "#Mengubah tipe data menjadi string / object\n",
    "df_raw['size'] = df_raw['size'].astype('str')"
   ]
  },
  {
   "cell_type": "code",
   "execution_count": 24,
   "metadata": {
    "id": "gX244vFRRUjE"
   },
   "outputs": [],
   "source": [
    "#Mengubah format standar europe menjadi standar international\n",
    "df_raw[\"size\"] = df_raw[\"size\"].replace({\"31\": \"XXXS\", \"33\": \"XXS\", \"35\": \"XS\", \"37\": \"S\", \"39\": \"M\", \n",
    "                                         \"41\": \"L\", \"43\": \"XL\", \"45\": \"XXL\", \"47\": \"XXXL\", \"49\": \"XXXXL\", \n",
    "                                         \"51\": \"XXXXXL\", \"0\": \"unsized\"})"
   ]
  },
  {
   "cell_type": "markdown",
   "metadata": {
    "id": "NEseYbJlUo9D"
   },
   "source": [
    "Cek data"
   ]
  },
  {
   "cell_type": "code",
   "execution_count": 25,
   "metadata": {
    "colab": {
     "base_uri": "https://localhost:8080/"
    },
    "id": "VFLjzkKnZcYX",
    "outputId": "bde77eef-6f2e-4865-de17-77e943f3aad6"
   },
   "outputs": [
    {
     "name": "stdout",
     "output_type": "stream",
     "text": [
      "<class 'pandas.core.frame.DataFrame'>\n",
      "RangeIndex: 481092 entries, 0 to 481091\n",
      "Data columns (total 15 columns):\n",
      " #   Column          Non-Null Count   Dtype         \n",
      "---  ------          --------------   -----         \n",
      " 0   orderItemID     481092 non-null  int64         \n",
      " 1   orderDate       481092 non-null  datetime64[ns]\n",
      " 2   deliveryDate    481092 non-null  datetime64[ns]\n",
      " 3   itemID          481092 non-null  int64         \n",
      " 4   size            481092 non-null  object        \n",
      " 5   color           481092 non-null  object        \n",
      " 6   manufacturerID  481092 non-null  int64         \n",
      " 7   price           481092 non-null  float64       \n",
      " 8   customerID      481092 non-null  int64         \n",
      " 9   salutation      481092 non-null  object        \n",
      " 10  dateOfBirth     481092 non-null  object        \n",
      " 11  state           481092 non-null  object        \n",
      " 12  creationDate    481092 non-null  object        \n",
      " 13  returnShipment  481092 non-null  int64         \n",
      " 14  shippingTime    481092 non-null  int64         \n",
      "dtypes: datetime64[ns](2), float64(1), int64(6), object(6)\n",
      "memory usage: 55.1+ MB\n"
     ]
    }
   ],
   "source": [
    "df_raw.info()"
   ]
  },
  {
   "cell_type": "code",
   "execution_count": 26,
   "metadata": {
    "colab": {
     "base_uri": "https://localhost:8080/",
     "height": 250
    },
    "id": "pozotbw3Rdmh",
    "outputId": "cda3334a-5b7c-474e-e561-d6a642ff0ff7"
   },
   "outputs": [
    {
     "data": {
      "text/html": [
       "<div>\n",
       "<style scoped>\n",
       "    .dataframe tbody tr th:only-of-type {\n",
       "        vertical-align: middle;\n",
       "    }\n",
       "\n",
       "    .dataframe tbody tr th {\n",
       "        vertical-align: top;\n",
       "    }\n",
       "\n",
       "    .dataframe thead th {\n",
       "        text-align: right;\n",
       "    }\n",
       "</style>\n",
       "<table border=\"1\" class=\"dataframe\">\n",
       "  <thead>\n",
       "    <tr style=\"text-align: right;\">\n",
       "      <th></th>\n",
       "      <th>orderItemID</th>\n",
       "      <th>orderDate</th>\n",
       "      <th>deliveryDate</th>\n",
       "      <th>itemID</th>\n",
       "      <th>size</th>\n",
       "      <th>color</th>\n",
       "      <th>manufacturerID</th>\n",
       "      <th>price</th>\n",
       "      <th>customerID</th>\n",
       "      <th>salutation</th>\n",
       "      <th>dateOfBirth</th>\n",
       "      <th>state</th>\n",
       "      <th>creationDate</th>\n",
       "      <th>returnShipment</th>\n",
       "      <th>shippingTime</th>\n",
       "    </tr>\n",
       "  </thead>\n",
       "  <tbody>\n",
       "    <tr>\n",
       "      <th>0</th>\n",
       "      <td>1</td>\n",
       "      <td>2012-04-01</td>\n",
       "      <td>2012-04-03</td>\n",
       "      <td>186</td>\n",
       "      <td>M</td>\n",
       "      <td>denim</td>\n",
       "      <td>25</td>\n",
       "      <td>69.90</td>\n",
       "      <td>794</td>\n",
       "      <td>Mrs</td>\n",
       "      <td>1965-01-06</td>\n",
       "      <td>Baden-Wuerttemberg</td>\n",
       "      <td>2011-04-25</td>\n",
       "      <td>0</td>\n",
       "      <td>2</td>\n",
       "    </tr>\n",
       "    <tr>\n",
       "      <th>1</th>\n",
       "      <td>2</td>\n",
       "      <td>2012-04-01</td>\n",
       "      <td>2012-04-03</td>\n",
       "      <td>71</td>\n",
       "      <td>S</td>\n",
       "      <td>ocher</td>\n",
       "      <td>21</td>\n",
       "      <td>69.95</td>\n",
       "      <td>794</td>\n",
       "      <td>Mrs</td>\n",
       "      <td>1965-01-06</td>\n",
       "      <td>Baden-Wuerttemberg</td>\n",
       "      <td>2011-04-25</td>\n",
       "      <td>1</td>\n",
       "      <td>2</td>\n",
       "    </tr>\n",
       "    <tr>\n",
       "      <th>2</th>\n",
       "      <td>3</td>\n",
       "      <td>2012-04-01</td>\n",
       "      <td>2012-04-03</td>\n",
       "      <td>71</td>\n",
       "      <td>S</td>\n",
       "      <td>curry</td>\n",
       "      <td>21</td>\n",
       "      <td>69.95</td>\n",
       "      <td>794</td>\n",
       "      <td>Mrs</td>\n",
       "      <td>1965-01-06</td>\n",
       "      <td>Baden-Wuerttemberg</td>\n",
       "      <td>2011-04-25</td>\n",
       "      <td>1</td>\n",
       "      <td>2</td>\n",
       "    </tr>\n",
       "    <tr>\n",
       "      <th>3</th>\n",
       "      <td>4</td>\n",
       "      <td>2012-04-02</td>\n",
       "      <td>2012-04-12</td>\n",
       "      <td>22</td>\n",
       "      <td>M</td>\n",
       "      <td>green</td>\n",
       "      <td>14</td>\n",
       "      <td>39.90</td>\n",
       "      <td>808</td>\n",
       "      <td>Mrs</td>\n",
       "      <td>1959-11-09</td>\n",
       "      <td>Saxony</td>\n",
       "      <td>2012-01-04</td>\n",
       "      <td>0</td>\n",
       "      <td>10</td>\n",
       "    </tr>\n",
       "    <tr>\n",
       "      <th>4</th>\n",
       "      <td>5</td>\n",
       "      <td>2012-04-02</td>\n",
       "      <td>2012-04-12</td>\n",
       "      <td>151</td>\n",
       "      <td>M</td>\n",
       "      <td>black</td>\n",
       "      <td>53</td>\n",
       "      <td>29.90</td>\n",
       "      <td>825</td>\n",
       "      <td>Mrs</td>\n",
       "      <td>1964-07-11</td>\n",
       "      <td>Rhineland-Palatinate</td>\n",
       "      <td>2011-02-16</td>\n",
       "      <td>0</td>\n",
       "      <td>10</td>\n",
       "    </tr>\n",
       "  </tbody>\n",
       "</table>\n",
       "</div>"
      ],
      "text/plain": [
       "   orderItemID  orderDate deliveryDate  itemID size  color  manufacturerID  \\\n",
       "0            1 2012-04-01   2012-04-03     186    M  denim              25   \n",
       "1            2 2012-04-01   2012-04-03      71    S  ocher              21   \n",
       "2            3 2012-04-01   2012-04-03      71    S  curry              21   \n",
       "3            4 2012-04-02   2012-04-12      22    M  green              14   \n",
       "4            5 2012-04-02   2012-04-12     151    M  black              53   \n",
       "\n",
       "   price  customerID salutation dateOfBirth                 state  \\\n",
       "0  69.90         794        Mrs  1965-01-06    Baden-Wuerttemberg   \n",
       "1  69.95         794        Mrs  1965-01-06    Baden-Wuerttemberg   \n",
       "2  69.95         794        Mrs  1965-01-06    Baden-Wuerttemberg   \n",
       "3  39.90         808        Mrs  1959-11-09                Saxony   \n",
       "4  29.90         825        Mrs  1964-07-11  Rhineland-Palatinate   \n",
       "\n",
       "  creationDate  returnShipment  shippingTime  \n",
       "0   2011-04-25               0             2  \n",
       "1   2011-04-25               1             2  \n",
       "2   2011-04-25               1             2  \n",
       "3   2012-01-04               0            10  \n",
       "4   2011-02-16               0            10  "
      ]
     },
     "execution_count": 26,
     "metadata": {},
     "output_type": "execute_result"
    }
   ],
   "source": [
    "df_raw.head()"
   ]
  },
  {
   "cell_type": "markdown",
   "metadata": {
    "id": "iEhPybpdwVmE"
   },
   "source": [
    "### Convert date of birth menjadi age (dalam tahun)\n",
    "dihitung dari rentang tanggal lahir dengan waktu pembuatan akun lalu diinput pada column baru yaitu age"
   ]
  },
  {
   "cell_type": "code",
   "execution_count": 27,
   "metadata": {
    "id": "js_pKrNvxYvP"
   },
   "outputs": [],
   "source": [
    "#Ganti tahun yang kemungkinan salah input (typo)\n",
    "df_raw['dateOfBirth'] = df_raw['dateOfBirth'].str.replace('1655','1965')"
   ]
  },
  {
   "cell_type": "code",
   "execution_count": 28,
   "metadata": {
    "id": "-srBYKwexu08"
   },
   "outputs": [],
   "source": [
    "#Ubah data yang input data dateOfBirthnya \"?\" menjadi none\n",
    "df_raw[\"dateOfBirth\"] = df_raw[\"dateOfBirth\"].replace(\"?\", None)"
   ]
  },
  {
   "cell_type": "code",
   "execution_count": 29,
   "metadata": {
    "id": "3EujcGoLxhkv"
   },
   "outputs": [],
   "source": [
    "#convert atribut dateOfBirth dan creationDate menjadi datetime\n",
    "df_raw['dateOfBirth'] = pd.to_datetime(df_raw['dateOfBirth'])\n",
    "df_raw['creationDate'] = pd.to_datetime(df_raw['creationDate'])"
   ]
  },
  {
   "cell_type": "code",
   "execution_count": 30,
   "metadata": {},
   "outputs": [
    {
     "data": {
      "text/html": [
       "<div>\n",
       "<style scoped>\n",
       "    .dataframe tbody tr th:only-of-type {\n",
       "        vertical-align: middle;\n",
       "    }\n",
       "\n",
       "    .dataframe tbody tr th {\n",
       "        vertical-align: top;\n",
       "    }\n",
       "\n",
       "    .dataframe thead th {\n",
       "        text-align: right;\n",
       "    }\n",
       "</style>\n",
       "<table border=\"1\" class=\"dataframe\">\n",
       "  <thead>\n",
       "    <tr style=\"text-align: right;\">\n",
       "      <th></th>\n",
       "      <th>orderItemID</th>\n",
       "      <th>orderDate</th>\n",
       "      <th>deliveryDate</th>\n",
       "      <th>itemID</th>\n",
       "      <th>size</th>\n",
       "      <th>color</th>\n",
       "      <th>manufacturerID</th>\n",
       "      <th>price</th>\n",
       "      <th>customerID</th>\n",
       "      <th>salutation</th>\n",
       "      <th>dateOfBirth</th>\n",
       "      <th>state</th>\n",
       "      <th>creationDate</th>\n",
       "      <th>returnShipment</th>\n",
       "      <th>shippingTime</th>\n",
       "    </tr>\n",
       "  </thead>\n",
       "  <tbody>\n",
       "    <tr>\n",
       "      <th>0</th>\n",
       "      <td>1</td>\n",
       "      <td>2012-04-01</td>\n",
       "      <td>2012-04-03</td>\n",
       "      <td>186</td>\n",
       "      <td>M</td>\n",
       "      <td>denim</td>\n",
       "      <td>25</td>\n",
       "      <td>69.90</td>\n",
       "      <td>794</td>\n",
       "      <td>Mrs</td>\n",
       "      <td>1965-01-06</td>\n",
       "      <td>Baden-Wuerttemberg</td>\n",
       "      <td>2011-04-25</td>\n",
       "      <td>0</td>\n",
       "      <td>2</td>\n",
       "    </tr>\n",
       "    <tr>\n",
       "      <th>1</th>\n",
       "      <td>2</td>\n",
       "      <td>2012-04-01</td>\n",
       "      <td>2012-04-03</td>\n",
       "      <td>71</td>\n",
       "      <td>S</td>\n",
       "      <td>ocher</td>\n",
       "      <td>21</td>\n",
       "      <td>69.95</td>\n",
       "      <td>794</td>\n",
       "      <td>Mrs</td>\n",
       "      <td>1965-01-06</td>\n",
       "      <td>Baden-Wuerttemberg</td>\n",
       "      <td>2011-04-25</td>\n",
       "      <td>1</td>\n",
       "      <td>2</td>\n",
       "    </tr>\n",
       "    <tr>\n",
       "      <th>2</th>\n",
       "      <td>3</td>\n",
       "      <td>2012-04-01</td>\n",
       "      <td>2012-04-03</td>\n",
       "      <td>71</td>\n",
       "      <td>S</td>\n",
       "      <td>curry</td>\n",
       "      <td>21</td>\n",
       "      <td>69.95</td>\n",
       "      <td>794</td>\n",
       "      <td>Mrs</td>\n",
       "      <td>1965-01-06</td>\n",
       "      <td>Baden-Wuerttemberg</td>\n",
       "      <td>2011-04-25</td>\n",
       "      <td>1</td>\n",
       "      <td>2</td>\n",
       "    </tr>\n",
       "    <tr>\n",
       "      <th>3</th>\n",
       "      <td>4</td>\n",
       "      <td>2012-04-02</td>\n",
       "      <td>2012-04-12</td>\n",
       "      <td>22</td>\n",
       "      <td>M</td>\n",
       "      <td>green</td>\n",
       "      <td>14</td>\n",
       "      <td>39.90</td>\n",
       "      <td>808</td>\n",
       "      <td>Mrs</td>\n",
       "      <td>1959-11-09</td>\n",
       "      <td>Saxony</td>\n",
       "      <td>2012-01-04</td>\n",
       "      <td>0</td>\n",
       "      <td>10</td>\n",
       "    </tr>\n",
       "    <tr>\n",
       "      <th>4</th>\n",
       "      <td>5</td>\n",
       "      <td>2012-04-02</td>\n",
       "      <td>2012-04-12</td>\n",
       "      <td>151</td>\n",
       "      <td>M</td>\n",
       "      <td>black</td>\n",
       "      <td>53</td>\n",
       "      <td>29.90</td>\n",
       "      <td>825</td>\n",
       "      <td>Mrs</td>\n",
       "      <td>1964-07-11</td>\n",
       "      <td>Rhineland-Palatinate</td>\n",
       "      <td>2011-02-16</td>\n",
       "      <td>0</td>\n",
       "      <td>10</td>\n",
       "    </tr>\n",
       "  </tbody>\n",
       "</table>\n",
       "</div>"
      ],
      "text/plain": [
       "   orderItemID  orderDate deliveryDate  itemID size  color  manufacturerID  \\\n",
       "0            1 2012-04-01   2012-04-03     186    M  denim              25   \n",
       "1            2 2012-04-01   2012-04-03      71    S  ocher              21   \n",
       "2            3 2012-04-01   2012-04-03      71    S  curry              21   \n",
       "3            4 2012-04-02   2012-04-12      22    M  green              14   \n",
       "4            5 2012-04-02   2012-04-12     151    M  black              53   \n",
       "\n",
       "   price  customerID salutation dateOfBirth                 state  \\\n",
       "0  69.90         794        Mrs  1965-01-06    Baden-Wuerttemberg   \n",
       "1  69.95         794        Mrs  1965-01-06    Baden-Wuerttemberg   \n",
       "2  69.95         794        Mrs  1965-01-06    Baden-Wuerttemberg   \n",
       "3  39.90         808        Mrs  1959-11-09                Saxony   \n",
       "4  29.90         825        Mrs  1964-07-11  Rhineland-Palatinate   \n",
       "\n",
       "  creationDate  returnShipment  shippingTime  \n",
       "0   2011-04-25               0             2  \n",
       "1   2011-04-25               1             2  \n",
       "2   2011-04-25               1             2  \n",
       "3   2012-01-04               0            10  \n",
       "4   2011-02-16               0            10  "
      ]
     },
     "execution_count": 30,
     "metadata": {},
     "output_type": "execute_result"
    }
   ],
   "source": [
    "df_raw.head()"
   ]
  },
  {
   "cell_type": "code",
   "execution_count": 31,
   "metadata": {
    "id": "oW-jy4ZEwlc0"
   },
   "outputs": [],
   "source": [
    "#Cari usia berdasarkan dateOfBirth (tanggal lahir) dengan creationDate (tanggal pembuatan akun)\n",
    "df_raw[\"age\"] = (df_raw['creationDate'].dt.year - df_raw['dateOfBirth'].dt.year) - ((df_raw['creationDate'].dt.month - df_raw['dateOfBirth'].dt.month) < 0)"
   ]
  },
  {
   "cell_type": "code",
   "execution_count": 32,
   "metadata": {},
   "outputs": [],
   "source": [
    "#isi data age yang nan dengan rata-rata age\n",
    "df_raw[\"age\"] = df_raw[\"age\"].fillna(df_raw[\"age\"].mean())"
   ]
  },
  {
   "cell_type": "markdown",
   "metadata": {
    "id": "0h_hoQ0mV0co"
   },
   "source": [
    "cek data"
   ]
  },
  {
   "cell_type": "code",
   "execution_count": 33,
   "metadata": {
    "colab": {
     "base_uri": "https://localhost:8080/"
    },
    "id": "Gb2NIt2Ix9Gs",
    "outputId": "eb72c411-b5a5-4660-bb12-e7489a56b2cc"
   },
   "outputs": [
    {
     "data": {
      "text/plain": [
       "count    481092.000000\n",
       "mean         47.200609\n",
       "std          10.408595\n",
       "min          -2.000000\n",
       "25%          42.000000\n",
       "50%          47.200609\n",
       "75%          51.000000\n",
       "max         112.000000\n",
       "Name: age, dtype: float64"
      ]
     },
     "execution_count": 33,
     "metadata": {},
     "output_type": "execute_result"
    }
   ],
   "source": [
    "df_raw[\"age\"].describe()"
   ]
  },
  {
   "cell_type": "markdown",
   "metadata": {
    "id": "tIhfTUTyP6aB"
   },
   "source": [
    "### Ubah nama warna dengan entry \"?\" pada atribut color"
   ]
  },
  {
   "cell_type": "code",
   "execution_count": 34,
   "metadata": {
    "colab": {
     "base_uri": "https://localhost:8080/"
    },
    "id": "OTqTpfbFPLqV",
    "outputId": "53172f93-47d0-4269-c4b3-6e04a1a2fdc4"
   },
   "outputs": [
    {
     "data": {
      "text/plain": [
       "143"
      ]
     },
     "execution_count": 34,
     "metadata": {},
     "output_type": "execute_result"
    }
   ],
   "source": [
    "#cek berapa banyak data yang \"?\"\n",
    "df_raw[\"color\"].value_counts()[\"?\"]"
   ]
  },
  {
   "cell_type": "code",
   "execution_count": 35,
   "metadata": {
    "id": "Rs1ss7seP9aR"
   },
   "outputs": [],
   "source": [
    "#Ubah data yang yang input datanya \"?\" pada atribut color menjadi none\n",
    "df_raw[\"color\"] = df_raw[\"color\"].replace(\"?\", None)"
   ]
  },
  {
   "cell_type": "markdown",
   "metadata": {
    "id": "aolJ6bOgtFRf"
   },
   "source": [
    "### Ubah Warna Ke Warna Dasarnya"
   ]
  },
  {
   "cell_type": "code",
   "execution_count": 36,
   "metadata": {
    "id": "B8GgpWbctFRf"
   },
   "outputs": [],
   "source": [
    "#mengubah tiap warna ke warna dasarnya dengan melakukan pengecekan manual ada warna apa saja pada entry data\n",
    "#lalu mencari tiap warna yang ada pada mesin pencarian dan menggantinya ke warna dasarnya / warna yang mendekati\n",
    "#hal ini dilakukan karena terdapat warna yang tidak ada pada data train tetapi terdapat pada data class\n",
    "df_raw[\"color\"] = df_raw[\"color\"].replace({\"dark denim\":\"blue\",\"dark navy\":\"blue\", \"ash\":\"grey\", \"bordeaux\":\"red\", \n",
    "                                           \"mahagoni\":\"red\", \"gold\":\"yellow\", \"dark oliv\":\"green\", \"striped\":\"multi\", \n",
    "                                           \"anthracite\":\"grey\", \"antique pink\":\"red\", \"floral\":\"multi\", \"baltic blue\":\"blue\", \n",
    "                                           \"nature\":\"green\", \"ancient\":\"brown\", \"curry\":\"yellow\", \"turquoise\":\"blue\", \n",
    "                                           \"navy\":\"blue\", \"aubergine\":\"purple\", \"mocca\":\"brown\", \"blau\":\"blue\", \n",
    "                                           \"basalt\":\"grey\", \"azure\":\"blue\", \"coral\":\"yellow\", \"pallid\":\"multi\", \"petrol\":\"blue\", \n",
    "                                           \"silver\":\"grey\", \"habana\":\"brown\", \"darkblue\":\"blue\", \"beige\":\"yellow\", \"mint\":\"green\", \n",
    "                                           \"khaki\":\"brown\", \"hibiscus\":\"red\", \"orange\":\"red\", \"almond\":\"brown\",\"berry\":\"purple\", \n",
    "                                           \"ocher\":\"yellow\", \"avocado\":\"green\", \"magenta\":\"purple\", \"olive\":\"green\", \n",
    "                                           \"denim\":\"blue\", \"pink\":\"red\", \"stained\":\"brown\", \"kanel\":\"brown\", \n",
    "                                           \"jade\":\"green\", \"aquamarine\":\"blue\", \"aqua\":\"blue\", \"ecru\":\"grey\", \n",
    "                                           \"iron\":\"grey\", \"fuchsia\":\"purple\", \"ingwer\":\"brown\", \"cognac\":\"brown\", \n",
    "                                           \"terracotta\":\"brown\", \"apricot\":\"yellow\", \"graphite\":\"grey\", \"crimson\":\"red\", \n",
    "                                           \"lemon\":\"yellow\", \"oliv\":\"green\", \"leopard\":\"yellow\", \"amethyst\":\"purple\", \n",
    "                                           \"aviator\":\"blue\", \"bronze\":\"brown\", \"brwon\":\"brown\", \"caramel\":\"brown\", \n",
    "                                           \"champagner\":\"yellow\", \"cobalt blue\":\"blue\", \"copper coin\":\"brown\", \n",
    "                                           \"cortina mocca\":\"brown\", \"creme\":\"yellow\", \"curled\":\"brown\", \"currant purple\":\"purple\", \n",
    "                                           \"dark garnet\":\"purple\", \"dark grey\":\"grey\", \"ebony\":\"black\", \"ivory\":\"white\", \n",
    "                                           \"mango\":\"yellow\", \"opal\":\"multi\", \"perlmutt\":\"multi\", \"vanille\":\"white\"})"
   ]
  },
  {
   "cell_type": "markdown",
   "metadata": {},
   "source": [
    "## EDA (Exploratory Data Analysis)"
   ]
  },
  {
   "cell_type": "code",
   "execution_count": 38,
   "metadata": {},
   "outputs": [
    {
     "data": {
      "text/plain": [
       "[Text(0.5, 1.0, 'Jumlah Pengembalian Berdasarkan Panggilan')]"
      ]
     },
     "execution_count": 38,
     "metadata": {},
     "output_type": "execute_result"
    },
    {
     "data": {
      "image/png": "[encoded data removed]",
      "text/plain": [
       "<Figure size 432x288 with 1 Axes>"
      ]
     },
     "metadata": {
      "needs_background": "light"
     },
     "output_type": "display_data"
    }
   ],
   "source": [
    "sns.countplot( x=\"returnShipment\", hue=\"salutation\", data=df_raw.head(40000)).set(title=\"Jumlah Pengembalian Berdasarkan Panggilan\")"
   ]
  },
  {
   "cell_type": "markdown",
   "metadata": {},
   "source": [
    "Dapat dilihat bahwa pengembalian barang didominasi oleh perempuan (Mrs) tetapi bila dilihat dari jumlah data Mrs hal tersebut\n",
    "sangat memungkinkan"
   ]
  },
  {
   "cell_type": "code",
   "execution_count": 39,
   "metadata": {},
   "outputs": [
    {
     "data": {
      "text/plain": [
       "(array([ 0,  1,  2,  3,  4,  5,  6,  7,  8,  9, 10, 11, 12, 13, 14, 15]),\n",
       " [Text(0, 0, 'Baden-Wuerttemberg'),\n",
       "  Text(1, 0, 'Saxony'),\n",
       "  Text(2, 0, 'Rhineland-Palatinate'),\n",
       "  Text(3, 0, 'North Rhine-Westphalia'),\n",
       "  Text(4, 0, 'Berlin'),\n",
       "  Text(5, 0, 'Bavaria'),\n",
       "  Text(6, 0, 'Hesse'),\n",
       "  Text(7, 0, 'Bremen'),\n",
       "  Text(8, 0, 'Schleswig-Holstein'),\n",
       "  Text(9, 0, 'Brandenburg'),\n",
       "  Text(10, 0, 'Hamburg'),\n",
       "  Text(11, 0, 'Lower Saxony'),\n",
       "  Text(12, 0, 'Saxony-Anhalt'),\n",
       "  Text(13, 0, 'Saarland'),\n",
       "  Text(14, 0, 'Thuringia'),\n",
       "  Text(15, 0, 'Mecklenburg-Western Pomerania')])"
      ]
     },
     "execution_count": 39,
     "metadata": {},
     "output_type": "execute_result"
    },
    {
     "data": {
      "image/png": "[encoded data removed]",
      "text/plain": [
       "<Figure size 720x360 with 1 Axes>"
      ]
     },
     "metadata": {
      "needs_background": "light"
     },
     "output_type": "display_data"
    }
   ],
   "source": [
    "fig, ax = plt.subplots(figsize=(10, 5))\n",
    "sns.countplot(ax=ax, x=\"state\", hue=\"returnShipment\", data=df_raw).set(title=\"Jumlah Pengembalian Berdasarkan Negara Bagian\")\n",
    "plt.xticks(rotation=90)"
   ]
  },
  {
   "cell_type": "markdown",
   "metadata": {},
   "source": [
    "Dapat dilihat untuk data pengembalian barang dengan tidak mengembalikan hampir seimbang untuk semua negara bagian"
   ]
  },
  {
   "cell_type": "code",
   "execution_count": 40,
   "metadata": {},
   "outputs": [
    {
     "data": {
      "text/plain": [
       "(array([ 0,  1,  2,  3,  4,  5,  6,  7,  8,  9, 10, 11, 12, 13, 14, 15]),\n",
       " [Text(0, 0, 'Baden-Wuerttemberg'),\n",
       "  Text(1, 0, 'Saxony'),\n",
       "  Text(2, 0, 'Rhineland-Palatinate'),\n",
       "  Text(3, 0, 'North Rhine-Westphalia'),\n",
       "  Text(4, 0, 'Berlin'),\n",
       "  Text(5, 0, 'Bavaria'),\n",
       "  Text(6, 0, 'Hesse'),\n",
       "  Text(7, 0, 'Bremen'),\n",
       "  Text(8, 0, 'Schleswig-Holstein'),\n",
       "  Text(9, 0, 'Brandenburg'),\n",
       "  Text(10, 0, 'Hamburg'),\n",
       "  Text(11, 0, 'Lower Saxony'),\n",
       "  Text(12, 0, 'Saxony-Anhalt'),\n",
       "  Text(13, 0, 'Saarland'),\n",
       "  Text(14, 0, 'Thuringia'),\n",
       "  Text(15, 0, 'Mecklenburg-Western Pomerania')])"
      ]
     },
     "execution_count": 40,
     "metadata": {},
     "output_type": "execute_result"
    },
    {
     "data": {
      "image/png": "[encoded data removed]",
      "text/plain": [
       "<Figure size 720x360 with 1 Axes>"
      ]
     },
     "metadata": {
      "needs_background": "light"
     },
     "output_type": "display_data"
    }
   ],
   "source": [
    "fig, ax = plt.subplots(figsize=(10, 5))\n",
    "sns.countplot(ax=ax, x=\"state\", data=df_raw).set(title=\"Jumlah Pembelian Setiap Negara Bagian\")\n",
    "plt.xticks(rotation=90)"
   ]
  },
  {
   "cell_type": "code",
   "execution_count": 41,
   "metadata": {},
   "outputs": [
    {
     "data": {
      "text/plain": [
       "[Text(0.5, 1.0, 'Jumlah Pengembalian Berdasarkan Umur')]"
      ]
     },
     "execution_count": 41,
     "metadata": {},
     "output_type": "execute_result"
    },
    {
     "data": {
      "image/png": "[encoded data removed]",
      "text/plain": [
       "<Figure size 2880x1800 with 1 Axes>"
      ]
     },
     "metadata": {
      "needs_background": "light"
     },
     "output_type": "display_data"
    }
   ],
   "source": [
    "fig, ax = plt.subplots(figsize=(40, 25))\n",
    "sns.countplot(ax=ax, x=\"age\", hue=\"returnShipment\", data=df_raw).set(title=\"Jumlah Pengembalian Berdasarkan Umur\")"
   ]
  },
  {
   "cell_type": "code",
   "execution_count": 42,
   "metadata": {},
   "outputs": [
    {
     "data": {
      "image/png": "[encoded data removed]",
      "text/plain": [
       "<Figure size 720x288 with 1 Axes>"
      ]
     },
     "metadata": {
      "needs_background": "light"
     },
     "output_type": "display_data"
    }
   ],
   "source": [
    "c = sns.catplot(x=\"size\", y=\"price\", data=df_raw).set(title=\"Hubungan antara harga dengan ukuran barang\")\n",
    "c.fig.set_size_inches(10,4)"
   ]
  },
  {
   "cell_type": "markdown",
   "metadata": {},
   "source": [
    "Dapat dilihat ukuran barang cukup berbanding lurus dengan harga (barang dengan ukuran kecil relative berharga lebih murah\n",
    "daripada barang dengan ukuran yang lebih besar)"
   ]
  },
  {
   "cell_type": "code",
   "execution_count": 43,
   "metadata": {},
   "outputs": [
    {
     "data": {
      "text/plain": [
       "(array([0, 1, 2, 3, 4, 5, 6, 7, 8, 9]),\n",
       " [Text(0, 0, 'blue'),\n",
       "  Text(1, 0, 'yellow'),\n",
       "  Text(2, 0, 'green'),\n",
       "  Text(3, 0, 'black'),\n",
       "  Text(4, 0, 'brown'),\n",
       "  Text(5, 0, 'red'),\n",
       "  Text(6, 0, 'grey'),\n",
       "  Text(7, 0, 'purple'),\n",
       "  Text(8, 0, 'white'),\n",
       "  Text(9, 0, 'multi')])"
      ]
     },
     "execution_count": 43,
     "metadata": {},
     "output_type": "execute_result"
    },
    {
     "data": {
      "image/png": "[encoded data removed]",
      "text/plain": [
       "<Figure size 720x360 with 1 Axes>"
      ]
     },
     "metadata": {
      "needs_background": "light"
     },
     "output_type": "display_data"
    }
   ],
   "source": [
    "fig, ax = plt.subplots(figsize=(10, 5))\n",
    "sns.countplot(ax=ax, x=\"color\", hue=\"returnShipment\", data=df_raw).set(title=\"Jumlah Pengembalian Barang Berdasarkan Warna\")\n",
    "plt.xticks(rotation=90)"
   ]
  },
  {
   "cell_type": "markdown",
   "metadata": {},
   "source": [
    "Dapat dilihat bahwa barang dengan warna dasar biru paling banyak dalam jumlah pengembalian"
   ]
  },
  {
   "cell_type": "markdown",
   "metadata": {},
   "source": [
    "# Feature Engineering"
   ]
  },
  {
   "cell_type": "markdown",
   "metadata": {},
   "source": [
    "### Membuat Fitur Account Age (dalam hari)\n",
    "account age dihitung dari rentang tanggal pembuatan akun hingga tanggal pengiriman barang"
   ]
  },
  {
   "cell_type": "code",
   "execution_count": 44,
   "metadata": {},
   "outputs": [],
   "source": [
    "#Hitung account age\n",
    "df_raw['accountAge'] = df_raw['deliveryDate'].dt.to_period('D').view('int64') - df_raw['creationDate'].dt.to_period('D').view('int64')"
   ]
  },
  {
   "cell_type": "code",
   "execution_count": 45,
   "metadata": {},
   "outputs": [
    {
     "data": {
      "text/html": [
       "<div>\n",
       "<style scoped>\n",
       "    .dataframe tbody tr th:only-of-type {\n",
       "        vertical-align: middle;\n",
       "    }\n",
       "\n",
       "    .dataframe tbody tr th {\n",
       "        vertical-align: top;\n",
       "    }\n",
       "\n",
       "    .dataframe thead th {\n",
       "        text-align: right;\n",
       "    }\n",
       "</style>\n",
       "<table border=\"1\" class=\"dataframe\">\n",
       "  <thead>\n",
       "    <tr style=\"text-align: right;\">\n",
       "      <th></th>\n",
       "      <th>orderItemID</th>\n",
       "      <th>orderDate</th>\n",
       "      <th>deliveryDate</th>\n",
       "      <th>itemID</th>\n",
       "      <th>size</th>\n",
       "      <th>color</th>\n",
       "      <th>manufacturerID</th>\n",
       "      <th>price</th>\n",
       "      <th>customerID</th>\n",
       "      <th>salutation</th>\n",
       "      <th>dateOfBirth</th>\n",
       "      <th>state</th>\n",
       "      <th>creationDate</th>\n",
       "      <th>returnShipment</th>\n",
       "      <th>shippingTime</th>\n",
       "      <th>age</th>\n",
       "      <th>accountAge</th>\n",
       "    </tr>\n",
       "  </thead>\n",
       "  <tbody>\n",
       "    <tr>\n",
       "      <th>0</th>\n",
       "      <td>1</td>\n",
       "      <td>2012-04-01</td>\n",
       "      <td>2012-04-03</td>\n",
       "      <td>186</td>\n",
       "      <td>M</td>\n",
       "      <td>blue</td>\n",
       "      <td>25</td>\n",
       "      <td>69.90</td>\n",
       "      <td>794</td>\n",
       "      <td>Mrs</td>\n",
       "      <td>1965-01-06</td>\n",
       "      <td>Baden-Wuerttemberg</td>\n",
       "      <td>2011-04-25</td>\n",
       "      <td>0</td>\n",
       "      <td>2</td>\n",
       "      <td>46.0</td>\n",
       "      <td>344</td>\n",
       "    </tr>\n",
       "    <tr>\n",
       "      <th>1</th>\n",
       "      <td>2</td>\n",
       "      <td>2012-04-01</td>\n",
       "      <td>2012-04-03</td>\n",
       "      <td>71</td>\n",
       "      <td>S</td>\n",
       "      <td>yellow</td>\n",
       "      <td>21</td>\n",
       "      <td>69.95</td>\n",
       "      <td>794</td>\n",
       "      <td>Mrs</td>\n",
       "      <td>1965-01-06</td>\n",
       "      <td>Baden-Wuerttemberg</td>\n",
       "      <td>2011-04-25</td>\n",
       "      <td>1</td>\n",
       "      <td>2</td>\n",
       "      <td>46.0</td>\n",
       "      <td>344</td>\n",
       "    </tr>\n",
       "    <tr>\n",
       "      <th>2</th>\n",
       "      <td>3</td>\n",
       "      <td>2012-04-01</td>\n",
       "      <td>2012-04-03</td>\n",
       "      <td>71</td>\n",
       "      <td>S</td>\n",
       "      <td>yellow</td>\n",
       "      <td>21</td>\n",
       "      <td>69.95</td>\n",
       "      <td>794</td>\n",
       "      <td>Mrs</td>\n",
       "      <td>1965-01-06</td>\n",
       "      <td>Baden-Wuerttemberg</td>\n",
       "      <td>2011-04-25</td>\n",
       "      <td>1</td>\n",
       "      <td>2</td>\n",
       "      <td>46.0</td>\n",
       "      <td>344</td>\n",
       "    </tr>\n",
       "    <tr>\n",
       "      <th>3</th>\n",
       "      <td>4</td>\n",
       "      <td>2012-04-02</td>\n",
       "      <td>2012-04-12</td>\n",
       "      <td>22</td>\n",
       "      <td>M</td>\n",
       "      <td>green</td>\n",
       "      <td>14</td>\n",
       "      <td>39.90</td>\n",
       "      <td>808</td>\n",
       "      <td>Mrs</td>\n",
       "      <td>1959-11-09</td>\n",
       "      <td>Saxony</td>\n",
       "      <td>2012-01-04</td>\n",
       "      <td>0</td>\n",
       "      <td>10</td>\n",
       "      <td>52.0</td>\n",
       "      <td>99</td>\n",
       "    </tr>\n",
       "    <tr>\n",
       "      <th>4</th>\n",
       "      <td>5</td>\n",
       "      <td>2012-04-02</td>\n",
       "      <td>2012-04-12</td>\n",
       "      <td>151</td>\n",
       "      <td>M</td>\n",
       "      <td>black</td>\n",
       "      <td>53</td>\n",
       "      <td>29.90</td>\n",
       "      <td>825</td>\n",
       "      <td>Mrs</td>\n",
       "      <td>1964-07-11</td>\n",
       "      <td>Rhineland-Palatinate</td>\n",
       "      <td>2011-02-16</td>\n",
       "      <td>0</td>\n",
       "      <td>10</td>\n",
       "      <td>46.0</td>\n",
       "      <td>421</td>\n",
       "    </tr>\n",
       "  </tbody>\n",
       "</table>\n",
       "</div>"
      ],
      "text/plain": [
       "   orderItemID  orderDate deliveryDate  itemID size   color  manufacturerID  \\\n",
       "0            1 2012-04-01   2012-04-03     186    M    blue              25   \n",
       "1            2 2012-04-01   2012-04-03      71    S  yellow              21   \n",
       "2            3 2012-04-01   2012-04-03      71    S  yellow              21   \n",
       "3            4 2012-04-02   2012-04-12      22    M   green              14   \n",
       "4            5 2012-04-02   2012-04-12     151    M   black              53   \n",
       "\n",
       "   price  customerID salutation dateOfBirth                 state  \\\n",
       "0  69.90         794        Mrs  1965-01-06    Baden-Wuerttemberg   \n",
       "1  69.95         794        Mrs  1965-01-06    Baden-Wuerttemberg   \n",
       "2  69.95         794        Mrs  1965-01-06    Baden-Wuerttemberg   \n",
       "3  39.90         808        Mrs  1959-11-09                Saxony   \n",
       "4  29.90         825        Mrs  1964-07-11  Rhineland-Palatinate   \n",
       "\n",
       "  creationDate  returnShipment  shippingTime   age  accountAge  \n",
       "0   2011-04-25               0             2  46.0         344  \n",
       "1   2011-04-25               1             2  46.0         344  \n",
       "2   2011-04-25               1             2  46.0         344  \n",
       "3   2012-01-04               0            10  52.0          99  \n",
       "4   2011-02-16               0            10  46.0         421  "
      ]
     },
     "execution_count": 45,
     "metadata": {},
     "output_type": "execute_result"
    }
   ],
   "source": [
    "df_raw.head()"
   ]
  },
  {
   "cell_type": "markdown",
   "metadata": {},
   "source": [
    "### Ambil Bulan Pembelian Barang"
   ]
  },
  {
   "cell_type": "code",
   "execution_count": 46,
   "metadata": {},
   "outputs": [],
   "source": [
    "df_raw[\"orderMonth\"] = df_raw['orderDate'].dt.month"
   ]
  },
  {
   "cell_type": "code",
   "execution_count": 47,
   "metadata": {},
   "outputs": [
    {
     "data": {
      "text/html": [
       "<div>\n",
       "<style scoped>\n",
       "    .dataframe tbody tr th:only-of-type {\n",
       "        vertical-align: middle;\n",
       "    }\n",
       "\n",
       "    .dataframe tbody tr th {\n",
       "        vertical-align: top;\n",
       "    }\n",
       "\n",
       "    .dataframe thead th {\n",
       "        text-align: right;\n",
       "    }\n",
       "</style>\n",
       "<table border=\"1\" class=\"dataframe\">\n",
       "  <thead>\n",
       "    <tr style=\"text-align: right;\">\n",
       "      <th></th>\n",
       "      <th>orderItemID</th>\n",
       "      <th>orderDate</th>\n",
       "      <th>deliveryDate</th>\n",
       "      <th>itemID</th>\n",
       "      <th>size</th>\n",
       "      <th>color</th>\n",
       "      <th>manufacturerID</th>\n",
       "      <th>price</th>\n",
       "      <th>customerID</th>\n",
       "      <th>salutation</th>\n",
       "      <th>dateOfBirth</th>\n",
       "      <th>state</th>\n",
       "      <th>creationDate</th>\n",
       "      <th>returnShipment</th>\n",
       "      <th>shippingTime</th>\n",
       "      <th>age</th>\n",
       "      <th>accountAge</th>\n",
       "      <th>orderMonth</th>\n",
       "    </tr>\n",
       "  </thead>\n",
       "  <tbody>\n",
       "    <tr>\n",
       "      <th>0</th>\n",
       "      <td>1</td>\n",
       "      <td>2012-04-01</td>\n",
       "      <td>2012-04-03</td>\n",
       "      <td>186</td>\n",
       "      <td>M</td>\n",
       "      <td>blue</td>\n",
       "      <td>25</td>\n",
       "      <td>69.90</td>\n",
       "      <td>794</td>\n",
       "      <td>Mrs</td>\n",
       "      <td>1965-01-06</td>\n",
       "      <td>Baden-Wuerttemberg</td>\n",
       "      <td>2011-04-25</td>\n",
       "      <td>0</td>\n",
       "      <td>2</td>\n",
       "      <td>46.0</td>\n",
       "      <td>344</td>\n",
       "      <td>4</td>\n",
       "    </tr>\n",
       "    <tr>\n",
       "      <th>1</th>\n",
       "      <td>2</td>\n",
       "      <td>2012-04-01</td>\n",
       "      <td>2012-04-03</td>\n",
       "      <td>71</td>\n",
       "      <td>S</td>\n",
       "      <td>yellow</td>\n",
       "      <td>21</td>\n",
       "      <td>69.95</td>\n",
       "      <td>794</td>\n",
       "      <td>Mrs</td>\n",
       "      <td>1965-01-06</td>\n",
       "      <td>Baden-Wuerttemberg</td>\n",
       "      <td>2011-04-25</td>\n",
       "      <td>1</td>\n",
       "      <td>2</td>\n",
       "      <td>46.0</td>\n",
       "      <td>344</td>\n",
       "      <td>4</td>\n",
       "    </tr>\n",
       "    <tr>\n",
       "      <th>2</th>\n",
       "      <td>3</td>\n",
       "      <td>2012-04-01</td>\n",
       "      <td>2012-04-03</td>\n",
       "      <td>71</td>\n",
       "      <td>S</td>\n",
       "      <td>yellow</td>\n",
       "      <td>21</td>\n",
       "      <td>69.95</td>\n",
       "      <td>794</td>\n",
       "      <td>Mrs</td>\n",
       "      <td>1965-01-06</td>\n",
       "      <td>Baden-Wuerttemberg</td>\n",
       "      <td>2011-04-25</td>\n",
       "      <td>1</td>\n",
       "      <td>2</td>\n",
       "      <td>46.0</td>\n",
       "      <td>344</td>\n",
       "      <td>4</td>\n",
       "    </tr>\n",
       "    <tr>\n",
       "      <th>3</th>\n",
       "      <td>4</td>\n",
       "      <td>2012-04-02</td>\n",
       "      <td>2012-04-12</td>\n",
       "      <td>22</td>\n",
       "      <td>M</td>\n",
       "      <td>green</td>\n",
       "      <td>14</td>\n",
       "      <td>39.90</td>\n",
       "      <td>808</td>\n",
       "      <td>Mrs</td>\n",
       "      <td>1959-11-09</td>\n",
       "      <td>Saxony</td>\n",
       "      <td>2012-01-04</td>\n",
       "      <td>0</td>\n",
       "      <td>10</td>\n",
       "      <td>52.0</td>\n",
       "      <td>99</td>\n",
       "      <td>4</td>\n",
       "    </tr>\n",
       "    <tr>\n",
       "      <th>4</th>\n",
       "      <td>5</td>\n",
       "      <td>2012-04-02</td>\n",
       "      <td>2012-04-12</td>\n",
       "      <td>151</td>\n",
       "      <td>M</td>\n",
       "      <td>black</td>\n",
       "      <td>53</td>\n",
       "      <td>29.90</td>\n",
       "      <td>825</td>\n",
       "      <td>Mrs</td>\n",
       "      <td>1964-07-11</td>\n",
       "      <td>Rhineland-Palatinate</td>\n",
       "      <td>2011-02-16</td>\n",
       "      <td>0</td>\n",
       "      <td>10</td>\n",
       "      <td>46.0</td>\n",
       "      <td>421</td>\n",
       "      <td>4</td>\n",
       "    </tr>\n",
       "  </tbody>\n",
       "</table>\n",
       "</div>"
      ],
      "text/plain": [
       "   orderItemID  orderDate deliveryDate  itemID size   color  manufacturerID  \\\n",
       "0            1 2012-04-01   2012-04-03     186    M    blue              25   \n",
       "1            2 2012-04-01   2012-04-03      71    S  yellow              21   \n",
       "2            3 2012-04-01   2012-04-03      71    S  yellow              21   \n",
       "3            4 2012-04-02   2012-04-12      22    M   green              14   \n",
       "4            5 2012-04-02   2012-04-12     151    M   black              53   \n",
       "\n",
       "   price  customerID salutation dateOfBirth                 state  \\\n",
       "0  69.90         794        Mrs  1965-01-06    Baden-Wuerttemberg   \n",
       "1  69.95         794        Mrs  1965-01-06    Baden-Wuerttemberg   \n",
       "2  69.95         794        Mrs  1965-01-06    Baden-Wuerttemberg   \n",
       "3  39.90         808        Mrs  1959-11-09                Saxony   \n",
       "4  29.90         825        Mrs  1964-07-11  Rhineland-Palatinate   \n",
       "\n",
       "  creationDate  returnShipment  shippingTime   age  accountAge  orderMonth  \n",
       "0   2011-04-25               0             2  46.0         344           4  \n",
       "1   2011-04-25               1             2  46.0         344           4  \n",
       "2   2011-04-25               1             2  46.0         344           4  \n",
       "3   2012-01-04               0            10  52.0          99           4  \n",
       "4   2011-02-16               0            10  46.0         421           4  "
      ]
     },
     "execution_count": 47,
     "metadata": {},
     "output_type": "execute_result"
    }
   ],
   "source": [
    "df_raw.head()"
   ]
  },
  {
   "cell_type": "markdown",
   "metadata": {},
   "source": [
    "### Mencari Delivery Ratio Untuk Tiap itemID"
   ]
  },
  {
   "cell_type": "code",
   "execution_count": 48,
   "metadata": {},
   "outputs": [],
   "source": [
    "#buat dataframe baru berisi itemID dan rata-rata shippingTime untuk itemID tersebut\n",
    "avg_delivery_time = pd.DataFrame(df_raw.groupby(['itemID'])['shippingTime'].mean())"
   ]
  },
  {
   "cell_type": "code",
   "execution_count": 49,
   "metadata": {},
   "outputs": [],
   "source": [
    "#ubah nama kolom menjadi avgShippingTime\n",
    "avg_delivery_time = avg_delivery_time.rename(columns = {'shippingTime': \"AvgShippingTime\"})\n",
    "#bulatkan hasil rata-rata shippingTime menjadi 2 angka di belakang koma\n",
    "avg_delivery_time['AvgShippingTime'] = round(avg_delivery_time['AvgShippingTime'], 2)"
   ]
  },
  {
   "cell_type": "code",
   "execution_count": 50,
   "metadata": {},
   "outputs": [
    {
     "data": {
      "text/html": [
       "<div>\n",
       "<style scoped>\n",
       "    .dataframe tbody tr th:only-of-type {\n",
       "        vertical-align: middle;\n",
       "    }\n",
       "\n",
       "    .dataframe tbody tr th {\n",
       "        vertical-align: top;\n",
       "    }\n",
       "\n",
       "    .dataframe thead th {\n",
       "        text-align: right;\n",
       "    }\n",
       "</style>\n",
       "<table border=\"1\" class=\"dataframe\">\n",
       "  <thead>\n",
       "    <tr style=\"text-align: right;\">\n",
       "      <th></th>\n",
       "      <th>AvgShippingTime</th>\n",
       "    </tr>\n",
       "    <tr>\n",
       "      <th>itemID</th>\n",
       "      <th></th>\n",
       "    </tr>\n",
       "  </thead>\n",
       "  <tbody>\n",
       "    <tr>\n",
       "      <th>1</th>\n",
       "      <td>5.40</td>\n",
       "    </tr>\n",
       "    <tr>\n",
       "      <th>2</th>\n",
       "      <td>5.50</td>\n",
       "    </tr>\n",
       "    <tr>\n",
       "      <th>3</th>\n",
       "      <td>5.77</td>\n",
       "    </tr>\n",
       "    <tr>\n",
       "      <th>4</th>\n",
       "      <td>4.48</td>\n",
       "    </tr>\n",
       "    <tr>\n",
       "      <th>5</th>\n",
       "      <td>6.00</td>\n",
       "    </tr>\n",
       "  </tbody>\n",
       "</table>\n",
       "</div>"
      ],
      "text/plain": [
       "        AvgShippingTime\n",
       "itemID                 \n",
       "1                  5.40\n",
       "2                  5.50\n",
       "3                  5.77\n",
       "4                  4.48\n",
       "5                  6.00"
      ]
     },
     "execution_count": 50,
     "metadata": {},
     "output_type": "execute_result"
    }
   ],
   "source": [
    "avg_delivery_time.head()"
   ]
  },
  {
   "cell_type": "code",
   "execution_count": 51,
   "metadata": {},
   "outputs": [],
   "source": [
    "#gabungkan dataframe tadi ke dataframe utama berdasarkan itemIDnya\n",
    "df_raw = pd.merge(df_raw, avg_delivery_time, on = 'itemID', how = 'left')"
   ]
  },
  {
   "cell_type": "code",
   "execution_count": 52,
   "metadata": {},
   "outputs": [],
   "source": [
    "#mencari ratio yaitu membagi shippingTime dengan rata-rata shippingTime nya\n",
    "df_raw[\"deliveryRatio\"] = df_raw[\"shippingTime\"] / df_raw[\"AvgShippingTime\"]"
   ]
  },
  {
   "cell_type": "markdown",
   "metadata": {},
   "source": [
    "### Membuat Poverty Ranking State"
   ]
  },
  {
   "cell_type": "code",
   "execution_count": 53,
   "metadata": {},
   "outputs": [],
   "source": [
    "#mencari poverty rank untuk tiap state dan membuatnya menjadi atribut baru\n",
    "df_raw[\"povertyRank\"] = df_raw[\"state\"].replace({\"North Rhine-Westphalia\": 16, \"Bavaria\": 15, \"Baden-Wuerttemberg\": 14, \"Lower Saxony\": 13,\n",
    "                                              \"Hesse\": 12, \"Rhineland-Palatinate\": 11, \"Berlin\": 10, \"Saxony\": 9, \"Hamburg\": 8,\n",
    "                                              \"Schleswig-Holstein\": 7, \"Brandenburg\": 6, \"Thuringia\": 5, \"Saxony-Anhalt\": 4,\n",
    "                                              \"Mecklenburg-Western Pomerania\": 3, \"Saarland\": 2, \"Bremen\": 1})"
   ]
  },
  {
   "cell_type": "markdown",
   "metadata": {},
   "source": [
    "### Mencari Rata-Rata Harga Untuk Tiap itemID"
   ]
  },
  {
   "cell_type": "code",
   "execution_count": 54,
   "metadata": {},
   "outputs": [],
   "source": [
    "#buat dataframe baru berisi itemID dan rata-rata harga untuk itemID tersebut\n",
    "avg_price = pd.DataFrame(df_raw.groupby(['itemID'])['price'].mean())"
   ]
  },
  {
   "cell_type": "code",
   "execution_count": 55,
   "metadata": {},
   "outputs": [],
   "source": [
    "#ubah nama kolom menjadi AverageItemPrice\n",
    "avg_price = avg_price.rename(columns = {'price': \"AverageItemPrice\"})\n",
    "#bulatkan hasil rata-rata harga menjadi 2 angka di belakang koma\n",
    "avg_price['AverageItemPrice'] = round(avg_price['AverageItemPrice'], 2)"
   ]
  },
  {
   "cell_type": "code",
   "execution_count": 56,
   "metadata": {},
   "outputs": [
    {
     "data": {
      "text/html": [
       "<div>\n",
       "<style scoped>\n",
       "    .dataframe tbody tr th:only-of-type {\n",
       "        vertical-align: middle;\n",
       "    }\n",
       "\n",
       "    .dataframe tbody tr th {\n",
       "        vertical-align: top;\n",
       "    }\n",
       "\n",
       "    .dataframe thead th {\n",
       "        text-align: right;\n",
       "    }\n",
       "</style>\n",
       "<table border=\"1\" class=\"dataframe\">\n",
       "  <thead>\n",
       "    <tr style=\"text-align: right;\">\n",
       "      <th></th>\n",
       "      <th>AverageItemPrice</th>\n",
       "    </tr>\n",
       "    <tr>\n",
       "      <th>itemID</th>\n",
       "      <th></th>\n",
       "    </tr>\n",
       "  </thead>\n",
       "  <tbody>\n",
       "    <tr>\n",
       "      <th>1</th>\n",
       "      <td>111.65</td>\n",
       "    </tr>\n",
       "    <tr>\n",
       "      <th>2</th>\n",
       "      <td>30.45</td>\n",
       "    </tr>\n",
       "    <tr>\n",
       "      <th>3</th>\n",
       "      <td>23.10</td>\n",
       "    </tr>\n",
       "    <tr>\n",
       "      <th>4</th>\n",
       "      <td>89.85</td>\n",
       "    </tr>\n",
       "    <tr>\n",
       "      <th>5</th>\n",
       "      <td>52.66</td>\n",
       "    </tr>\n",
       "  </tbody>\n",
       "</table>\n",
       "</div>"
      ],
      "text/plain": [
       "        AverageItemPrice\n",
       "itemID                  \n",
       "1                 111.65\n",
       "2                  30.45\n",
       "3                  23.10\n",
       "4                  89.85\n",
       "5                  52.66"
      ]
     },
     "execution_count": 56,
     "metadata": {},
     "output_type": "execute_result"
    }
   ],
   "source": [
    "avg_price.head()"
   ]
  },
  {
   "cell_type": "code",
   "execution_count": 57,
   "metadata": {},
   "outputs": [],
   "source": [
    "#gabungkan dataframe tadi ke dataframe utama berdasarkan itemIDnya\n",
    "df_raw = pd.merge(df_raw, avg_price, on = 'itemID', how = 'left')"
   ]
  },
  {
   "cell_type": "markdown",
   "metadata": {},
   "source": [
    "### Mencari Persentase Pengembalian Barang Berdasarkan ManufactureID"
   ]
  },
  {
   "cell_type": "code",
   "execution_count": 58,
   "metadata": {},
   "outputs": [
    {
     "data": {
      "text/html": [
       "<div>\n",
       "<style scoped>\n",
       "    .dataframe tbody tr th:only-of-type {\n",
       "        vertical-align: middle;\n",
       "    }\n",
       "\n",
       "    .dataframe tbody tr th {\n",
       "        vertical-align: top;\n",
       "    }\n",
       "\n",
       "    .dataframe thead th {\n",
       "        text-align: right;\n",
       "    }\n",
       "</style>\n",
       "<table border=\"1\" class=\"dataframe\">\n",
       "  <thead>\n",
       "    <tr style=\"text-align: right;\">\n",
       "      <th></th>\n",
       "      <th>noReturn</th>\n",
       "      <th>return</th>\n",
       "    </tr>\n",
       "    <tr>\n",
       "      <th>manufacturerID</th>\n",
       "      <th></th>\n",
       "      <th></th>\n",
       "    </tr>\n",
       "  </thead>\n",
       "  <tbody>\n",
       "    <tr>\n",
       "      <th>1</th>\n",
       "      <td>17250</td>\n",
       "      <td>18582</td>\n",
       "    </tr>\n",
       "    <tr>\n",
       "      <th>2</th>\n",
       "      <td>1890</td>\n",
       "      <td>1709</td>\n",
       "    </tr>\n",
       "    <tr>\n",
       "      <th>3</th>\n",
       "      <td>40007</td>\n",
       "      <td>25498</td>\n",
       "    </tr>\n",
       "    <tr>\n",
       "      <th>4</th>\n",
       "      <td>2243</td>\n",
       "      <td>2146</td>\n",
       "    </tr>\n",
       "    <tr>\n",
       "      <th>5</th>\n",
       "      <td>20842</td>\n",
       "      <td>17920</td>\n",
       "    </tr>\n",
       "  </tbody>\n",
       "</table>\n",
       "</div>"
      ],
      "text/plain": [
       "                noReturn  return\n",
       "manufacturerID                  \n",
       "1                  17250   18582\n",
       "2                   1890    1709\n",
       "3                  40007   25498\n",
       "4                   2243    2146\n",
       "5                  20842   17920"
      ]
     },
     "execution_count": 58,
     "metadata": {},
     "output_type": "execute_result"
    }
   ],
   "source": [
    "#membuat dataframe baru berisi manufactureID dan jumlah barang yang dikebalikan dan tidak dari manufactureID tersebut\n",
    "manufacturer_return = pd.DataFrame(pd.crosstab(df_raw['manufacturerID'], df_raw['returnShipment']))\n",
    "#jadikan hasil crosstab menjadi column dengan nama noReturn (untuk 0) dan return (untuk 1)\n",
    "manufacturer_return.columns = ['noReturn', 'return']\n",
    "manufacturer_return.head()"
   ]
  },
  {
   "cell_type": "code",
   "execution_count": 59,
   "metadata": {},
   "outputs": [],
   "source": [
    "#mencari total barang yang terjual yaitu total dari barang yang dikembalikan dan tidak\n",
    "manufacturer_return['totalSales'] = manufacturer_return['noReturn'] + manufacturer_return['return']"
   ]
  },
  {
   "cell_type": "code",
   "execution_count": 60,
   "metadata": {},
   "outputs": [],
   "source": [
    "#mencari persentase barang yang tidak dikembalikan (dibulatkan menjadi 2 angka di belakang koma)\n",
    "manufacturer_return['noReturnPercenMan'] = round(manufacturer_return['noReturn'] / manufacturer_return['totalSales'], 2)\n",
    "#mencari persentase barang yang dikembalikan (dibulatkan menjadi 2 angka di belakang koma)\n",
    "manufacturer_return['returnPercenMan'] = round(manufacturer_return['return'] / manufacturer_return['totalSales'], 2)"
   ]
  },
  {
   "cell_type": "code",
   "execution_count": 61,
   "metadata": {},
   "outputs": [
    {
     "data": {
      "text/html": [
       "<div>\n",
       "<style scoped>\n",
       "    .dataframe tbody tr th:only-of-type {\n",
       "        vertical-align: middle;\n",
       "    }\n",
       "\n",
       "    .dataframe tbody tr th {\n",
       "        vertical-align: top;\n",
       "    }\n",
       "\n",
       "    .dataframe thead th {\n",
       "        text-align: right;\n",
       "    }\n",
       "</style>\n",
       "<table border=\"1\" class=\"dataframe\">\n",
       "  <thead>\n",
       "    <tr style=\"text-align: right;\">\n",
       "      <th></th>\n",
       "      <th>noReturnPercenMan</th>\n",
       "      <th>returnPercenMan</th>\n",
       "    </tr>\n",
       "    <tr>\n",
       "      <th>manufacturerID</th>\n",
       "      <th></th>\n",
       "      <th></th>\n",
       "    </tr>\n",
       "  </thead>\n",
       "  <tbody>\n",
       "    <tr>\n",
       "      <th>1</th>\n",
       "      <td>0.48</td>\n",
       "      <td>0.52</td>\n",
       "    </tr>\n",
       "    <tr>\n",
       "      <th>2</th>\n",
       "      <td>0.53</td>\n",
       "      <td>0.47</td>\n",
       "    </tr>\n",
       "    <tr>\n",
       "      <th>3</th>\n",
       "      <td>0.61</td>\n",
       "      <td>0.39</td>\n",
       "    </tr>\n",
       "    <tr>\n",
       "      <th>4</th>\n",
       "      <td>0.51</td>\n",
       "      <td>0.49</td>\n",
       "    </tr>\n",
       "    <tr>\n",
       "      <th>5</th>\n",
       "      <td>0.54</td>\n",
       "      <td>0.46</td>\n",
       "    </tr>\n",
       "  </tbody>\n",
       "</table>\n",
       "</div>"
      ],
      "text/plain": [
       "                noReturnPercenMan  returnPercenMan\n",
       "manufacturerID                                    \n",
       "1                            0.48             0.52\n",
       "2                            0.53             0.47\n",
       "3                            0.61             0.39\n",
       "4                            0.51             0.49\n",
       "5                            0.54             0.46"
      ]
     },
     "execution_count": 61,
     "metadata": {},
     "output_type": "execute_result"
    }
   ],
   "source": [
    "#hapus column yang tidak diperlukan (hanya diperlukan persentasenya saja)\n",
    "manufacturer_return = manufacturer_return.drop([\"noReturn\", \"return\", \"totalSales\"], axis = 1)\n",
    "manufacturer_return.head()"
   ]
  },
  {
   "cell_type": "code",
   "execution_count": 62,
   "metadata": {},
   "outputs": [],
   "source": [
    "#gabungkan dataframe tadi ke dataframe utama\n",
    "df_raw = pd.merge(df_raw, manufacturer_return, on = 'manufacturerID', how = 'left')"
   ]
  },
  {
   "cell_type": "markdown",
   "metadata": {},
   "source": [
    "### Mencari Rate Pengembalian Barang Berdasarkan itemID"
   ]
  },
  {
   "cell_type": "code",
   "execution_count": 63,
   "metadata": {},
   "outputs": [
    {
     "data": {
      "text/html": [
       "<div>\n",
       "<style scoped>\n",
       "    .dataframe tbody tr th:only-of-type {\n",
       "        vertical-align: middle;\n",
       "    }\n",
       "\n",
       "    .dataframe tbody tr th {\n",
       "        vertical-align: top;\n",
       "    }\n",
       "\n",
       "    .dataframe thead th {\n",
       "        text-align: right;\n",
       "    }\n",
       "</style>\n",
       "<table border=\"1\" class=\"dataframe\">\n",
       "  <thead>\n",
       "    <tr style=\"text-align: right;\">\n",
       "      <th></th>\n",
       "      <th>noReturn</th>\n",
       "      <th>return</th>\n",
       "    </tr>\n",
       "    <tr>\n",
       "      <th>itemID</th>\n",
       "      <th></th>\n",
       "      <th></th>\n",
       "    </tr>\n",
       "  </thead>\n",
       "  <tbody>\n",
       "    <tr>\n",
       "      <th>1</th>\n",
       "      <td>335</td>\n",
       "      <td>431</td>\n",
       "    </tr>\n",
       "    <tr>\n",
       "      <th>2</th>\n",
       "      <td>235</td>\n",
       "      <td>154</td>\n",
       "    </tr>\n",
       "    <tr>\n",
       "      <th>3</th>\n",
       "      <td>355</td>\n",
       "      <td>163</td>\n",
       "    </tr>\n",
       "    <tr>\n",
       "      <th>4</th>\n",
       "      <td>114</td>\n",
       "      <td>198</td>\n",
       "    </tr>\n",
       "    <tr>\n",
       "      <th>5</th>\n",
       "      <td>417</td>\n",
       "      <td>413</td>\n",
       "    </tr>\n",
       "  </tbody>\n",
       "</table>\n",
       "</div>"
      ],
      "text/plain": [
       "        noReturn  return\n",
       "itemID                  \n",
       "1            335     431\n",
       "2            235     154\n",
       "3            355     163\n",
       "4            114     198\n",
       "5            417     413"
      ]
     },
     "execution_count": 63,
     "metadata": {},
     "output_type": "execute_result"
    }
   ],
   "source": [
    "#membuat dataframe baru berisi itemID dan jumlah barang yang dikebalikan dan tidak dari itemID tersebut\n",
    "item_return = pd.DataFrame(pd.crosstab(df_raw['itemID'], df_raw['returnShipment']))\n",
    "#jadikan hasil crosstab menjadi column dengan nama noReturn (untuk 0) dan return (untuk 1)\n",
    "item_return.columns = ['noReturn', 'return']\n",
    "item_return.head()"
   ]
  },
  {
   "cell_type": "code",
   "execution_count": 64,
   "metadata": {},
   "outputs": [],
   "source": [
    "#mencari total barang yang terjual yaitu total dari barang yang dikembalikan dan tidak\n",
    "item_return['totalSales'] = item_return['noReturn'] + item_return['return']"
   ]
  },
  {
   "cell_type": "code",
   "execution_count": 65,
   "metadata": {},
   "outputs": [],
   "source": [
    "#mencari persentase barang yang tidak dikembalikan (dibulatkan menjadi 2 angka di belakang koma)\n",
    "item_return['noReturnPercenItem'] = round(item_return['noReturn'] / item_return['totalSales'], 2)\n",
    "#mencari persentase barang yang dikembalikan (dibulatkan menjadi 2 angka di belakang koma)\n",
    "item_return['returnPercenItem'] = round(item_return['return'] / item_return['totalSales'], 2)"
   ]
  },
  {
   "cell_type": "code",
   "execution_count": 66,
   "metadata": {},
   "outputs": [
    {
     "data": {
      "text/html": [
       "<div>\n",
       "<style scoped>\n",
       "    .dataframe tbody tr th:only-of-type {\n",
       "        vertical-align: middle;\n",
       "    }\n",
       "\n",
       "    .dataframe tbody tr th {\n",
       "        vertical-align: top;\n",
       "    }\n",
       "\n",
       "    .dataframe thead th {\n",
       "        text-align: right;\n",
       "    }\n",
       "</style>\n",
       "<table border=\"1\" class=\"dataframe\">\n",
       "  <thead>\n",
       "    <tr style=\"text-align: right;\">\n",
       "      <th></th>\n",
       "      <th>noReturnPercenItem</th>\n",
       "      <th>returnPercenItem</th>\n",
       "    </tr>\n",
       "    <tr>\n",
       "      <th>itemID</th>\n",
       "      <th></th>\n",
       "      <th></th>\n",
       "    </tr>\n",
       "  </thead>\n",
       "  <tbody>\n",
       "    <tr>\n",
       "      <th>1</th>\n",
       "      <td>0.44</td>\n",
       "      <td>0.56</td>\n",
       "    </tr>\n",
       "    <tr>\n",
       "      <th>2</th>\n",
       "      <td>0.60</td>\n",
       "      <td>0.40</td>\n",
       "    </tr>\n",
       "    <tr>\n",
       "      <th>3</th>\n",
       "      <td>0.69</td>\n",
       "      <td>0.31</td>\n",
       "    </tr>\n",
       "    <tr>\n",
       "      <th>4</th>\n",
       "      <td>0.37</td>\n",
       "      <td>0.63</td>\n",
       "    </tr>\n",
       "    <tr>\n",
       "      <th>5</th>\n",
       "      <td>0.50</td>\n",
       "      <td>0.50</td>\n",
       "    </tr>\n",
       "  </tbody>\n",
       "</table>\n",
       "</div>"
      ],
      "text/plain": [
       "        noReturnPercenItem  returnPercenItem\n",
       "itemID                                      \n",
       "1                     0.44              0.56\n",
       "2                     0.60              0.40\n",
       "3                     0.69              0.31\n",
       "4                     0.37              0.63\n",
       "5                     0.50              0.50"
      ]
     },
     "execution_count": 66,
     "metadata": {},
     "output_type": "execute_result"
    }
   ],
   "source": [
    "#hapus column yang tidak diperlukan (hanya diperlukan persentasenya saja)\n",
    "item_return = item_return.drop([\"noReturn\", \"return\", \"totalSales\"], axis = 1)\n",
    "item_return.head()"
   ]
  },
  {
   "cell_type": "code",
   "execution_count": 67,
   "metadata": {},
   "outputs": [],
   "source": [
    "#gabungkan dataframe tadi ke dataframe utama\n",
    "df_raw = pd.merge(df_raw, item_return, on = 'itemID', how = 'left')"
   ]
  },
  {
   "cell_type": "markdown",
   "metadata": {},
   "source": [
    "### Mencari Rate Pengembalian Barang Berdasarkan state"
   ]
  },
  {
   "cell_type": "code",
   "execution_count": 68,
   "metadata": {},
   "outputs": [
    {
     "data": {
      "text/html": [
       "<div>\n",
       "<style scoped>\n",
       "    .dataframe tbody tr th:only-of-type {\n",
       "        vertical-align: middle;\n",
       "    }\n",
       "\n",
       "    .dataframe tbody tr th {\n",
       "        vertical-align: top;\n",
       "    }\n",
       "\n",
       "    .dataframe thead th {\n",
       "        text-align: right;\n",
       "    }\n",
       "</style>\n",
       "<table border=\"1\" class=\"dataframe\">\n",
       "  <thead>\n",
       "    <tr style=\"text-align: right;\">\n",
       "      <th></th>\n",
       "      <th>noReturn</th>\n",
       "      <th>return</th>\n",
       "    </tr>\n",
       "    <tr>\n",
       "      <th>state</th>\n",
       "      <th></th>\n",
       "      <th></th>\n",
       "    </tr>\n",
       "  </thead>\n",
       "  <tbody>\n",
       "    <tr>\n",
       "      <th>Baden-Wuerttemberg</th>\n",
       "      <td>32684</td>\n",
       "      <td>30397</td>\n",
       "    </tr>\n",
       "    <tr>\n",
       "      <th>Bavaria</th>\n",
       "      <td>35384</td>\n",
       "      <td>33265</td>\n",
       "    </tr>\n",
       "    <tr>\n",
       "      <th>Berlin</th>\n",
       "      <td>9714</td>\n",
       "      <td>8585</td>\n",
       "    </tr>\n",
       "    <tr>\n",
       "      <th>Brandenburg</th>\n",
       "      <td>5372</td>\n",
       "      <td>5412</td>\n",
       "    </tr>\n",
       "    <tr>\n",
       "      <th>Bremen</th>\n",
       "      <td>3043</td>\n",
       "      <td>2472</td>\n",
       "    </tr>\n",
       "  </tbody>\n",
       "</table>\n",
       "</div>"
      ],
      "text/plain": [
       "                    noReturn  return\n",
       "state                               \n",
       "Baden-Wuerttemberg     32684   30397\n",
       "Bavaria                35384   33265\n",
       "Berlin                  9714    8585\n",
       "Brandenburg             5372    5412\n",
       "Bremen                  3043    2472"
      ]
     },
     "execution_count": 68,
     "metadata": {},
     "output_type": "execute_result"
    }
   ],
   "source": [
    "#membuat dataframe baru berisi state dan jumlah barang yang dikebalikan dan tidak dari state tersebut\n",
    "state_return = pd.DataFrame(pd.crosstab(df_raw['state'], df_raw['returnShipment']))\n",
    "#jadikan hasil crosstab menjadi column dengan nama noReturn (untuk 0) dan return (untuk 1)\n",
    "state_return.columns = ['noReturn', 'return']\n",
    "state_return.head()"
   ]
  },
  {
   "cell_type": "code",
   "execution_count": 69,
   "metadata": {},
   "outputs": [],
   "source": [
    "#mencari total barang yang terjual yaitu total dari barang yang dikembalikan dan tidak\n",
    "state_return['totalSales'] = state_return['noReturn'] + state_return['return']"
   ]
  },
  {
   "cell_type": "code",
   "execution_count": 70,
   "metadata": {},
   "outputs": [],
   "source": [
    "#mencari persentase barang yang tidak dikembalikan (dibulatkan menjadi 2 angka di belakang koma)\n",
    "state_return['noReturnPercenState'] = round(state_return['noReturn'] / state_return['totalSales'], 2)\n",
    "#mencari persentase barang yang dikembalikan (dibulatkan menjadi 2 angka di belakang koma)\n",
    "state_return['returnPercenState'] = round(state_return['return'] / state_return['totalSales'], 2)"
   ]
  },
  {
   "cell_type": "code",
   "execution_count": 71,
   "metadata": {},
   "outputs": [
    {
     "data": {
      "text/html": [
       "<div>\n",
       "<style scoped>\n",
       "    .dataframe tbody tr th:only-of-type {\n",
       "        vertical-align: middle;\n",
       "    }\n",
       "\n",
       "    .dataframe tbody tr th {\n",
       "        vertical-align: top;\n",
       "    }\n",
       "\n",
       "    .dataframe thead th {\n",
       "        text-align: right;\n",
       "    }\n",
       "</style>\n",
       "<table border=\"1\" class=\"dataframe\">\n",
       "  <thead>\n",
       "    <tr style=\"text-align: right;\">\n",
       "      <th></th>\n",
       "      <th>noReturnPercenState</th>\n",
       "      <th>returnPercenState</th>\n",
       "    </tr>\n",
       "    <tr>\n",
       "      <th>state</th>\n",
       "      <th></th>\n",
       "      <th></th>\n",
       "    </tr>\n",
       "  </thead>\n",
       "  <tbody>\n",
       "    <tr>\n",
       "      <th>Baden-Wuerttemberg</th>\n",
       "      <td>0.52</td>\n",
       "      <td>0.48</td>\n",
       "    </tr>\n",
       "    <tr>\n",
       "      <th>Bavaria</th>\n",
       "      <td>0.52</td>\n",
       "      <td>0.48</td>\n",
       "    </tr>\n",
       "    <tr>\n",
       "      <th>Berlin</th>\n",
       "      <td>0.53</td>\n",
       "      <td>0.47</td>\n",
       "    </tr>\n",
       "    <tr>\n",
       "      <th>Brandenburg</th>\n",
       "      <td>0.50</td>\n",
       "      <td>0.50</td>\n",
       "    </tr>\n",
       "    <tr>\n",
       "      <th>Bremen</th>\n",
       "      <td>0.55</td>\n",
       "      <td>0.45</td>\n",
       "    </tr>\n",
       "  </tbody>\n",
       "</table>\n",
       "</div>"
      ],
      "text/plain": [
       "                    noReturnPercenState  returnPercenState\n",
       "state                                                     \n",
       "Baden-Wuerttemberg                 0.52               0.48\n",
       "Bavaria                            0.52               0.48\n",
       "Berlin                             0.53               0.47\n",
       "Brandenburg                        0.50               0.50\n",
       "Bremen                             0.55               0.45"
      ]
     },
     "execution_count": 71,
     "metadata": {},
     "output_type": "execute_result"
    }
   ],
   "source": [
    "#hapus column yang tidak diperlukan (hanya diperlukan persentasenya saja)\n",
    "state_return = state_return.drop([\"noReturn\", \"return\", \"totalSales\"], axis = 1)\n",
    "state_return.head()"
   ]
  },
  {
   "cell_type": "code",
   "execution_count": 72,
   "metadata": {},
   "outputs": [],
   "source": [
    "#gabungkan dataframe tadi ke dataframe utama\n",
    "df_raw = pd.merge(df_raw, state_return, on = 'state', how = 'left')"
   ]
  },
  {
   "cell_type": "markdown",
   "metadata": {},
   "source": [
    "### Mencari Rate Pengembalian Barang Berdasarkan customerID"
   ]
  },
  {
   "cell_type": "code",
   "execution_count": 73,
   "metadata": {},
   "outputs": [
    {
     "data": {
      "text/html": [
       "<div>\n",
       "<style scoped>\n",
       "    .dataframe tbody tr th:only-of-type {\n",
       "        vertical-align: middle;\n",
       "    }\n",
       "\n",
       "    .dataframe tbody tr th {\n",
       "        vertical-align: top;\n",
       "    }\n",
       "\n",
       "    .dataframe thead th {\n",
       "        text-align: right;\n",
       "    }\n",
       "</style>\n",
       "<table border=\"1\" class=\"dataframe\">\n",
       "  <thead>\n",
       "    <tr style=\"text-align: right;\">\n",
       "      <th></th>\n",
       "      <th>noReturn</th>\n",
       "      <th>return</th>\n",
       "    </tr>\n",
       "    <tr>\n",
       "      <th>customerID</th>\n",
       "      <th></th>\n",
       "      <th></th>\n",
       "    </tr>\n",
       "  </thead>\n",
       "  <tbody>\n",
       "    <tr>\n",
       "      <th>6</th>\n",
       "      <td>15</td>\n",
       "      <td>10</td>\n",
       "    </tr>\n",
       "    <tr>\n",
       "      <th>9</th>\n",
       "      <td>4</td>\n",
       "      <td>11</td>\n",
       "    </tr>\n",
       "    <tr>\n",
       "      <th>11</th>\n",
       "      <td>2</td>\n",
       "      <td>0</td>\n",
       "    </tr>\n",
       "    <tr>\n",
       "      <th>13</th>\n",
       "      <td>6</td>\n",
       "      <td>3</td>\n",
       "    </tr>\n",
       "    <tr>\n",
       "      <th>15</th>\n",
       "      <td>5</td>\n",
       "      <td>5</td>\n",
       "    </tr>\n",
       "  </tbody>\n",
       "</table>\n",
       "</div>"
      ],
      "text/plain": [
       "            noReturn  return\n",
       "customerID                  \n",
       "6                 15      10\n",
       "9                  4      11\n",
       "11                 2       0\n",
       "13                 6       3\n",
       "15                 5       5"
      ]
     },
     "execution_count": 73,
     "metadata": {},
     "output_type": "execute_result"
    }
   ],
   "source": [
    "#membuat dataframe baru berisi customerID dan jumlah barang yang dikebalikan dan tidak dari customerID tersebut\n",
    "customer_return = pd.DataFrame(pd.crosstab(df_raw['customerID'], df_raw['returnShipment']))\n",
    "#jadikan hasil crosstab menjadi column dengan nama noReturn (untuk 0) dan return (untuk 1)\n",
    "customer_return.columns = ['noReturn', 'return']\n",
    "customer_return.head()"
   ]
  },
  {
   "cell_type": "code",
   "execution_count": 74,
   "metadata": {},
   "outputs": [],
   "source": [
    "#mencari total barang yang terjual yaitu total dari barang yang dikembalikan dan tidak\n",
    "customer_return['totalSales'] = customer_return['noReturn'] + customer_return['return']"
   ]
  },
  {
   "cell_type": "code",
   "execution_count": 75,
   "metadata": {},
   "outputs": [],
   "source": [
    "#mencari persentase barang yang tidak dikembalikan (dibulatkan menjadi 2 angka di belakang koma)\n",
    "customer_return['noReturnPercenCus'] = round(customer_return['noReturn'] / customer_return['totalSales'], 2)\n",
    "#mencari persentase barang yang dikembalikan (dibulatkan menjadi 2 angka di belakang koma)\n",
    "customer_return['returnPercenCus'] = round(customer_return['return'] / customer_return['totalSales'], 2)"
   ]
  },
  {
   "cell_type": "code",
   "execution_count": 76,
   "metadata": {},
   "outputs": [
    {
     "data": {
      "text/html": [
       "<div>\n",
       "<style scoped>\n",
       "    .dataframe tbody tr th:only-of-type {\n",
       "        vertical-align: middle;\n",
       "    }\n",
       "\n",
       "    .dataframe tbody tr th {\n",
       "        vertical-align: top;\n",
       "    }\n",
       "\n",
       "    .dataframe thead th {\n",
       "        text-align: right;\n",
       "    }\n",
       "</style>\n",
       "<table border=\"1\" class=\"dataframe\">\n",
       "  <thead>\n",
       "    <tr style=\"text-align: right;\">\n",
       "      <th></th>\n",
       "      <th>noReturnPercenCus</th>\n",
       "      <th>returnPercenCus</th>\n",
       "    </tr>\n",
       "    <tr>\n",
       "      <th>customerID</th>\n",
       "      <th></th>\n",
       "      <th></th>\n",
       "    </tr>\n",
       "  </thead>\n",
       "  <tbody>\n",
       "    <tr>\n",
       "      <th>6</th>\n",
       "      <td>0.60</td>\n",
       "      <td>0.40</td>\n",
       "    </tr>\n",
       "    <tr>\n",
       "      <th>9</th>\n",
       "      <td>0.27</td>\n",
       "      <td>0.73</td>\n",
       "    </tr>\n",
       "    <tr>\n",
       "      <th>11</th>\n",
       "      <td>1.00</td>\n",
       "      <td>0.00</td>\n",
       "    </tr>\n",
       "    <tr>\n",
       "      <th>13</th>\n",
       "      <td>0.67</td>\n",
       "      <td>0.33</td>\n",
       "    </tr>\n",
       "    <tr>\n",
       "      <th>15</th>\n",
       "      <td>0.50</td>\n",
       "      <td>0.50</td>\n",
       "    </tr>\n",
       "  </tbody>\n",
       "</table>\n",
       "</div>"
      ],
      "text/plain": [
       "            noReturnPercenCus  returnPercenCus\n",
       "customerID                                    \n",
       "6                        0.60             0.40\n",
       "9                        0.27             0.73\n",
       "11                       1.00             0.00\n",
       "13                       0.67             0.33\n",
       "15                       0.50             0.50"
      ]
     },
     "execution_count": 76,
     "metadata": {},
     "output_type": "execute_result"
    }
   ],
   "source": [
    "#hapus column yang tidak diperlukan (hanya diperlukan persentasenya saja)\n",
    "customer_return = customer_return.drop([\"noReturn\", \"return\", \"totalSales\"], axis = 1)\n",
    "customer_return.head()"
   ]
  },
  {
   "cell_type": "code",
   "execution_count": 77,
   "metadata": {},
   "outputs": [],
   "source": [
    "#gabungkan dataframe tadi ke dataframe utama\n",
    "df_raw = pd.merge(df_raw, customer_return, on = 'customerID', how = 'left')"
   ]
  },
  {
   "cell_type": "markdown",
   "metadata": {},
   "source": [
    "### Mencari Rate Pengembalian Barang Berdasarkan size"
   ]
  },
  {
   "cell_type": "code",
   "execution_count": 78,
   "metadata": {},
   "outputs": [
    {
     "data": {
      "text/html": [
       "<div>\n",
       "<style scoped>\n",
       "    .dataframe tbody tr th:only-of-type {\n",
       "        vertical-align: middle;\n",
       "    }\n",
       "\n",
       "    .dataframe tbody tr th {\n",
       "        vertical-align: top;\n",
       "    }\n",
       "\n",
       "    .dataframe thead th {\n",
       "        text-align: right;\n",
       "    }\n",
       "</style>\n",
       "<table border=\"1\" class=\"dataframe\">\n",
       "  <thead>\n",
       "    <tr style=\"text-align: right;\">\n",
       "      <th></th>\n",
       "      <th>noReturn</th>\n",
       "      <th>return</th>\n",
       "    </tr>\n",
       "    <tr>\n",
       "      <th>size</th>\n",
       "      <th></th>\n",
       "      <th></th>\n",
       "    </tr>\n",
       "  </thead>\n",
       "  <tbody>\n",
       "    <tr>\n",
       "      <th>L</th>\n",
       "      <td>59974</td>\n",
       "      <td>61688</td>\n",
       "    </tr>\n",
       "    <tr>\n",
       "      <th>M</th>\n",
       "      <td>58077</td>\n",
       "      <td>55715</td>\n",
       "    </tr>\n",
       "    <tr>\n",
       "      <th>S</th>\n",
       "      <td>21771</td>\n",
       "      <td>21671</td>\n",
       "    </tr>\n",
       "    <tr>\n",
       "      <th>XL</th>\n",
       "      <td>44357</td>\n",
       "      <td>43403</td>\n",
       "    </tr>\n",
       "    <tr>\n",
       "      <th>XS</th>\n",
       "      <td>4231</td>\n",
       "      <td>4642</td>\n",
       "    </tr>\n",
       "  </tbody>\n",
       "</table>\n",
       "</div>"
      ],
      "text/plain": [
       "      noReturn  return\n",
       "size                  \n",
       "L        59974   61688\n",
       "M        58077   55715\n",
       "S        21771   21671\n",
       "XL       44357   43403\n",
       "XS        4231    4642"
      ]
     },
     "execution_count": 78,
     "metadata": {},
     "output_type": "execute_result"
    }
   ],
   "source": [
    "#membuat dataframe baru berisi size dan jumlah barang yang dikebalikan dan tidak dari size tersebut\n",
    "size_return = pd.DataFrame(pd.crosstab(df_raw['size'], df_raw['returnShipment']))\n",
    "#jadikan hasil crosstab menjadi column dengan nama noReturn (untuk 0) dan return (untuk 1)\n",
    "size_return.columns = ['noReturn', 'return']\n",
    "size_return.head()"
   ]
  },
  {
   "cell_type": "code",
   "execution_count": 79,
   "metadata": {},
   "outputs": [],
   "source": [
    "#mencari total barang yang terjual yaitu total dari barang yang dikembalikan dan tidak\n",
    "size_return['totalSales'] = size_return['noReturn'] + size_return['return']"
   ]
  },
  {
   "cell_type": "code",
   "execution_count": 80,
   "metadata": {},
   "outputs": [],
   "source": [
    "#mencari persentase barang yang tidak dikembalikan (dibulatkan menjadi 2 angka di belakang koma)\n",
    "size_return['noReturnPercenSize'] = round(size_return['noReturn'] / size_return['totalSales'], 2)\n",
    "#mencari persentase barang yang dikembalikan (dibulatkan menjadi 2 angka di belakang koma)\n",
    "size_return['returnPercenSize'] = round(size_return['return'] / size_return['totalSales'], 2)"
   ]
  },
  {
   "cell_type": "code",
   "execution_count": 81,
   "metadata": {},
   "outputs": [
    {
     "data": {
      "text/html": [
       "<div>\n",
       "<style scoped>\n",
       "    .dataframe tbody tr th:only-of-type {\n",
       "        vertical-align: middle;\n",
       "    }\n",
       "\n",
       "    .dataframe tbody tr th {\n",
       "        vertical-align: top;\n",
       "    }\n",
       "\n",
       "    .dataframe thead th {\n",
       "        text-align: right;\n",
       "    }\n",
       "</style>\n",
       "<table border=\"1\" class=\"dataframe\">\n",
       "  <thead>\n",
       "    <tr style=\"text-align: right;\">\n",
       "      <th></th>\n",
       "      <th>noReturnPercenSize</th>\n",
       "      <th>returnPercenSize</th>\n",
       "    </tr>\n",
       "    <tr>\n",
       "      <th>size</th>\n",
       "      <th></th>\n",
       "      <th></th>\n",
       "    </tr>\n",
       "  </thead>\n",
       "  <tbody>\n",
       "    <tr>\n",
       "      <th>L</th>\n",
       "      <td>0.49</td>\n",
       "      <td>0.51</td>\n",
       "    </tr>\n",
       "    <tr>\n",
       "      <th>M</th>\n",
       "      <td>0.51</td>\n",
       "      <td>0.49</td>\n",
       "    </tr>\n",
       "    <tr>\n",
       "      <th>S</th>\n",
       "      <td>0.50</td>\n",
       "      <td>0.50</td>\n",
       "    </tr>\n",
       "    <tr>\n",
       "      <th>XL</th>\n",
       "      <td>0.51</td>\n",
       "      <td>0.49</td>\n",
       "    </tr>\n",
       "    <tr>\n",
       "      <th>XS</th>\n",
       "      <td>0.48</td>\n",
       "      <td>0.52</td>\n",
       "    </tr>\n",
       "  </tbody>\n",
       "</table>\n",
       "</div>"
      ],
      "text/plain": [
       "      noReturnPercenSize  returnPercenSize\n",
       "size                                      \n",
       "L                   0.49              0.51\n",
       "M                   0.51              0.49\n",
       "S                   0.50              0.50\n",
       "XL                  0.51              0.49\n",
       "XS                  0.48              0.52"
      ]
     },
     "execution_count": 81,
     "metadata": {},
     "output_type": "execute_result"
    }
   ],
   "source": [
    "#hapus column yang tidak diperlukan (hanya diperlukan persentasenya saja)\n",
    "size_return = size_return.drop([\"noReturn\", \"return\", \"totalSales\"], axis = 1)\n",
    "size_return.head()"
   ]
  },
  {
   "cell_type": "code",
   "execution_count": 82,
   "metadata": {},
   "outputs": [],
   "source": [
    "#gabungkan dataframe tadi ke dataframe utama\n",
    "df_raw = pd.merge(df_raw, size_return, on = 'size', how = 'left')"
   ]
  },
  {
   "cell_type": "markdown",
   "metadata": {
    "id": "Iww5SXGNQa1_"
   },
   "source": [
    "### Ubah Tipe Data Ke Kategori"
   ]
  },
  {
   "cell_type": "code",
   "execution_count": 83,
   "metadata": {
    "id": "wuFUL9NFQefy"
   },
   "outputs": [],
   "source": [
    "#ubah tipe data menjadi kategori agar mempercepat proses dan meringankan memori\n",
    "cols=[\"color\",\"salutation\",\"state\",\"size\"]\n",
    "df_raw[cols] = df_raw[cols].astype(\"category\")"
   ]
  },
  {
   "cell_type": "markdown",
   "metadata": {
    "id": "3SwO9pAMV9b8"
   },
   "source": [
    "cek hasil perubahan"
   ]
  },
  {
   "cell_type": "code",
   "execution_count": 84,
   "metadata": {
    "colab": {
     "base_uri": "https://localhost:8080/"
    },
    "id": "I5w6u84yQkyd",
    "outputId": "ff7765ef-6399-43a9-b36c-a9ce3d7d9b64"
   },
   "outputs": [
    {
     "name": "stdout",
     "output_type": "stream",
     "text": [
      "<class 'pandas.core.frame.DataFrame'>\n",
      "Int64Index: 481092 entries, 0 to 481091\n",
      "Data columns (total 32 columns):\n",
      " #   Column               Non-Null Count   Dtype         \n",
      "---  ------               --------------   -----         \n",
      " 0   orderItemID          481092 non-null  int64         \n",
      " 1   orderDate            481092 non-null  datetime64[ns]\n",
      " 2   deliveryDate         481092 non-null  datetime64[ns]\n",
      " 3   itemID               481092 non-null  int64         \n",
      " 4   size                 481092 non-null  category      \n",
      " 5   color                480949 non-null  category      \n",
      " 6   manufacturerID       481092 non-null  int64         \n",
      " 7   price                481092 non-null  float64       \n",
      " 8   customerID           481092 non-null  int64         \n",
      " 9   salutation           481092 non-null  category      \n",
      " 10  dateOfBirth          432203 non-null  datetime64[ns]\n",
      " 11  state                481092 non-null  category      \n",
      " 12  creationDate         481092 non-null  datetime64[ns]\n",
      " 13  returnShipment       481092 non-null  int64         \n",
      " 14  shippingTime         481092 non-null  int64         \n",
      " 15  age                  481092 non-null  float64       \n",
      " 16  accountAge           481092 non-null  int64         \n",
      " 17  orderMonth           481092 non-null  int64         \n",
      " 18  AvgShippingTime      481092 non-null  float64       \n",
      " 19  deliveryRatio        481092 non-null  float64       \n",
      " 20  povertyRank          481092 non-null  int64         \n",
      " 21  AverageItemPrice     481092 non-null  float64       \n",
      " 22  noReturnPercenMan    481092 non-null  float64       \n",
      " 23  returnPercenMan      481092 non-null  float64       \n",
      " 24  noReturnPercenItem   481092 non-null  float64       \n",
      " 25  returnPercenItem     481092 non-null  float64       \n",
      " 26  noReturnPercenState  481092 non-null  float64       \n",
      " 27  returnPercenState    481092 non-null  float64       \n",
      " 28  noReturnPercenCus    481092 non-null  float64       \n",
      " 29  returnPercenCus      481092 non-null  float64       \n",
      " 30  noReturnPercenSize   481092 non-null  float64       \n",
      " 31  returnPercenSize     481092 non-null  float64       \n",
      "dtypes: category(4), datetime64[ns](4), float64(15), int64(9)\n",
      "memory usage: 108.3 MB\n"
     ]
    }
   ],
   "source": [
    "df_raw.info()"
   ]
  },
  {
   "cell_type": "markdown",
   "metadata": {
    "id": "fh64rOu9WBt1"
   },
   "source": [
    "cek data yang masih null"
   ]
  },
  {
   "cell_type": "code",
   "execution_count": 85,
   "metadata": {
    "colab": {
     "base_uri": "https://localhost:8080/"
    },
    "id": "G_zNgAMUTVv3",
    "outputId": "0b9f4cd7-a1a3-4d89-98ee-98abaa8c2884"
   },
   "outputs": [
    {
     "data": {
      "text/plain": [
       "orderItemID                0\n",
       "orderDate                  0\n",
       "deliveryDate               0\n",
       "itemID                     0\n",
       "size                       0\n",
       "color                    143\n",
       "manufacturerID             0\n",
       "price                      0\n",
       "customerID                 0\n",
       "salutation                 0\n",
       "dateOfBirth            48889\n",
       "state                      0\n",
       "creationDate               0\n",
       "returnShipment             0\n",
       "shippingTime               0\n",
       "age                        0\n",
       "accountAge                 0\n",
       "orderMonth                 0\n",
       "AvgShippingTime            0\n",
       "deliveryRatio              0\n",
       "povertyRank                0\n",
       "AverageItemPrice           0\n",
       "noReturnPercenMan          0\n",
       "returnPercenMan            0\n",
       "noReturnPercenItem         0\n",
       "returnPercenItem           0\n",
       "noReturnPercenState        0\n",
       "returnPercenState          0\n",
       "noReturnPercenCus          0\n",
       "returnPercenCus            0\n",
       "noReturnPercenSize         0\n",
       "returnPercenSize           0\n",
       "dtype: int64"
      ]
     },
     "execution_count": 85,
     "metadata": {},
     "output_type": "execute_result"
    }
   ],
   "source": [
    "df_raw.isnull().sum()"
   ]
  },
  {
   "cell_type": "markdown",
   "metadata": {
    "id": "H6zvrIADvCDE"
   },
   "source": [
    "# Pembuatan Model"
   ]
  },
  {
   "cell_type": "code",
   "execution_count": 86,
   "metadata": {
    "id": "SljNyWsFayUl"
   },
   "outputs": [],
   "source": [
    "#copy data untuk menjaga data asli hasil praproses\n",
    "df_temp = df_raw.copy()"
   ]
  },
  {
   "cell_type": "code",
   "execution_count": 87,
   "metadata": {
    "colab": {
     "base_uri": "https://localhost:8080/"
    },
    "id": "2uMa8Ctva_Q0",
    "outputId": "e33d83fe-976f-4f92-8102-af8d34dba91d"
   },
   "outputs": [
    {
     "name": "stdout",
     "output_type": "stream",
     "text": [
      "<class 'pandas.core.frame.DataFrame'>\n",
      "Int64Index: 481092 entries, 0 to 481091\n",
      "Data columns (total 32 columns):\n",
      " #   Column               Non-Null Count   Dtype         \n",
      "---  ------               --------------   -----         \n",
      " 0   orderItemID          481092 non-null  int64         \n",
      " 1   orderDate            481092 non-null  datetime64[ns]\n",
      " 2   deliveryDate         481092 non-null  datetime64[ns]\n",
      " 3   itemID               481092 non-null  int64         \n",
      " 4   size                 481092 non-null  category      \n",
      " 5   color                480949 non-null  category      \n",
      " 6   manufacturerID       481092 non-null  int64         \n",
      " 7   price                481092 non-null  float64       \n",
      " 8   customerID           481092 non-null  int64         \n",
      " 9   salutation           481092 non-null  category      \n",
      " 10  dateOfBirth          432203 non-null  datetime64[ns]\n",
      " 11  state                481092 non-null  category      \n",
      " 12  creationDate         481092 non-null  datetime64[ns]\n",
      " 13  returnShipment       481092 non-null  int64         \n",
      " 14  shippingTime         481092 non-null  int64         \n",
      " 15  age                  481092 non-null  float64       \n",
      " 16  accountAge           481092 non-null  int64         \n",
      " 17  orderMonth           481092 non-null  int64         \n",
      " 18  AvgShippingTime      481092 non-null  float64       \n",
      " 19  deliveryRatio        481092 non-null  float64       \n",
      " 20  povertyRank          481092 non-null  int64         \n",
      " 21  AverageItemPrice     481092 non-null  float64       \n",
      " 22  noReturnPercenMan    481092 non-null  float64       \n",
      " 23  returnPercenMan      481092 non-null  float64       \n",
      " 24  noReturnPercenItem   481092 non-null  float64       \n",
      " 25  returnPercenItem     481092 non-null  float64       \n",
      " 26  noReturnPercenState  481092 non-null  float64       \n",
      " 27  returnPercenState    481092 non-null  float64       \n",
      " 28  noReturnPercenCus    481092 non-null  float64       \n",
      " 29  returnPercenCus      481092 non-null  float64       \n",
      " 30  noReturnPercenSize   481092 non-null  float64       \n",
      " 31  returnPercenSize     481092 non-null  float64       \n",
      "dtypes: category(4), datetime64[ns](4), float64(15), int64(9)\n",
      "memory usage: 108.3 MB\n"
     ]
    }
   ],
   "source": [
    "#cek atribut yang ada\n",
    "df_temp.info()"
   ]
  },
  {
   "cell_type": "code",
   "execution_count": 88,
   "metadata": {
    "id": "5Gium5oEbvwM"
   },
   "outputs": [],
   "source": [
    "#hapus atribut yang tidak diperlukan dalam pembuatan model\n",
    "df_temp = df_temp.drop([\"orderDate\", \"deliveryDate\", \"dateOfBirth\", \"creationDate\", \"AvgShippingTime\"], axis = 1)"
   ]
  },
  {
   "cell_type": "code",
   "execution_count": 89,
   "metadata": {
    "colab": {
     "base_uri": "https://localhost:8080/"
    },
    "id": "Jk6040KWcxrc",
    "outputId": "b4ccc5a1-4246-4d73-e893-8371e2d25780"
   },
   "outputs": [
    {
     "name": "stdout",
     "output_type": "stream",
     "text": [
      "<class 'pandas.core.frame.DataFrame'>\n",
      "Int64Index: 481092 entries, 0 to 481091\n",
      "Data columns (total 27 columns):\n",
      " #   Column               Non-Null Count   Dtype   \n",
      "---  ------               --------------   -----   \n",
      " 0   orderItemID          481092 non-null  int64   \n",
      " 1   itemID               481092 non-null  int64   \n",
      " 2   size                 481092 non-null  category\n",
      " 3   color                480949 non-null  category\n",
      " 4   manufacturerID       481092 non-null  int64   \n",
      " 5   price                481092 non-null  float64 \n",
      " 6   customerID           481092 non-null  int64   \n",
      " 7   salutation           481092 non-null  category\n",
      " 8   state                481092 non-null  category\n",
      " 9   returnShipment       481092 non-null  int64   \n",
      " 10  shippingTime         481092 non-null  int64   \n",
      " 11  age                  481092 non-null  float64 \n",
      " 12  accountAge           481092 non-null  int64   \n",
      " 13  orderMonth           481092 non-null  int64   \n",
      " 14  deliveryRatio        481092 non-null  float64 \n",
      " 15  povertyRank          481092 non-null  int64   \n",
      " 16  AverageItemPrice     481092 non-null  float64 \n",
      " 17  noReturnPercenMan    481092 non-null  float64 \n",
      " 18  returnPercenMan      481092 non-null  float64 \n",
      " 19  noReturnPercenItem   481092 non-null  float64 \n",
      " 20  returnPercenItem     481092 non-null  float64 \n",
      " 21  noReturnPercenState  481092 non-null  float64 \n",
      " 22  returnPercenState    481092 non-null  float64 \n",
      " 23  noReturnPercenCus    481092 non-null  float64 \n",
      " 24  returnPercenCus      481092 non-null  float64 \n",
      " 25  noReturnPercenSize   481092 non-null  float64 \n",
      " 26  returnPercenSize     481092 non-null  float64 \n",
      "dtypes: category(4), float64(14), int64(9)\n",
      "memory usage: 89.9 MB\n"
     ]
    }
   ],
   "source": [
    "#cek setelah melakukan penghapusan\n",
    "df_temp.info()"
   ]
  },
  {
   "cell_type": "code",
   "execution_count": 90,
   "metadata": {
    "id": "KVcmLb8TvHSE"
   },
   "outputs": [],
   "source": [
    "#lakukan one-hot encoding pada data yang bertipe kategori\n",
    "df_temp = pd.get_dummies(data=df_temp, columns=['size', 'color', 'salutation', 'state'])"
   ]
  },
  {
   "cell_type": "code",
   "execution_count": 91,
   "metadata": {
    "colab": {
     "base_uri": "https://localhost:8080/",
     "height": 334
    },
    "id": "NrJOuDLXvqqB",
    "outputId": "7e6dd325-353a-4f28-b5ef-8208215bd587"
   },
   "outputs": [
    {
     "data": {
      "text/html": [
       "<div>\n",
       "<style scoped>\n",
       "    .dataframe tbody tr th:only-of-type {\n",
       "        vertical-align: middle;\n",
       "    }\n",
       "\n",
       "    .dataframe tbody tr th {\n",
       "        vertical-align: top;\n",
       "    }\n",
       "\n",
       "    .dataframe thead th {\n",
       "        text-align: right;\n",
       "    }\n",
       "</style>\n",
       "<table border=\"1\" class=\"dataframe\">\n",
       "  <thead>\n",
       "    <tr style=\"text-align: right;\">\n",
       "      <th></th>\n",
       "      <th>orderItemID</th>\n",
       "      <th>itemID</th>\n",
       "      <th>manufacturerID</th>\n",
       "      <th>price</th>\n",
       "      <th>customerID</th>\n",
       "      <th>returnShipment</th>\n",
       "      <th>shippingTime</th>\n",
       "      <th>age</th>\n",
       "      <th>accountAge</th>\n",
       "      <th>orderMonth</th>\n",
       "      <th>...</th>\n",
       "      <th>state_Hesse</th>\n",
       "      <th>state_Lower Saxony</th>\n",
       "      <th>state_Mecklenburg-Western Pomerania</th>\n",
       "      <th>state_North Rhine-Westphalia</th>\n",
       "      <th>state_Rhineland-Palatinate</th>\n",
       "      <th>state_Saarland</th>\n",
       "      <th>state_Saxony</th>\n",
       "      <th>state_Saxony-Anhalt</th>\n",
       "      <th>state_Schleswig-Holstein</th>\n",
       "      <th>state_Thuringia</th>\n",
       "    </tr>\n",
       "  </thead>\n",
       "  <tbody>\n",
       "    <tr>\n",
       "      <th>0</th>\n",
       "      <td>1</td>\n",
       "      <td>186</td>\n",
       "      <td>25</td>\n",
       "      <td>69.90</td>\n",
       "      <td>794</td>\n",
       "      <td>0</td>\n",
       "      <td>2</td>\n",
       "      <td>46.0</td>\n",
       "      <td>344</td>\n",
       "      <td>4</td>\n",
       "      <td>...</td>\n",
       "      <td>0</td>\n",
       "      <td>0</td>\n",
       "      <td>0</td>\n",
       "      <td>0</td>\n",
       "      <td>0</td>\n",
       "      <td>0</td>\n",
       "      <td>0</td>\n",
       "      <td>0</td>\n",
       "      <td>0</td>\n",
       "      <td>0</td>\n",
       "    </tr>\n",
       "    <tr>\n",
       "      <th>1</th>\n",
       "      <td>2</td>\n",
       "      <td>71</td>\n",
       "      <td>21</td>\n",
       "      <td>69.95</td>\n",
       "      <td>794</td>\n",
       "      <td>1</td>\n",
       "      <td>2</td>\n",
       "      <td>46.0</td>\n",
       "      <td>344</td>\n",
       "      <td>4</td>\n",
       "      <td>...</td>\n",
       "      <td>0</td>\n",
       "      <td>0</td>\n",
       "      <td>0</td>\n",
       "      <td>0</td>\n",
       "      <td>0</td>\n",
       "      <td>0</td>\n",
       "      <td>0</td>\n",
       "      <td>0</td>\n",
       "      <td>0</td>\n",
       "      <td>0</td>\n",
       "    </tr>\n",
       "    <tr>\n",
       "      <th>2</th>\n",
       "      <td>3</td>\n",
       "      <td>71</td>\n",
       "      <td>21</td>\n",
       "      <td>69.95</td>\n",
       "      <td>794</td>\n",
       "      <td>1</td>\n",
       "      <td>2</td>\n",
       "      <td>46.0</td>\n",
       "      <td>344</td>\n",
       "      <td>4</td>\n",
       "      <td>...</td>\n",
       "      <td>0</td>\n",
       "      <td>0</td>\n",
       "      <td>0</td>\n",
       "      <td>0</td>\n",
       "      <td>0</td>\n",
       "      <td>0</td>\n",
       "      <td>0</td>\n",
       "      <td>0</td>\n",
       "      <td>0</td>\n",
       "      <td>0</td>\n",
       "    </tr>\n",
       "    <tr>\n",
       "      <th>3</th>\n",
       "      <td>4</td>\n",
       "      <td>22</td>\n",
       "      <td>14</td>\n",
       "      <td>39.90</td>\n",
       "      <td>808</td>\n",
       "      <td>0</td>\n",
       "      <td>10</td>\n",
       "      <td>52.0</td>\n",
       "      <td>99</td>\n",
       "      <td>4</td>\n",
       "      <td>...</td>\n",
       "      <td>0</td>\n",
       "      <td>0</td>\n",
       "      <td>0</td>\n",
       "      <td>0</td>\n",
       "      <td>0</td>\n",
       "      <td>0</td>\n",
       "      <td>1</td>\n",
       "      <td>0</td>\n",
       "      <td>0</td>\n",
       "      <td>0</td>\n",
       "    </tr>\n",
       "    <tr>\n",
       "      <th>4</th>\n",
       "      <td>5</td>\n",
       "      <td>151</td>\n",
       "      <td>53</td>\n",
       "      <td>29.90</td>\n",
       "      <td>825</td>\n",
       "      <td>0</td>\n",
       "      <td>10</td>\n",
       "      <td>46.0</td>\n",
       "      <td>421</td>\n",
       "      <td>4</td>\n",
       "      <td>...</td>\n",
       "      <td>0</td>\n",
       "      <td>0</td>\n",
       "      <td>0</td>\n",
       "      <td>0</td>\n",
       "      <td>1</td>\n",
       "      <td>0</td>\n",
       "      <td>0</td>\n",
       "      <td>0</td>\n",
       "      <td>0</td>\n",
       "      <td>0</td>\n",
       "    </tr>\n",
       "  </tbody>\n",
       "</table>\n",
       "<p>5 rows × 66 columns</p>\n",
       "</div>"
      ],
      "text/plain": [
       "   orderItemID  itemID  manufacturerID  price  customerID  returnShipment  \\\n",
       "0            1     186              25  69.90         794               0   \n",
       "1            2      71              21  69.95         794               1   \n",
       "2            3      71              21  69.95         794               1   \n",
       "3            4      22              14  39.90         808               0   \n",
       "4            5     151              53  29.90         825               0   \n",
       "\n",
       "   shippingTime   age  accountAge  orderMonth  ...  state_Hesse  \\\n",
       "0             2  46.0         344           4  ...            0   \n",
       "1             2  46.0         344           4  ...            0   \n",
       "2             2  46.0         344           4  ...            0   \n",
       "3            10  52.0          99           4  ...            0   \n",
       "4            10  46.0         421           4  ...            0   \n",
       "\n",
       "   state_Lower Saxony  state_Mecklenburg-Western Pomerania  \\\n",
       "0                   0                                    0   \n",
       "1                   0                                    0   \n",
       "2                   0                                    0   \n",
       "3                   0                                    0   \n",
       "4                   0                                    0   \n",
       "\n",
       "   state_North Rhine-Westphalia  state_Rhineland-Palatinate  state_Saarland  \\\n",
       "0                             0                           0               0   \n",
       "1                             0                           0               0   \n",
       "2                             0                           0               0   \n",
       "3                             0                           0               0   \n",
       "4                             0                           1               0   \n",
       "\n",
       "   state_Saxony  state_Saxony-Anhalt  state_Schleswig-Holstein  \\\n",
       "0             0                    0                         0   \n",
       "1             0                    0                         0   \n",
       "2             0                    0                         0   \n",
       "3             1                    0                         0   \n",
       "4             0                    0                         0   \n",
       "\n",
       "   state_Thuringia  \n",
       "0                0  \n",
       "1                0  \n",
       "2                0  \n",
       "3                0  \n",
       "4                0  \n",
       "\n",
       "[5 rows x 66 columns]"
      ]
     },
     "execution_count": 91,
     "metadata": {},
     "output_type": "execute_result"
    }
   ],
   "source": [
    "#cek hasil\n",
    "df_temp.head()"
   ]
  },
  {
   "cell_type": "code",
   "execution_count": 92,
   "metadata": {
    "id": "5OSBgACTv1ce"
   },
   "outputs": [],
   "source": [
    "#membuat label untuk data target\n",
    "from sklearn import preprocessing\n",
    "le = preprocessing.LabelEncoder()\n",
    "le.fit(df_temp[\"returnShipment\"])\n",
    "Y = le.transform(df_temp[\"returnShipment\"]) "
   ]
  },
  {
   "cell_type": "code",
   "execution_count": 93,
   "metadata": {
    "id": "f1jwzsecwhIG"
   },
   "outputs": [],
   "source": [
    "#hapus data target pada dataset\n",
    "X = df_temp.drop(\"returnShipment\",axis=1)"
   ]
  },
  {
   "cell_type": "code",
   "execution_count": 94,
   "metadata": {
    "id": "Ff1S4iR1tFRr"
   },
   "outputs": [],
   "source": [
    "#simpan nama kolom untuk keperluan prediksi nanti \n",
    "import pickle\n",
    "with open('C:\\\\Users\\\\MoKha\\\\returnShipment_x_train_columns.pickle', 'wb') as fp:\n",
    "    pickle.dump(X, fp)"
   ]
  },
  {
   "cell_type": "code",
   "execution_count": 95,
   "metadata": {
    "id": "Cea1CE5mtFRs"
   },
   "outputs": [],
   "source": [
    "#menghapus atribut orderItemID karena tidak diperlukan dalam pembuatan model\n",
    "X = X.drop([\"orderItemID\"], axis = 1)"
   ]
  },
  {
   "cell_type": "code",
   "execution_count": 96,
   "metadata": {
    "id": "Cs6k6XjmxCA5"
   },
   "outputs": [],
   "source": [
    "#split data antara data train dan data test (80% data train, 20% data test)\n",
    "from sklearn.model_selection import train_test_split\n",
    "X_train,X_test,Y_train,Y_test=train_test_split(X,Y,test_size=0.2,random_state=123)"
   ]
  },
  {
   "cell_type": "markdown",
   "metadata": {
    "id": "tjtgUH81tFRs"
   },
   "source": [
    "### Pembuatan model dengan menggunakan Gaussian Naive Bayes"
   ]
  },
  {
   "cell_type": "code",
   "execution_count": 97,
   "metadata": {
    "colab": {
     "base_uri": "https://localhost:8080/"
    },
    "id": "jm8FT38qxPWr",
    "outputId": "ac21f8e2-1116-439c-9c7d-a3052038fa67"
   },
   "outputs": [
    {
     "name": "stdout",
     "output_type": "stream",
     "text": [
      "Akurasi 0.6347187145989878\n",
      "              precision    recall  f1-score   support\n",
      "\n",
      "           0       0.63      0.70      0.66     49723\n",
      "           1       0.64      0.57      0.60     46496\n",
      "\n",
      "    accuracy                           0.63     96219\n",
      "   macro avg       0.63      0.63      0.63     96219\n",
      "weighted avg       0.63      0.63      0.63     96219\n",
      "\n"
     ]
    }
   ],
   "source": [
    "from sklearn.naive_bayes import GaussianNB\n",
    "from sklearn.metrics import classification_report\n",
    "from sklearn.metrics import accuracy_score\n",
    "clf1 = GaussianNB()\n",
    "clf1.fit(X_train, Y_train)\n",
    "Y_pred = clf1.predict(X_test)\n",
    "acc = accuracy_score(Y_test, Y_pred)\n",
    "print(\"Akurasi {}\".format(acc))\n",
    "print(classification_report(Y_test, Y_pred))"
   ]
  },
  {
   "cell_type": "markdown",
   "metadata": {
    "id": "TRmVtriQtFRt"
   },
   "source": [
    "### Pembuatan model dengan menggunakan Decision Tree"
   ]
  },
  {
   "cell_type": "code",
   "execution_count": 98,
   "metadata": {
    "colab": {
     "base_uri": "https://localhost:8080/"
    },
    "id": "jYzJkEPrxdf5",
    "outputId": "4492603a-2aea-4c65-c101-4270ff520d19"
   },
   "outputs": [
    {
     "name": "stdout",
     "output_type": "stream",
     "text": [
      "Akurasi 0.69559026803438\n",
      "              precision    recall  f1-score   support\n",
      "\n",
      "           0       0.70      0.71      0.71     49723\n",
      "           1       0.69      0.68      0.68     46496\n",
      "\n",
      "    accuracy                           0.70     96219\n",
      "   macro avg       0.70      0.70      0.70     96219\n",
      "weighted avg       0.70      0.70      0.70     96219\n",
      "\n"
     ]
    }
   ],
   "source": [
    "from sklearn import tree\n",
    "clf2 = tree.DecisionTreeClassifier()\n",
    "clf2.fit(X_train, Y_train)\n",
    "Y_pred = clf2.predict(X_test)\n",
    "acc = accuracy_score(Y_test, Y_pred)\n",
    "print(\"Akurasi {}\".format(acc))\n",
    "print(classification_report(Y_test, Y_pred))"
   ]
  },
  {
   "cell_type": "markdown",
   "metadata": {
    "id": "DPaRUDo9tFRt"
   },
   "source": [
    "### Pembuatan model dengan menggunakan Random Forest"
   ]
  },
  {
   "cell_type": "code",
   "execution_count": 99,
   "metadata": {
    "colab": {
     "base_uri": "https://localhost:8080/"
    },
    "id": "typcbrRUxjyG",
    "outputId": "0fb49d97-7a7e-4115-f9b4-869ceec6965b"
   },
   "outputs": [
    {
     "name": "stdout",
     "output_type": "stream",
     "text": [
      "Akurasi 0.7626664172356811\n",
      "              precision    recall  f1-score   support\n",
      "\n",
      "           0       0.79      0.74      0.76     49723\n",
      "           1       0.74      0.79      0.76     46496\n",
      "\n",
      "    accuracy                           0.76     96219\n",
      "   macro avg       0.76      0.76      0.76     96219\n",
      "weighted avg       0.76      0.76      0.76     96219\n",
      "\n"
     ]
    }
   ],
   "source": [
    "from sklearn.ensemble import RandomForestClassifier\n",
    "clf3 = RandomForestClassifier(n_estimators=100, random_state=123, max_depth=10)\n",
    "clf3.fit(X_train, Y_train)\n",
    "Y_pred = clf3.predict(X_test)\n",
    "acc = accuracy_score(Y_test, Y_pred)\n",
    "print(\"Akurasi {}\".format(acc))\n",
    "print(classification_report(Y_test, Y_pred))"
   ]
  },
  {
   "cell_type": "code",
   "execution_count": 100,
   "metadata": {},
   "outputs": [
    {
     "data": {
      "text/html": [
       "<div>\n",
       "<style scoped>\n",
       "    .dataframe tbody tr th:only-of-type {\n",
       "        vertical-align: middle;\n",
       "    }\n",
       "\n",
       "    .dataframe tbody tr th {\n",
       "        vertical-align: top;\n",
       "    }\n",
       "\n",
       "    .dataframe thead th {\n",
       "        text-align: right;\n",
       "    }\n",
       "</style>\n",
       "<table border=\"1\" class=\"dataframe\">\n",
       "  <thead>\n",
       "    <tr style=\"text-align: right;\">\n",
       "      <th></th>\n",
       "      <th>importance</th>\n",
       "    </tr>\n",
       "  </thead>\n",
       "  <tbody>\n",
       "    <tr>\n",
       "      <th>noReturnPercenCus</th>\n",
       "      <td>0.371114</td>\n",
       "    </tr>\n",
       "    <tr>\n",
       "      <th>returnPercenCus</th>\n",
       "      <td>0.330970</td>\n",
       "    </tr>\n",
       "    <tr>\n",
       "      <th>shippingTime</th>\n",
       "      <td>0.070161</td>\n",
       "    </tr>\n",
       "    <tr>\n",
       "      <th>returnPercenItem</th>\n",
       "      <td>0.059505</td>\n",
       "    </tr>\n",
       "    <tr>\n",
       "      <th>noReturnPercenItem</th>\n",
       "      <td>0.057830</td>\n",
       "    </tr>\n",
       "    <tr>\n",
       "      <th>...</th>\n",
       "      <td>...</td>\n",
       "    </tr>\n",
       "    <tr>\n",
       "      <th>size_XXXS</th>\n",
       "      <td>0.000069</td>\n",
       "    </tr>\n",
       "    <tr>\n",
       "      <th>state_Mecklenburg-Western Pomerania</th>\n",
       "      <td>0.000067</td>\n",
       "    </tr>\n",
       "    <tr>\n",
       "      <th>size_XXXXL</th>\n",
       "      <td>0.000049</td>\n",
       "    </tr>\n",
       "    <tr>\n",
       "      <th>salutation_Company</th>\n",
       "      <td>0.000022</td>\n",
       "    </tr>\n",
       "    <tr>\n",
       "      <th>salutation_not reported</th>\n",
       "      <td>0.000019</td>\n",
       "    </tr>\n",
       "  </tbody>\n",
       "</table>\n",
       "<p>64 rows × 1 columns</p>\n",
       "</div>"
      ],
      "text/plain": [
       "                                     importance\n",
       "noReturnPercenCus                      0.371114\n",
       "returnPercenCus                        0.330970\n",
       "shippingTime                           0.070161\n",
       "returnPercenItem                       0.059505\n",
       "noReturnPercenItem                     0.057830\n",
       "...                                         ...\n",
       "size_XXXS                              0.000069\n",
       "state_Mecklenburg-Western Pomerania    0.000067\n",
       "size_XXXXL                             0.000049\n",
       "salutation_Company                     0.000022\n",
       "salutation_not reported                0.000019\n",
       "\n",
       "[64 rows x 1 columns]"
      ]
     },
     "execution_count": 100,
     "metadata": {},
     "output_type": "execute_result"
    }
   ],
   "source": [
    "feature_importances = pd.DataFrame(clf3.feature_importances_,index = X_train.columns, columns=['importance']).sort_values('importance',ascending=False)\n",
    "feature_importances"
   ]
  },
  {
   "cell_type": "markdown",
   "metadata": {
    "id": "Tue9tsd3tFRu"
   },
   "source": [
    "### Pembuatan model dengan menggunakan Xgboost"
   ]
  },
  {
   "cell_type": "code",
   "execution_count": 101,
   "metadata": {
    "id": "uKZGSsq65122"
   },
   "outputs": [],
   "source": [
    "from sklearn.metrics import accuracy_score\n",
    "from sklearn.metrics import classification_report"
   ]
  },
  {
   "cell_type": "code",
   "execution_count": 102,
   "metadata": {
    "colab": {
     "base_uri": "https://localhost:8080/"
    },
    "id": "fD86hAQXtFRu",
    "outputId": "06423892-6699-4a87-b761-a8f8d30002e7"
   },
   "outputs": [
    {
     "name": "stdout",
     "output_type": "stream",
     "text": [
      "Akurasi 0.7698687369438468\n",
      "              precision    recall  f1-score   support\n",
      "\n",
      "           0       0.80      0.74      0.77     49723\n",
      "           1       0.74      0.80      0.77     46496\n",
      "\n",
      "    accuracy                           0.77     96219\n",
      "   macro avg       0.77      0.77      0.77     96219\n",
      "weighted avg       0.77      0.77      0.77     96219\n",
      "\n"
     ]
    }
   ],
   "source": [
    "import xgboost as xgb\n",
    "#clf4 = xgb.XGBClassifier(objective = \"binary:logistic\", eval_metric = \"mlogloss\", max_depth = 24, gamma=0.1, subsample = 0.90,learning_rate=0.01, n_estimators = 10, nthread=-1)\n",
    "clf4=xgb.XGBClassifier(max_depth=10, learning_rate=0.1, gamma=0.1, n_estimators=100, objective='binary:logistic', booster='dart', colsample_bytree=0.7, colsample_bylevel=0.8, colsample_bynode=0.8, normalize_type='forest', sample_type='weighted', tree_method='gpu_hist', sampling_method='gradient_based')\n",
    "# num_class adalah jumlah kelas\n",
    "clf4.fit(X_train, Y_train)\n",
    "Y_pred = clf4.predict(X_test)\n",
    "acc = accuracy_score(Y_test, Y_pred)\n",
    "print(\"Akurasi {}\".format(acc))\n",
    "print(classification_report(Y_test, Y_pred))"
   ]
  },
  {
   "cell_type": "code",
   "execution_count": 103,
   "metadata": {},
   "outputs": [
    {
     "data": {
      "text/html": [
       "<div>\n",
       "<style scoped>\n",
       "    .dataframe tbody tr th:only-of-type {\n",
       "        vertical-align: middle;\n",
       "    }\n",
       "\n",
       "    .dataframe tbody tr th {\n",
       "        vertical-align: top;\n",
       "    }\n",
       "\n",
       "    .dataframe thead th {\n",
       "        text-align: right;\n",
       "    }\n",
       "</style>\n",
       "<table border=\"1\" class=\"dataframe\">\n",
       "  <thead>\n",
       "    <tr style=\"text-align: right;\">\n",
       "      <th></th>\n",
       "      <th>importance</th>\n",
       "    </tr>\n",
       "  </thead>\n",
       "  <tbody>\n",
       "    <tr>\n",
       "      <th>returnPercenCus</th>\n",
       "      <td>0.280043</td>\n",
       "    </tr>\n",
       "    <tr>\n",
       "      <th>noReturnPercenCus</th>\n",
       "      <td>0.246345</td>\n",
       "    </tr>\n",
       "    <tr>\n",
       "      <th>shippingTime</th>\n",
       "      <td>0.073541</td>\n",
       "    </tr>\n",
       "    <tr>\n",
       "      <th>returnPercenItem</th>\n",
       "      <td>0.063012</td>\n",
       "    </tr>\n",
       "    <tr>\n",
       "      <th>noReturnPercenItem</th>\n",
       "      <td>0.039107</td>\n",
       "    </tr>\n",
       "    <tr>\n",
       "      <th>...</th>\n",
       "      <td>...</td>\n",
       "    </tr>\n",
       "    <tr>\n",
       "      <th>size_L</th>\n",
       "      <td>0.003943</td>\n",
       "    </tr>\n",
       "    <tr>\n",
       "      <th>state_Baden-Wuerttemberg</th>\n",
       "      <td>0.003887</td>\n",
       "    </tr>\n",
       "    <tr>\n",
       "      <th>size_XXXXL</th>\n",
       "      <td>0.003692</td>\n",
       "    </tr>\n",
       "    <tr>\n",
       "      <th>state_North Rhine-Westphalia</th>\n",
       "      <td>0.003429</td>\n",
       "    </tr>\n",
       "    <tr>\n",
       "      <th>salutation_not reported</th>\n",
       "      <td>0.001528</td>\n",
       "    </tr>\n",
       "  </tbody>\n",
       "</table>\n",
       "<p>64 rows × 1 columns</p>\n",
       "</div>"
      ],
      "text/plain": [
       "                              importance\n",
       "returnPercenCus                 0.280043\n",
       "noReturnPercenCus               0.246345\n",
       "shippingTime                    0.073541\n",
       "returnPercenItem                0.063012\n",
       "noReturnPercenItem              0.039107\n",
       "...                                  ...\n",
       "size_L                          0.003943\n",
       "state_Baden-Wuerttemberg        0.003887\n",
       "size_XXXXL                      0.003692\n",
       "state_North Rhine-Westphalia    0.003429\n",
       "salutation_not reported         0.001528\n",
       "\n",
       "[64 rows x 1 columns]"
      ]
     },
     "execution_count": 103,
     "metadata": {},
     "output_type": "execute_result"
    }
   ],
   "source": [
    "feature_importances = pd.DataFrame(clf4.feature_importances_,index = X_train.columns, columns=['importance']).sort_values('importance',ascending=False)\n",
    "feature_importances"
   ]
  },
  {
   "cell_type": "code",
   "execution_count": 104,
   "metadata": {
    "id": "eIk2xieEtFRv",
    "outputId": "a71ef249-0a0b-43b6-ca28-e755cc666a65"
   },
   "outputs": [
    {
     "name": "stdout",
     "output_type": "stream",
     "text": [
      "[[36857 12866]\n",
      " [ 9277 37219]]\n"
     ]
    }
   ],
   "source": [
    "#cek matrix confusionnya\n",
    "from sklearn.metrics import confusion_matrix\n",
    "print(confusion_matrix(Y_test, Y_pred))"
   ]
  },
  {
   "cell_type": "markdown",
   "metadata": {
    "id": "QGP044x6tFRv"
   },
   "source": [
    "Setelah dilakukan pembuatan model didapatkan bahwa model Xgboost merupakan model terbaik dengan akurasi sebesar 76.9% sehingga model ini yang akan digunakan untuk prediksi"
   ]
  },
  {
   "cell_type": "code",
   "execution_count": 105,
   "metadata": {
    "colab": {
     "base_uri": "https://localhost:8080/"
    },
    "id": "fNONRM-FtFRv",
    "outputId": "01714161-d8f8-4110-99d2-fecc7488c73b"
   },
   "outputs": [
    {
     "data": {
      "text/plain": [
       "['D:/Kuliah/UPI/SEMESTER 3/Data Mining dan Warehouse/xgb_orders.joblib']"
      ]
     },
     "execution_count": 105,
     "metadata": {},
     "output_type": "execute_result"
    }
   ],
   "source": [
    "#export model\n",
    "import joblib\n",
    "joblib.dump(clf4, 'D:/Kuliah/UPI/SEMESTER 3/Data Mining dan Warehouse/xgb_orders.joblib')"
   ]
  },
  {
   "cell_type": "markdown",
   "metadata": {
    "id": "2W7NXh5UtFRw"
   },
   "source": [
    "# Prediksi Data Class\n",
    "setelah selesai membuat modul selanjutnya lakukan prediksi pada data class, sebelumnya praproses terlebih dahulu untuk data classnya (sehingga sama seperti data train)"
   ]
  },
  {
   "cell_type": "code",
   "execution_count": 106,
   "metadata": {
    "id": "3LoYnl0StFRw"
   },
   "outputs": [],
   "source": [
    "#load data class\n",
    "df_pred = pd.read_csv(\"C:/Users/MoKha/class_bersih.csv\")"
   ]
  },
  {
   "cell_type": "code",
   "execution_count": 107,
   "metadata": {
    "id": "FTHf5ebotFRw"
   },
   "outputs": [
    {
     "data": {
      "text/html": [
       "<div>\n",
       "<style scoped>\n",
       "    .dataframe tbody tr th:only-of-type {\n",
       "        vertical-align: middle;\n",
       "    }\n",
       "\n",
       "    .dataframe tbody tr th {\n",
       "        vertical-align: top;\n",
       "    }\n",
       "\n",
       "    .dataframe thead th {\n",
       "        text-align: right;\n",
       "    }\n",
       "</style>\n",
       "<table border=\"1\" class=\"dataframe\">\n",
       "  <thead>\n",
       "    <tr style=\"text-align: right;\">\n",
       "      <th></th>\n",
       "      <th>orderItemID</th>\n",
       "      <th>itemID</th>\n",
       "      <th>size</th>\n",
       "      <th>color</th>\n",
       "      <th>manufacturerID</th>\n",
       "      <th>price</th>\n",
       "      <th>customerID</th>\n",
       "      <th>salutation</th>\n",
       "      <th>state</th>\n",
       "      <th>shippingTime</th>\n",
       "      <th>...</th>\n",
       "      <th>noReturnPercenMan</th>\n",
       "      <th>returnPercenMan</th>\n",
       "      <th>noReturnPercenItem</th>\n",
       "      <th>returnPercenItem</th>\n",
       "      <th>noReturnPercenState</th>\n",
       "      <th>returnPercenState</th>\n",
       "      <th>noReturnPercenCus</th>\n",
       "      <th>returnPercenCus</th>\n",
       "      <th>noReturnPercenSize</th>\n",
       "      <th>returnPercenSize</th>\n",
       "    </tr>\n",
       "  </thead>\n",
       "  <tbody>\n",
       "    <tr>\n",
       "      <th>0</th>\n",
       "      <td>1</td>\n",
       "      <td>2347</td>\n",
       "      <td>XL</td>\n",
       "      <td>purple</td>\n",
       "      <td>1</td>\n",
       "      <td>89.9</td>\n",
       "      <td>12489</td>\n",
       "      <td>Mrs</td>\n",
       "      <td>Hesse</td>\n",
       "      <td>2</td>\n",
       "      <td>...</td>\n",
       "      <td>0.48</td>\n",
       "      <td>0.52</td>\n",
       "      <td>0.54</td>\n",
       "      <td>0.46</td>\n",
       "      <td>0.52</td>\n",
       "      <td>0.48</td>\n",
       "      <td>0.67</td>\n",
       "      <td>0.33</td>\n",
       "      <td>0.51</td>\n",
       "      <td>0.49</td>\n",
       "    </tr>\n",
       "    <tr>\n",
       "      <th>1</th>\n",
       "      <td>2</td>\n",
       "      <td>2741</td>\n",
       "      <td>XL</td>\n",
       "      <td>grey</td>\n",
       "      <td>1</td>\n",
       "      <td>99.9</td>\n",
       "      <td>12489</td>\n",
       "      <td>Mrs</td>\n",
       "      <td>Hesse</td>\n",
       "      <td>2</td>\n",
       "      <td>...</td>\n",
       "      <td>0.48</td>\n",
       "      <td>0.52</td>\n",
       "      <td>0.40</td>\n",
       "      <td>0.60</td>\n",
       "      <td>0.52</td>\n",
       "      <td>0.48</td>\n",
       "      <td>0.67</td>\n",
       "      <td>0.33</td>\n",
       "      <td>0.51</td>\n",
       "      <td>0.49</td>\n",
       "    </tr>\n",
       "    <tr>\n",
       "      <th>2</th>\n",
       "      <td>3</td>\n",
       "      <td>2514</td>\n",
       "      <td>S</td>\n",
       "      <td>grey</td>\n",
       "      <td>19</td>\n",
       "      <td>79.9</td>\n",
       "      <td>12489</td>\n",
       "      <td>Mrs</td>\n",
       "      <td>Hesse</td>\n",
       "      <td>2</td>\n",
       "      <td>...</td>\n",
       "      <td>0.49</td>\n",
       "      <td>0.51</td>\n",
       "      <td>0.35</td>\n",
       "      <td>0.65</td>\n",
       "      <td>0.52</td>\n",
       "      <td>0.48</td>\n",
       "      <td>0.67</td>\n",
       "      <td>0.33</td>\n",
       "      <td>0.50</td>\n",
       "      <td>0.50</td>\n",
       "    </tr>\n",
       "    <tr>\n",
       "      <th>3</th>\n",
       "      <td>4</td>\n",
       "      <td>2347</td>\n",
       "      <td>XL</td>\n",
       "      <td>brown</td>\n",
       "      <td>1</td>\n",
       "      <td>89.9</td>\n",
       "      <td>12489</td>\n",
       "      <td>Mrs</td>\n",
       "      <td>Hesse</td>\n",
       "      <td>35</td>\n",
       "      <td>...</td>\n",
       "      <td>0.48</td>\n",
       "      <td>0.52</td>\n",
       "      <td>0.54</td>\n",
       "      <td>0.46</td>\n",
       "      <td>0.52</td>\n",
       "      <td>0.48</td>\n",
       "      <td>0.67</td>\n",
       "      <td>0.33</td>\n",
       "      <td>0.51</td>\n",
       "      <td>0.49</td>\n",
       "    </tr>\n",
       "    <tr>\n",
       "      <th>4</th>\n",
       "      <td>5</td>\n",
       "      <td>2690</td>\n",
       "      <td>XL</td>\n",
       "      <td>grey</td>\n",
       "      <td>1</td>\n",
       "      <td>119.9</td>\n",
       "      <td>12489</td>\n",
       "      <td>Mrs</td>\n",
       "      <td>Hesse</td>\n",
       "      <td>16</td>\n",
       "      <td>...</td>\n",
       "      <td>0.48</td>\n",
       "      <td>0.52</td>\n",
       "      <td>0.47</td>\n",
       "      <td>0.53</td>\n",
       "      <td>0.52</td>\n",
       "      <td>0.48</td>\n",
       "      <td>0.67</td>\n",
       "      <td>0.33</td>\n",
       "      <td>0.51</td>\n",
       "      <td>0.49</td>\n",
       "    </tr>\n",
       "  </tbody>\n",
       "</table>\n",
       "<p>5 rows × 26 columns</p>\n",
       "</div>"
      ],
      "text/plain": [
       "   orderItemID  itemID size   color  manufacturerID  price  customerID  \\\n",
       "0            1    2347   XL  purple               1   89.9       12489   \n",
       "1            2    2741   XL    grey               1   99.9       12489   \n",
       "2            3    2514    S    grey              19   79.9       12489   \n",
       "3            4    2347   XL   brown               1   89.9       12489   \n",
       "4            5    2690   XL    grey               1  119.9       12489   \n",
       "\n",
       "  salutation  state  shippingTime  ...  noReturnPercenMan  returnPercenMan  \\\n",
       "0        Mrs  Hesse             2  ...               0.48             0.52   \n",
       "1        Mrs  Hesse             2  ...               0.48             0.52   \n",
       "2        Mrs  Hesse             2  ...               0.49             0.51   \n",
       "3        Mrs  Hesse            35  ...               0.48             0.52   \n",
       "4        Mrs  Hesse            16  ...               0.48             0.52   \n",
       "\n",
       "   noReturnPercenItem  returnPercenItem  noReturnPercenState  \\\n",
       "0                0.54              0.46                 0.52   \n",
       "1                0.40              0.60                 0.52   \n",
       "2                0.35              0.65                 0.52   \n",
       "3                0.54              0.46                 0.52   \n",
       "4                0.47              0.53                 0.52   \n",
       "\n",
       "   returnPercenState  noReturnPercenCus  returnPercenCus  noReturnPercenSize  \\\n",
       "0               0.48               0.67             0.33                0.51   \n",
       "1               0.48               0.67             0.33                0.51   \n",
       "2               0.48               0.67             0.33                0.50   \n",
       "3               0.48               0.67             0.33                0.51   \n",
       "4               0.48               0.67             0.33                0.51   \n",
       "\n",
       "   returnPercenSize  \n",
       "0              0.49  \n",
       "1              0.49  \n",
       "2              0.50  \n",
       "3              0.49  \n",
       "4              0.49  \n",
       "\n",
       "[5 rows x 26 columns]"
      ]
     },
     "execution_count": 107,
     "metadata": {},
     "output_type": "execute_result"
    }
   ],
   "source": [
    "#cek data class\n",
    "df_pred.head()"
   ]
  },
  {
   "cell_type": "code",
   "execution_count": 108,
   "metadata": {
    "id": "tMUUFEe5tFRx"
   },
   "outputs": [],
   "source": [
    "#encoding atribut bertipe kategori\n",
    "df_pred = pd.get_dummies(data=df_pred, columns=['size', 'color', 'salutation', 'state'])"
   ]
  },
  {
   "cell_type": "code",
   "execution_count": 109,
   "metadata": {
    "id": "ICb5FoPXtFRx"
   },
   "outputs": [],
   "source": [
    "#buka file berisi nama kolom yang sebelumnya telah disimpan saat proses training\n",
    "import pickle\n",
    "with open ('C:\\\\Users\\\\MoKha\\\\returnShipment_x_train_columns.pickle', 'rb') as fp:\n",
    "    X_train_column = list(pickle.load(fp))"
   ]
  },
  {
   "cell_type": "code",
   "execution_count": 110,
   "metadata": {
    "id": "2tAO2GVftFRx"
   },
   "outputs": [],
   "source": [
    "df_pred = df_pred[X_train_column]"
   ]
  },
  {
   "cell_type": "code",
   "execution_count": 111,
   "metadata": {
    "id": "Z67hJrmktFRx"
   },
   "outputs": [],
   "source": [
    "#mengambil atribut orderItemID agar atribut dapat dihapus dan tidak masuk ke proses prediksi\n",
    "df_copy = df_pred['orderItemID'].copy()"
   ]
  },
  {
   "cell_type": "code",
   "execution_count": 112,
   "metadata": {
    "id": "JRiFGIsqtFRx"
   },
   "outputs": [],
   "source": [
    "df_pred.drop([\"orderItemID\"], axis = 1, inplace = True)"
   ]
  },
  {
   "cell_type": "code",
   "execution_count": 113,
   "metadata": {
    "id": "SJHI1l7RtFRy"
   },
   "outputs": [],
   "source": [
    "#proses prediksi dengan menggunakan model yang sebelumnya telah dibuat\n",
    "import joblib\n",
    "clf3 = joblib.load(\"D:\\\\Kuliah\\\\UPI\\\\SEMESTER 3\\\\Data Mining dan Warehouse\\\\xgb_orders.joblib\")\n",
    "df_pred['prediction'] = clf3.predict(df_pred)"
   ]
  },
  {
   "cell_type": "code",
   "execution_count": 114,
   "metadata": {
    "id": "90qnljTEtFRy"
   },
   "outputs": [],
   "source": [
    "#Menggabungkan pred dengan copy (berisi atribut orderItemID)\n",
    "df_pred = pd.concat([df_copy, df_pred], axis=1)"
   ]
  },
  {
   "cell_type": "code",
   "execution_count": 115,
   "metadata": {
    "id": "pfxzj2cFtFRy",
    "outputId": "71d9569c-220a-4e77-c9cd-d5c80c921836"
   },
   "outputs": [
    {
     "data": {
      "text/html": [
       "<div>\n",
       "<style scoped>\n",
       "    .dataframe tbody tr th:only-of-type {\n",
       "        vertical-align: middle;\n",
       "    }\n",
       "\n",
       "    .dataframe tbody tr th {\n",
       "        vertical-align: top;\n",
       "    }\n",
       "\n",
       "    .dataframe thead th {\n",
       "        text-align: right;\n",
       "    }\n",
       "</style>\n",
       "<table border=\"1\" class=\"dataframe\">\n",
       "  <thead>\n",
       "    <tr style=\"text-align: right;\">\n",
       "      <th></th>\n",
       "      <th>orderItemID</th>\n",
       "      <th>itemID</th>\n",
       "      <th>manufacturerID</th>\n",
       "      <th>price</th>\n",
       "      <th>customerID</th>\n",
       "      <th>shippingTime</th>\n",
       "      <th>age</th>\n",
       "      <th>accountAge</th>\n",
       "      <th>orderMonth</th>\n",
       "      <th>deliveryRatio</th>\n",
       "      <th>...</th>\n",
       "      <th>state_Lower Saxony</th>\n",
       "      <th>state_Mecklenburg-Western Pomerania</th>\n",
       "      <th>state_North Rhine-Westphalia</th>\n",
       "      <th>state_Rhineland-Palatinate</th>\n",
       "      <th>state_Saarland</th>\n",
       "      <th>state_Saxony</th>\n",
       "      <th>state_Saxony-Anhalt</th>\n",
       "      <th>state_Schleswig-Holstein</th>\n",
       "      <th>state_Thuringia</th>\n",
       "      <th>prediction</th>\n",
       "    </tr>\n",
       "  </thead>\n",
       "  <tbody>\n",
       "    <tr>\n",
       "      <th>0</th>\n",
       "      <td>1</td>\n",
       "      <td>2347</td>\n",
       "      <td>1</td>\n",
       "      <td>89.9</td>\n",
       "      <td>12489</td>\n",
       "      <td>2</td>\n",
       "      <td>49</td>\n",
       "      <td>345</td>\n",
       "      <td>4</td>\n",
       "      <td>0.096525</td>\n",
       "      <td>...</td>\n",
       "      <td>0</td>\n",
       "      <td>0</td>\n",
       "      <td>0</td>\n",
       "      <td>0</td>\n",
       "      <td>0</td>\n",
       "      <td>0</td>\n",
       "      <td>0</td>\n",
       "      <td>0</td>\n",
       "      <td>0</td>\n",
       "      <td>0</td>\n",
       "    </tr>\n",
       "    <tr>\n",
       "      <th>1</th>\n",
       "      <td>2</td>\n",
       "      <td>2741</td>\n",
       "      <td>1</td>\n",
       "      <td>99.9</td>\n",
       "      <td>12489</td>\n",
       "      <td>2</td>\n",
       "      <td>49</td>\n",
       "      <td>345</td>\n",
       "      <td>4</td>\n",
       "      <td>0.430108</td>\n",
       "      <td>...</td>\n",
       "      <td>0</td>\n",
       "      <td>0</td>\n",
       "      <td>0</td>\n",
       "      <td>0</td>\n",
       "      <td>0</td>\n",
       "      <td>0</td>\n",
       "      <td>0</td>\n",
       "      <td>0</td>\n",
       "      <td>0</td>\n",
       "      <td>0</td>\n",
       "    </tr>\n",
       "    <tr>\n",
       "      <th>2</th>\n",
       "      <td>3</td>\n",
       "      <td>2514</td>\n",
       "      <td>19</td>\n",
       "      <td>79.9</td>\n",
       "      <td>12489</td>\n",
       "      <td>2</td>\n",
       "      <td>49</td>\n",
       "      <td>345</td>\n",
       "      <td>4</td>\n",
       "      <td>0.261097</td>\n",
       "      <td>...</td>\n",
       "      <td>0</td>\n",
       "      <td>0</td>\n",
       "      <td>0</td>\n",
       "      <td>0</td>\n",
       "      <td>0</td>\n",
       "      <td>0</td>\n",
       "      <td>0</td>\n",
       "      <td>0</td>\n",
       "      <td>0</td>\n",
       "      <td>1</td>\n",
       "    </tr>\n",
       "    <tr>\n",
       "      <th>3</th>\n",
       "      <td>4</td>\n",
       "      <td>2347</td>\n",
       "      <td>1</td>\n",
       "      <td>89.9</td>\n",
       "      <td>12489</td>\n",
       "      <td>35</td>\n",
       "      <td>49</td>\n",
       "      <td>378</td>\n",
       "      <td>4</td>\n",
       "      <td>1.689189</td>\n",
       "      <td>...</td>\n",
       "      <td>0</td>\n",
       "      <td>0</td>\n",
       "      <td>0</td>\n",
       "      <td>0</td>\n",
       "      <td>0</td>\n",
       "      <td>0</td>\n",
       "      <td>0</td>\n",
       "      <td>0</td>\n",
       "      <td>0</td>\n",
       "      <td>0</td>\n",
       "    </tr>\n",
       "    <tr>\n",
       "      <th>4</th>\n",
       "      <td>5</td>\n",
       "      <td>2690</td>\n",
       "      <td>1</td>\n",
       "      <td>119.9</td>\n",
       "      <td>12489</td>\n",
       "      <td>16</td>\n",
       "      <td>49</td>\n",
       "      <td>359</td>\n",
       "      <td>4</td>\n",
       "      <td>2.272727</td>\n",
       "      <td>...</td>\n",
       "      <td>0</td>\n",
       "      <td>0</td>\n",
       "      <td>0</td>\n",
       "      <td>0</td>\n",
       "      <td>0</td>\n",
       "      <td>0</td>\n",
       "      <td>0</td>\n",
       "      <td>0</td>\n",
       "      <td>0</td>\n",
       "      <td>0</td>\n",
       "    </tr>\n",
       "  </tbody>\n",
       "</table>\n",
       "<p>5 rows × 66 columns</p>\n",
       "</div>"
      ],
      "text/plain": [
       "   orderItemID  itemID  manufacturerID  price  customerID  shippingTime  age  \\\n",
       "0            1    2347               1   89.9       12489             2   49   \n",
       "1            2    2741               1   99.9       12489             2   49   \n",
       "2            3    2514              19   79.9       12489             2   49   \n",
       "3            4    2347               1   89.9       12489            35   49   \n",
       "4            5    2690               1  119.9       12489            16   49   \n",
       "\n",
       "   accountAge  orderMonth  deliveryRatio  ...  state_Lower Saxony  \\\n",
       "0         345           4       0.096525  ...                   0   \n",
       "1         345           4       0.430108  ...                   0   \n",
       "2         345           4       0.261097  ...                   0   \n",
       "3         378           4       1.689189  ...                   0   \n",
       "4         359           4       2.272727  ...                   0   \n",
       "\n",
       "   state_Mecklenburg-Western Pomerania  state_North Rhine-Westphalia  \\\n",
       "0                                    0                             0   \n",
       "1                                    0                             0   \n",
       "2                                    0                             0   \n",
       "3                                    0                             0   \n",
       "4                                    0                             0   \n",
       "\n",
       "   state_Rhineland-Palatinate  state_Saarland  state_Saxony  \\\n",
       "0                           0               0             0   \n",
       "1                           0               0             0   \n",
       "2                           0               0             0   \n",
       "3                           0               0             0   \n",
       "4                           0               0             0   \n",
       "\n",
       "   state_Saxony-Anhalt  state_Schleswig-Holstein  state_Thuringia  prediction  \n",
       "0                    0                         0                0           0  \n",
       "1                    0                         0                0           0  \n",
       "2                    0                         0                0           1  \n",
       "3                    0                         0                0           0  \n",
       "4                    0                         0                0           0  \n",
       "\n",
       "[5 rows x 66 columns]"
      ]
     },
     "execution_count": 115,
     "metadata": {},
     "output_type": "execute_result"
    }
   ],
   "source": [
    "#cek hasil\n",
    "df_pred.head(5)"
   ]
  },
  {
   "cell_type": "code",
   "execution_count": 116,
   "metadata": {
    "id": "ZXKUzlbytFRy"
   },
   "outputs": [],
   "source": [
    "#pisahkan atribut yang dibutuhkan untuk diubah menjadi txt\n",
    "df_pred2 = df_pred[['orderItemID', 'prediction']].copy()"
   ]
  },
  {
   "cell_type": "code",
   "execution_count": 117,
   "metadata": {
    "id": "D8GX2EzEtFRy"
   },
   "outputs": [],
   "source": [
    "#import data ke txt\n",
    "np.savetxt(r'D:\\Kuliah\\UPI\\SEMESTER 3\\Data Mining dan Warehouse\\order_class.txt', df_pred2, fmt='%d')"
   ]
  }
 ],
 "metadata": {
  "accelerator": "TPU",
  "colab": {
   "provenance": []
  },
  "gpuClass": "standard",
  "kernelspec": {
   "display_name": "Python 3 (ipykernel)",
   "language": "python",
   "name": "python3"
  },
  "language_info": {
   "codemirror_mode": {
    "name": "ipython",
    "version": 3
   },
   "file_extension": ".py",
   "mimetype": "text/x-python",
   "name": "python",
   "nbconvert_exporter": "python",
   "pygments_lexer": "ipython3",
   "version": "3.9.12"
  }
 },
 "nbformat": 4,
 "nbformat_minor": 1
}
